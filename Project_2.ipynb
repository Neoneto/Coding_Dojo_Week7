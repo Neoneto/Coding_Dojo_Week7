{
  "nbformat": 4,
  "nbformat_minor": 0,
  "metadata": {
    "colab": {
      "name": "Project 2",
      "provenance": [],
      "authorship_tag": "ABX9TyPU/nwS1ecjsZSix/T8rFrD",
      "include_colab_link": true
    },
    "kernelspec": {
      "name": "python3",
      "display_name": "Python 3"
    },
    "language_info": {
      "name": "python"
    }
  },
  "cells": [
    {
      "cell_type": "markdown",
      "metadata": {
        "id": "view-in-github",
        "colab_type": "text"
      },
      "source": [
        "<a href=\"https://colab.research.google.com/github/Neoneto/Coding_Dojo_Week7/blob/main/Project_2.ipynb\" target=\"_parent\"><img src=\"https://colab.research.google.com/assets/colab-badge.svg\" alt=\"Open In Colab\"/></a>"
      ]
    },
    {
      "cell_type": "markdown",
      "source": [
        "#Project 2\n",
        "Submitted by Kenneth Alaba"
      ],
      "metadata": {
        "id": "0KAaBC4b0m-e"
      }
    },
    {
      "cell_type": "markdown",
      "source": [
        "# Part 1\n",
        "Proposing Datasets"
      ],
      "metadata": {
        "id": "ArVuPeI50qtU"
      }
    },
    {
      "cell_type": "code",
      "execution_count": 79,
      "metadata": {
        "colab": {
          "base_uri": "https://localhost:8080/"
        },
        "id": "yQwpEQD90l8f",
        "outputId": "3e29c914-d74d-4fa6-cdd8-a9a9aa3fb408"
      },
      "outputs": [
        {
          "output_type": "stream",
          "name": "stdout",
          "text": [
            "Drive already mounted at /content/drive; to attempt to forcibly remount, call drive.mount(\"/content/drive\", force_remount=True).\n"
          ]
        }
      ],
      "source": [
        "# import libraries\n",
        "import pandas as pd\n",
        "import numpy as np\n",
        "import matplotlib.pyplot as plt\n",
        "\n",
        "## Mounting Google Drive\n",
        "from google.colab import drive\n",
        "drive.mount('/content/drive')"
      ]
    },
    {
      "cell_type": "markdown",
      "source": [
        "## Energy Efficiency Dataset"
      ],
      "metadata": {
        "id": "6Ra5irf41Y7a"
      }
    },
    {
      "cell_type": "code",
      "source": [
        "# Load the data\n",
        "\n",
        "## Opening the file\n",
        "filename_energy = '/content/drive/My Drive/Coding Dojo/07 Week 7: Classification Models/ENB2012_data.xlsx'\n",
        "\n",
        "## Storing the data in df\n",
        "df_energy = pd.read_excel(filename_energy, )\n",
        "\n",
        "# display first few rows\n",
        "df_energy.head()\n",
        "\n"
      ],
      "metadata": {
        "colab": {
          "base_uri": "https://localhost:8080/",
          "height": 0
        },
        "id": "8g76_zk_09Us",
        "outputId": "eeba51f6-7792-4db8-d5b1-1c64eb92b288"
      },
      "execution_count": 80,
      "outputs": [
        {
          "output_type": "execute_result",
          "data": {
            "text/html": [
              "\n",
              "  <div id=\"df-a8955054-767e-4689-8e6e-a14b47594705\">\n",
              "    <div class=\"colab-df-container\">\n",
              "      <div>\n",
              "<style scoped>\n",
              "    .dataframe tbody tr th:only-of-type {\n",
              "        vertical-align: middle;\n",
              "    }\n",
              "\n",
              "    .dataframe tbody tr th {\n",
              "        vertical-align: top;\n",
              "    }\n",
              "\n",
              "    .dataframe thead th {\n",
              "        text-align: right;\n",
              "    }\n",
              "</style>\n",
              "<table border=\"1\" class=\"dataframe\">\n",
              "  <thead>\n",
              "    <tr style=\"text-align: right;\">\n",
              "      <th></th>\n",
              "      <th>X1</th>\n",
              "      <th>X2</th>\n",
              "      <th>X3</th>\n",
              "      <th>X4</th>\n",
              "      <th>X5</th>\n",
              "      <th>X6</th>\n",
              "      <th>X7</th>\n",
              "      <th>X8</th>\n",
              "      <th>Y1</th>\n",
              "      <th>Y2</th>\n",
              "    </tr>\n",
              "  </thead>\n",
              "  <tbody>\n",
              "    <tr>\n",
              "      <th>0</th>\n",
              "      <td>0.98</td>\n",
              "      <td>514.5</td>\n",
              "      <td>294.0</td>\n",
              "      <td>110.25</td>\n",
              "      <td>7.0</td>\n",
              "      <td>2</td>\n",
              "      <td>0.0</td>\n",
              "      <td>0</td>\n",
              "      <td>15.55</td>\n",
              "      <td>21.33</td>\n",
              "    </tr>\n",
              "    <tr>\n",
              "      <th>1</th>\n",
              "      <td>0.98</td>\n",
              "      <td>514.5</td>\n",
              "      <td>294.0</td>\n",
              "      <td>110.25</td>\n",
              "      <td>7.0</td>\n",
              "      <td>3</td>\n",
              "      <td>0.0</td>\n",
              "      <td>0</td>\n",
              "      <td>15.55</td>\n",
              "      <td>21.33</td>\n",
              "    </tr>\n",
              "    <tr>\n",
              "      <th>2</th>\n",
              "      <td>0.98</td>\n",
              "      <td>514.5</td>\n",
              "      <td>294.0</td>\n",
              "      <td>110.25</td>\n",
              "      <td>7.0</td>\n",
              "      <td>4</td>\n",
              "      <td>0.0</td>\n",
              "      <td>0</td>\n",
              "      <td>15.55</td>\n",
              "      <td>21.33</td>\n",
              "    </tr>\n",
              "    <tr>\n",
              "      <th>3</th>\n",
              "      <td>0.98</td>\n",
              "      <td>514.5</td>\n",
              "      <td>294.0</td>\n",
              "      <td>110.25</td>\n",
              "      <td>7.0</td>\n",
              "      <td>5</td>\n",
              "      <td>0.0</td>\n",
              "      <td>0</td>\n",
              "      <td>15.55</td>\n",
              "      <td>21.33</td>\n",
              "    </tr>\n",
              "    <tr>\n",
              "      <th>4</th>\n",
              "      <td>0.90</td>\n",
              "      <td>563.5</td>\n",
              "      <td>318.5</td>\n",
              "      <td>122.50</td>\n",
              "      <td>7.0</td>\n",
              "      <td>2</td>\n",
              "      <td>0.0</td>\n",
              "      <td>0</td>\n",
              "      <td>20.84</td>\n",
              "      <td>28.28</td>\n",
              "    </tr>\n",
              "  </tbody>\n",
              "</table>\n",
              "</div>\n",
              "      <button class=\"colab-df-convert\" onclick=\"convertToInteractive('df-a8955054-767e-4689-8e6e-a14b47594705')\"\n",
              "              title=\"Convert this dataframe to an interactive table.\"\n",
              "              style=\"display:none;\">\n",
              "        \n",
              "  <svg xmlns=\"http://www.w3.org/2000/svg\" height=\"24px\"viewBox=\"0 0 24 24\"\n",
              "       width=\"24px\">\n",
              "    <path d=\"M0 0h24v24H0V0z\" fill=\"none\"/>\n",
              "    <path d=\"M18.56 5.44l.94 2.06.94-2.06 2.06-.94-2.06-.94-.94-2.06-.94 2.06-2.06.94zm-11 1L8.5 8.5l.94-2.06 2.06-.94-2.06-.94L8.5 2.5l-.94 2.06-2.06.94zm10 10l.94 2.06.94-2.06 2.06-.94-2.06-.94-.94-2.06-.94 2.06-2.06.94z\"/><path d=\"M17.41 7.96l-1.37-1.37c-.4-.4-.92-.59-1.43-.59-.52 0-1.04.2-1.43.59L10.3 9.45l-7.72 7.72c-.78.78-.78 2.05 0 2.83L4 21.41c.39.39.9.59 1.41.59.51 0 1.02-.2 1.41-.59l7.78-7.78 2.81-2.81c.8-.78.8-2.07 0-2.86zM5.41 20L4 18.59l7.72-7.72 1.47 1.35L5.41 20z\"/>\n",
              "  </svg>\n",
              "      </button>\n",
              "      \n",
              "  <style>\n",
              "    .colab-df-container {\n",
              "      display:flex;\n",
              "      flex-wrap:wrap;\n",
              "      gap: 12px;\n",
              "    }\n",
              "\n",
              "    .colab-df-convert {\n",
              "      background-color: #E8F0FE;\n",
              "      border: none;\n",
              "      border-radius: 50%;\n",
              "      cursor: pointer;\n",
              "      display: none;\n",
              "      fill: #1967D2;\n",
              "      height: 32px;\n",
              "      padding: 0 0 0 0;\n",
              "      width: 32px;\n",
              "    }\n",
              "\n",
              "    .colab-df-convert:hover {\n",
              "      background-color: #E2EBFA;\n",
              "      box-shadow: 0px 1px 2px rgba(60, 64, 67, 0.3), 0px 1px 3px 1px rgba(60, 64, 67, 0.15);\n",
              "      fill: #174EA6;\n",
              "    }\n",
              "\n",
              "    [theme=dark] .colab-df-convert {\n",
              "      background-color: #3B4455;\n",
              "      fill: #D2E3FC;\n",
              "    }\n",
              "\n",
              "    [theme=dark] .colab-df-convert:hover {\n",
              "      background-color: #434B5C;\n",
              "      box-shadow: 0px 1px 3px 1px rgba(0, 0, 0, 0.15);\n",
              "      filter: drop-shadow(0px 1px 2px rgba(0, 0, 0, 0.3));\n",
              "      fill: #FFFFFF;\n",
              "    }\n",
              "  </style>\n",
              "\n",
              "      <script>\n",
              "        const buttonEl =\n",
              "          document.querySelector('#df-a8955054-767e-4689-8e6e-a14b47594705 button.colab-df-convert');\n",
              "        buttonEl.style.display =\n",
              "          google.colab.kernel.accessAllowed ? 'block' : 'none';\n",
              "\n",
              "        async function convertToInteractive(key) {\n",
              "          const element = document.querySelector('#df-a8955054-767e-4689-8e6e-a14b47594705');\n",
              "          const dataTable =\n",
              "            await google.colab.kernel.invokeFunction('convertToInteractive',\n",
              "                                                     [key], {});\n",
              "          if (!dataTable) return;\n",
              "\n",
              "          const docLinkHtml = 'Like what you see? Visit the ' +\n",
              "            '<a target=\"_blank\" href=https://colab.research.google.com/notebooks/data_table.ipynb>data table notebook</a>'\n",
              "            + ' to learn more about interactive tables.';\n",
              "          element.innerHTML = '';\n",
              "          dataTable['output_type'] = 'display_data';\n",
              "          await google.colab.output.renderOutput(dataTable, element);\n",
              "          const docLink = document.createElement('div');\n",
              "          docLink.innerHTML = docLinkHtml;\n",
              "          element.appendChild(docLink);\n",
              "        }\n",
              "      </script>\n",
              "    </div>\n",
              "  </div>\n",
              "  "
            ],
            "text/plain": [
              "     X1     X2     X3      X4   X5  X6   X7  X8     Y1     Y2\n",
              "0  0.98  514.5  294.0  110.25  7.0   2  0.0   0  15.55  21.33\n",
              "1  0.98  514.5  294.0  110.25  7.0   3  0.0   0  15.55  21.33\n",
              "2  0.98  514.5  294.0  110.25  7.0   4  0.0   0  15.55  21.33\n",
              "3  0.98  514.5  294.0  110.25  7.0   5  0.0   0  15.55  21.33\n",
              "4  0.90  563.5  318.5  122.50  7.0   2  0.0   0  20.84  28.28"
            ]
          },
          "metadata": {},
          "execution_count": 80
        }
      ]
    },
    {
      "cell_type": "code",
      "source": [
        "len(df_energy)"
      ],
      "metadata": {
        "colab": {
          "base_uri": "https://localhost:8080/"
        },
        "id": "2uCVW2X63515",
        "outputId": "11b68ef8-3ad6-4833-d07e-148cb1bb262a"
      },
      "execution_count": 81,
      "outputs": [
        {
          "output_type": "execute_result",
          "data": {
            "text/plain": [
              "768"
            ]
          },
          "metadata": {},
          "execution_count": 81
        }
      ]
    },
    {
      "cell_type": "code",
      "source": [
        "df_energy.corr()"
      ],
      "metadata": {
        "colab": {
          "base_uri": "https://localhost:8080/",
          "height": 0
        },
        "id": "GEvSMroS5AO9",
        "outputId": "2a5e4bdf-e00d-491f-ab76-f043e06241b9"
      },
      "execution_count": 82,
      "outputs": [
        {
          "output_type": "execute_result",
          "data": {
            "text/html": [
              "\n",
              "  <div id=\"df-c8d0dbc8-2ca1-4265-8610-83dd15ac8fcb\">\n",
              "    <div class=\"colab-df-container\">\n",
              "      <div>\n",
              "<style scoped>\n",
              "    .dataframe tbody tr th:only-of-type {\n",
              "        vertical-align: middle;\n",
              "    }\n",
              "\n",
              "    .dataframe tbody tr th {\n",
              "        vertical-align: top;\n",
              "    }\n",
              "\n",
              "    .dataframe thead th {\n",
              "        text-align: right;\n",
              "    }\n",
              "</style>\n",
              "<table border=\"1\" class=\"dataframe\">\n",
              "  <thead>\n",
              "    <tr style=\"text-align: right;\">\n",
              "      <th></th>\n",
              "      <th>X1</th>\n",
              "      <th>X2</th>\n",
              "      <th>X3</th>\n",
              "      <th>X4</th>\n",
              "      <th>X5</th>\n",
              "      <th>X6</th>\n",
              "      <th>X7</th>\n",
              "      <th>X8</th>\n",
              "      <th>Y1</th>\n",
              "      <th>Y2</th>\n",
              "    </tr>\n",
              "  </thead>\n",
              "  <tbody>\n",
              "    <tr>\n",
              "      <th>X1</th>\n",
              "      <td>1.000000e+00</td>\n",
              "      <td>-9.919015e-01</td>\n",
              "      <td>-2.037817e-01</td>\n",
              "      <td>-8.688234e-01</td>\n",
              "      <td>8.277473e-01</td>\n",
              "      <td>0.000000</td>\n",
              "      <td>1.283986e-17</td>\n",
              "      <td>1.764620e-17</td>\n",
              "      <td>0.622272</td>\n",
              "      <td>0.634339</td>\n",
              "    </tr>\n",
              "    <tr>\n",
              "      <th>X2</th>\n",
              "      <td>-9.919015e-01</td>\n",
              "      <td>1.000000e+00</td>\n",
              "      <td>1.955016e-01</td>\n",
              "      <td>8.807195e-01</td>\n",
              "      <td>-8.581477e-01</td>\n",
              "      <td>0.000000</td>\n",
              "      <td>1.318356e-16</td>\n",
              "      <td>-3.558613e-16</td>\n",
              "      <td>-0.658120</td>\n",
              "      <td>-0.672999</td>\n",
              "    </tr>\n",
              "    <tr>\n",
              "      <th>X3</th>\n",
              "      <td>-2.037817e-01</td>\n",
              "      <td>1.955016e-01</td>\n",
              "      <td>1.000000e+00</td>\n",
              "      <td>-2.923165e-01</td>\n",
              "      <td>2.809757e-01</td>\n",
              "      <td>0.000000</td>\n",
              "      <td>-7.969726e-19</td>\n",
              "      <td>0.000000e+00</td>\n",
              "      <td>0.455671</td>\n",
              "      <td>0.427117</td>\n",
              "    </tr>\n",
              "    <tr>\n",
              "      <th>X4</th>\n",
              "      <td>-8.688234e-01</td>\n",
              "      <td>8.807195e-01</td>\n",
              "      <td>-2.923165e-01</td>\n",
              "      <td>1.000000e+00</td>\n",
              "      <td>-9.725122e-01</td>\n",
              "      <td>0.000000</td>\n",
              "      <td>-1.381805e-16</td>\n",
              "      <td>-1.079129e-16</td>\n",
              "      <td>-0.861828</td>\n",
              "      <td>-0.862547</td>\n",
              "    </tr>\n",
              "    <tr>\n",
              "      <th>X5</th>\n",
              "      <td>8.277473e-01</td>\n",
              "      <td>-8.581477e-01</td>\n",
              "      <td>2.809757e-01</td>\n",
              "      <td>-9.725122e-01</td>\n",
              "      <td>1.000000e+00</td>\n",
              "      <td>0.000000</td>\n",
              "      <td>1.861418e-18</td>\n",
              "      <td>0.000000e+00</td>\n",
              "      <td>0.889430</td>\n",
              "      <td>0.895785</td>\n",
              "    </tr>\n",
              "    <tr>\n",
              "      <th>X6</th>\n",
              "      <td>0.000000e+00</td>\n",
              "      <td>0.000000e+00</td>\n",
              "      <td>0.000000e+00</td>\n",
              "      <td>0.000000e+00</td>\n",
              "      <td>0.000000e+00</td>\n",
              "      <td>1.000000</td>\n",
              "      <td>0.000000e+00</td>\n",
              "      <td>0.000000e+00</td>\n",
              "      <td>-0.002587</td>\n",
              "      <td>0.014290</td>\n",
              "    </tr>\n",
              "    <tr>\n",
              "      <th>X7</th>\n",
              "      <td>1.283986e-17</td>\n",
              "      <td>1.318356e-16</td>\n",
              "      <td>-7.969726e-19</td>\n",
              "      <td>-1.381805e-16</td>\n",
              "      <td>1.861418e-18</td>\n",
              "      <td>0.000000</td>\n",
              "      <td>1.000000e+00</td>\n",
              "      <td>2.129642e-01</td>\n",
              "      <td>0.269842</td>\n",
              "      <td>0.207505</td>\n",
              "    </tr>\n",
              "    <tr>\n",
              "      <th>X8</th>\n",
              "      <td>1.764620e-17</td>\n",
              "      <td>-3.558613e-16</td>\n",
              "      <td>0.000000e+00</td>\n",
              "      <td>-1.079129e-16</td>\n",
              "      <td>0.000000e+00</td>\n",
              "      <td>0.000000</td>\n",
              "      <td>2.129642e-01</td>\n",
              "      <td>1.000000e+00</td>\n",
              "      <td>0.087368</td>\n",
              "      <td>0.050525</td>\n",
              "    </tr>\n",
              "    <tr>\n",
              "      <th>Y1</th>\n",
              "      <td>6.222719e-01</td>\n",
              "      <td>-6.581199e-01</td>\n",
              "      <td>4.556714e-01</td>\n",
              "      <td>-8.618281e-01</td>\n",
              "      <td>8.894305e-01</td>\n",
              "      <td>-0.002587</td>\n",
              "      <td>2.698417e-01</td>\n",
              "      <td>8.736846e-02</td>\n",
              "      <td>1.000000</td>\n",
              "      <td>0.975862</td>\n",
              "    </tr>\n",
              "    <tr>\n",
              "      <th>Y2</th>\n",
              "      <td>6.343391e-01</td>\n",
              "      <td>-6.729989e-01</td>\n",
              "      <td>4.271170e-01</td>\n",
              "      <td>-8.625466e-01</td>\n",
              "      <td>8.957852e-01</td>\n",
              "      <td>0.014290</td>\n",
              "      <td>2.075050e-01</td>\n",
              "      <td>5.052512e-02</td>\n",
              "      <td>0.975862</td>\n",
              "      <td>1.000000</td>\n",
              "    </tr>\n",
              "  </tbody>\n",
              "</table>\n",
              "</div>\n",
              "      <button class=\"colab-df-convert\" onclick=\"convertToInteractive('df-c8d0dbc8-2ca1-4265-8610-83dd15ac8fcb')\"\n",
              "              title=\"Convert this dataframe to an interactive table.\"\n",
              "              style=\"display:none;\">\n",
              "        \n",
              "  <svg xmlns=\"http://www.w3.org/2000/svg\" height=\"24px\"viewBox=\"0 0 24 24\"\n",
              "       width=\"24px\">\n",
              "    <path d=\"M0 0h24v24H0V0z\" fill=\"none\"/>\n",
              "    <path d=\"M18.56 5.44l.94 2.06.94-2.06 2.06-.94-2.06-.94-.94-2.06-.94 2.06-2.06.94zm-11 1L8.5 8.5l.94-2.06 2.06-.94-2.06-.94L8.5 2.5l-.94 2.06-2.06.94zm10 10l.94 2.06.94-2.06 2.06-.94-2.06-.94-.94-2.06-.94 2.06-2.06.94z\"/><path d=\"M17.41 7.96l-1.37-1.37c-.4-.4-.92-.59-1.43-.59-.52 0-1.04.2-1.43.59L10.3 9.45l-7.72 7.72c-.78.78-.78 2.05 0 2.83L4 21.41c.39.39.9.59 1.41.59.51 0 1.02-.2 1.41-.59l7.78-7.78 2.81-2.81c.8-.78.8-2.07 0-2.86zM5.41 20L4 18.59l7.72-7.72 1.47 1.35L5.41 20z\"/>\n",
              "  </svg>\n",
              "      </button>\n",
              "      \n",
              "  <style>\n",
              "    .colab-df-container {\n",
              "      display:flex;\n",
              "      flex-wrap:wrap;\n",
              "      gap: 12px;\n",
              "    }\n",
              "\n",
              "    .colab-df-convert {\n",
              "      background-color: #E8F0FE;\n",
              "      border: none;\n",
              "      border-radius: 50%;\n",
              "      cursor: pointer;\n",
              "      display: none;\n",
              "      fill: #1967D2;\n",
              "      height: 32px;\n",
              "      padding: 0 0 0 0;\n",
              "      width: 32px;\n",
              "    }\n",
              "\n",
              "    .colab-df-convert:hover {\n",
              "      background-color: #E2EBFA;\n",
              "      box-shadow: 0px 1px 2px rgba(60, 64, 67, 0.3), 0px 1px 3px 1px rgba(60, 64, 67, 0.15);\n",
              "      fill: #174EA6;\n",
              "    }\n",
              "\n",
              "    [theme=dark] .colab-df-convert {\n",
              "      background-color: #3B4455;\n",
              "      fill: #D2E3FC;\n",
              "    }\n",
              "\n",
              "    [theme=dark] .colab-df-convert:hover {\n",
              "      background-color: #434B5C;\n",
              "      box-shadow: 0px 1px 3px 1px rgba(0, 0, 0, 0.15);\n",
              "      filter: drop-shadow(0px 1px 2px rgba(0, 0, 0, 0.3));\n",
              "      fill: #FFFFFF;\n",
              "    }\n",
              "  </style>\n",
              "\n",
              "      <script>\n",
              "        const buttonEl =\n",
              "          document.querySelector('#df-c8d0dbc8-2ca1-4265-8610-83dd15ac8fcb button.colab-df-convert');\n",
              "        buttonEl.style.display =\n",
              "          google.colab.kernel.accessAllowed ? 'block' : 'none';\n",
              "\n",
              "        async function convertToInteractive(key) {\n",
              "          const element = document.querySelector('#df-c8d0dbc8-2ca1-4265-8610-83dd15ac8fcb');\n",
              "          const dataTable =\n",
              "            await google.colab.kernel.invokeFunction('convertToInteractive',\n",
              "                                                     [key], {});\n",
              "          if (!dataTable) return;\n",
              "\n",
              "          const docLinkHtml = 'Like what you see? Visit the ' +\n",
              "            '<a target=\"_blank\" href=https://colab.research.google.com/notebooks/data_table.ipynb>data table notebook</a>'\n",
              "            + ' to learn more about interactive tables.';\n",
              "          element.innerHTML = '';\n",
              "          dataTable['output_type'] = 'display_data';\n",
              "          await google.colab.output.renderOutput(dataTable, element);\n",
              "          const docLink = document.createElement('div');\n",
              "          docLink.innerHTML = docLinkHtml;\n",
              "          element.appendChild(docLink);\n",
              "        }\n",
              "      </script>\n",
              "    </div>\n",
              "  </div>\n",
              "  "
            ],
            "text/plain": [
              "              X1            X2            X3  ...            X8        Y1        Y2\n",
              "X1  1.000000e+00 -9.919015e-01 -2.037817e-01  ...  1.764620e-17  0.622272  0.634339\n",
              "X2 -9.919015e-01  1.000000e+00  1.955016e-01  ... -3.558613e-16 -0.658120 -0.672999\n",
              "X3 -2.037817e-01  1.955016e-01  1.000000e+00  ...  0.000000e+00  0.455671  0.427117\n",
              "X4 -8.688234e-01  8.807195e-01 -2.923165e-01  ... -1.079129e-16 -0.861828 -0.862547\n",
              "X5  8.277473e-01 -8.581477e-01  2.809757e-01  ...  0.000000e+00  0.889430  0.895785\n",
              "X6  0.000000e+00  0.000000e+00  0.000000e+00  ...  0.000000e+00 -0.002587  0.014290\n",
              "X7  1.283986e-17  1.318356e-16 -7.969726e-19  ...  2.129642e-01  0.269842  0.207505\n",
              "X8  1.764620e-17 -3.558613e-16  0.000000e+00  ...  1.000000e+00  0.087368  0.050525\n",
              "Y1  6.222719e-01 -6.581199e-01  4.556714e-01  ...  8.736846e-02  1.000000  0.975862\n",
              "Y2  6.343391e-01 -6.729989e-01  4.271170e-01  ...  5.052512e-02  0.975862  1.000000\n",
              "\n",
              "[10 rows x 10 columns]"
            ]
          },
          "metadata": {},
          "execution_count": 82
        }
      ]
    },
    {
      "cell_type": "markdown",
      "source": [
        "First choice: dataset 1\n",
        "\n",
        "Data dictionary:\n",
        "X1 Relative Compactness\n",
        "X2 Surface Area\n",
        "X3 Wall Area\n",
        "X4 Roof Area\n",
        "X5 Overall Height\n",
        "X6 Orientation\n",
        "X7 Glazing Area\n",
        "X8 Glazing Area Distribution\n",
        "y1 Heating Load\n",
        "y2 Cooling Load \n",
        "\n",
        "1) Source of data \\\n",
        "https://archive.ics.uci.edu/ml/datasets/Energy+efficiency\n",
        "\n",
        "2) Brief description of data\\\n",
        "The dataset contains the heating and cooling load of various building designs obtained by simulating (Ecotect) the building parameters.\n",
        "\n",
        "3) What is the target?\\\n",
        "heating load(Y1) and Cooling load(Y2) \n",
        "\n",
        "4) Is this a classification or regression problem?\\\n",
        "Since the goal is to predict the heating and cooling load as a function of the building parameters, this will be a regression problem.\n",
        "\n",
        "5) How many features?\\\n",
        "The dataset has a total of 10 columns, 2 columns for the targets and 8 columns for the features.\n",
        "\n",
        "6) How many rows of data.\\\n",
        "The dataset has 768 rows.\n",
        "\n",
        "7) What, if any, challenges do your foresee in cleaning, exploring, or modeling with this dataset?\\\n",
        "None so far"
      ],
      "metadata": {
        "id": "MfCsFRIC2Kpe"
      }
    },
    {
      "cell_type": "markdown",
      "source": [
        "## Superconductors Dataset"
      ],
      "metadata": {
        "id": "v-A_Qvsd5X4Q"
      }
    },
    {
      "cell_type": "code",
      "source": [
        "# Load the data\n",
        "\n",
        "## Opening the file\n",
        "filename_super = '/content/drive/My Drive/Coding Dojo/07 Week 7: Classification Models/train.csv'\n",
        "\n",
        "## Storing the data in df\n",
        "df_super= pd.read_csv(filename_super, )\n",
        "\n",
        "# display first few rows\n",
        "df_super.head()\n"
      ],
      "metadata": {
        "colab": {
          "base_uri": "https://localhost:8080/",
          "height": 0
        },
        "id": "FLaV-pmb5iUC",
        "outputId": "aa62b4b3-c777-41a4-d071-75533e685d91"
      },
      "execution_count": 83,
      "outputs": [
        {
          "output_type": "execute_result",
          "data": {
            "text/html": [
              "\n",
              "  <div id=\"df-a823dfd1-2897-4e75-a628-adc2cf2c1050\">\n",
              "    <div class=\"colab-df-container\">\n",
              "      <div>\n",
              "<style scoped>\n",
              "    .dataframe tbody tr th:only-of-type {\n",
              "        vertical-align: middle;\n",
              "    }\n",
              "\n",
              "    .dataframe tbody tr th {\n",
              "        vertical-align: top;\n",
              "    }\n",
              "\n",
              "    .dataframe thead th {\n",
              "        text-align: right;\n",
              "    }\n",
              "</style>\n",
              "<table border=\"1\" class=\"dataframe\">\n",
              "  <thead>\n",
              "    <tr style=\"text-align: right;\">\n",
              "      <th></th>\n",
              "      <th>number_of_elements</th>\n",
              "      <th>mean_atomic_mass</th>\n",
              "      <th>wtd_mean_atomic_mass</th>\n",
              "      <th>gmean_atomic_mass</th>\n",
              "      <th>wtd_gmean_atomic_mass</th>\n",
              "      <th>entropy_atomic_mass</th>\n",
              "      <th>wtd_entropy_atomic_mass</th>\n",
              "      <th>range_atomic_mass</th>\n",
              "      <th>wtd_range_atomic_mass</th>\n",
              "      <th>std_atomic_mass</th>\n",
              "      <th>wtd_std_atomic_mass</th>\n",
              "      <th>mean_fie</th>\n",
              "      <th>wtd_mean_fie</th>\n",
              "      <th>gmean_fie</th>\n",
              "      <th>wtd_gmean_fie</th>\n",
              "      <th>entropy_fie</th>\n",
              "      <th>wtd_entropy_fie</th>\n",
              "      <th>range_fie</th>\n",
              "      <th>wtd_range_fie</th>\n",
              "      <th>std_fie</th>\n",
              "      <th>wtd_std_fie</th>\n",
              "      <th>mean_atomic_radius</th>\n",
              "      <th>wtd_mean_atomic_radius</th>\n",
              "      <th>gmean_atomic_radius</th>\n",
              "      <th>wtd_gmean_atomic_radius</th>\n",
              "      <th>entropy_atomic_radius</th>\n",
              "      <th>wtd_entropy_atomic_radius</th>\n",
              "      <th>range_atomic_radius</th>\n",
              "      <th>wtd_range_atomic_radius</th>\n",
              "      <th>std_atomic_radius</th>\n",
              "      <th>wtd_std_atomic_radius</th>\n",
              "      <th>mean_Density</th>\n",
              "      <th>wtd_mean_Density</th>\n",
              "      <th>gmean_Density</th>\n",
              "      <th>wtd_gmean_Density</th>\n",
              "      <th>entropy_Density</th>\n",
              "      <th>wtd_entropy_Density</th>\n",
              "      <th>range_Density</th>\n",
              "      <th>wtd_range_Density</th>\n",
              "      <th>std_Density</th>\n",
              "      <th>...</th>\n",
              "      <th>wtd_mean_ElectronAffinity</th>\n",
              "      <th>gmean_ElectronAffinity</th>\n",
              "      <th>wtd_gmean_ElectronAffinity</th>\n",
              "      <th>entropy_ElectronAffinity</th>\n",
              "      <th>wtd_entropy_ElectronAffinity</th>\n",
              "      <th>range_ElectronAffinity</th>\n",
              "      <th>wtd_range_ElectronAffinity</th>\n",
              "      <th>std_ElectronAffinity</th>\n",
              "      <th>wtd_std_ElectronAffinity</th>\n",
              "      <th>mean_FusionHeat</th>\n",
              "      <th>wtd_mean_FusionHeat</th>\n",
              "      <th>gmean_FusionHeat</th>\n",
              "      <th>wtd_gmean_FusionHeat</th>\n",
              "      <th>entropy_FusionHeat</th>\n",
              "      <th>wtd_entropy_FusionHeat</th>\n",
              "      <th>range_FusionHeat</th>\n",
              "      <th>wtd_range_FusionHeat</th>\n",
              "      <th>std_FusionHeat</th>\n",
              "      <th>wtd_std_FusionHeat</th>\n",
              "      <th>mean_ThermalConductivity</th>\n",
              "      <th>wtd_mean_ThermalConductivity</th>\n",
              "      <th>gmean_ThermalConductivity</th>\n",
              "      <th>wtd_gmean_ThermalConductivity</th>\n",
              "      <th>entropy_ThermalConductivity</th>\n",
              "      <th>wtd_entropy_ThermalConductivity</th>\n",
              "      <th>range_ThermalConductivity</th>\n",
              "      <th>wtd_range_ThermalConductivity</th>\n",
              "      <th>std_ThermalConductivity</th>\n",
              "      <th>wtd_std_ThermalConductivity</th>\n",
              "      <th>mean_Valence</th>\n",
              "      <th>wtd_mean_Valence</th>\n",
              "      <th>gmean_Valence</th>\n",
              "      <th>wtd_gmean_Valence</th>\n",
              "      <th>entropy_Valence</th>\n",
              "      <th>wtd_entropy_Valence</th>\n",
              "      <th>range_Valence</th>\n",
              "      <th>wtd_range_Valence</th>\n",
              "      <th>std_Valence</th>\n",
              "      <th>wtd_std_Valence</th>\n",
              "      <th>critical_temp</th>\n",
              "    </tr>\n",
              "  </thead>\n",
              "  <tbody>\n",
              "    <tr>\n",
              "      <th>0</th>\n",
              "      <td>4</td>\n",
              "      <td>88.944468</td>\n",
              "      <td>57.862692</td>\n",
              "      <td>66.361592</td>\n",
              "      <td>36.116612</td>\n",
              "      <td>1.181795</td>\n",
              "      <td>1.062396</td>\n",
              "      <td>122.90607</td>\n",
              "      <td>31.794921</td>\n",
              "      <td>51.968828</td>\n",
              "      <td>53.622535</td>\n",
              "      <td>775.425</td>\n",
              "      <td>1010.268571</td>\n",
              "      <td>718.152900</td>\n",
              "      <td>938.016780</td>\n",
              "      <td>1.305967</td>\n",
              "      <td>0.791488</td>\n",
              "      <td>810.6</td>\n",
              "      <td>735.985714</td>\n",
              "      <td>323.811808</td>\n",
              "      <td>355.562967</td>\n",
              "      <td>160.25</td>\n",
              "      <td>105.514286</td>\n",
              "      <td>136.126003</td>\n",
              "      <td>84.528423</td>\n",
              "      <td>1.259244</td>\n",
              "      <td>1.207040</td>\n",
              "      <td>205</td>\n",
              "      <td>42.914286</td>\n",
              "      <td>75.237540</td>\n",
              "      <td>69.235569</td>\n",
              "      <td>4654.35725</td>\n",
              "      <td>2961.502286</td>\n",
              "      <td>724.953211</td>\n",
              "      <td>53.543811</td>\n",
              "      <td>1.033129</td>\n",
              "      <td>0.814598</td>\n",
              "      <td>8958.571</td>\n",
              "      <td>1579.583429</td>\n",
              "      <td>3306.162897</td>\n",
              "      <td>...</td>\n",
              "      <td>111.727143</td>\n",
              "      <td>60.123179</td>\n",
              "      <td>99.414682</td>\n",
              "      <td>1.159687</td>\n",
              "      <td>0.787382</td>\n",
              "      <td>127.05</td>\n",
              "      <td>80.987143</td>\n",
              "      <td>51.433712</td>\n",
              "      <td>42.558396</td>\n",
              "      <td>6.9055</td>\n",
              "      <td>3.846857</td>\n",
              "      <td>3.479475</td>\n",
              "      <td>1.040986</td>\n",
              "      <td>1.088575</td>\n",
              "      <td>0.994998</td>\n",
              "      <td>12.878</td>\n",
              "      <td>1.744571</td>\n",
              "      <td>4.599064</td>\n",
              "      <td>4.666920</td>\n",
              "      <td>107.756645</td>\n",
              "      <td>61.015189</td>\n",
              "      <td>7.062488</td>\n",
              "      <td>0.621979</td>\n",
              "      <td>0.308148</td>\n",
              "      <td>0.262848</td>\n",
              "      <td>399.97342</td>\n",
              "      <td>57.127669</td>\n",
              "      <td>168.854244</td>\n",
              "      <td>138.517163</td>\n",
              "      <td>2.25</td>\n",
              "      <td>2.257143</td>\n",
              "      <td>2.213364</td>\n",
              "      <td>2.219783</td>\n",
              "      <td>1.368922</td>\n",
              "      <td>1.066221</td>\n",
              "      <td>1</td>\n",
              "      <td>1.085714</td>\n",
              "      <td>0.433013</td>\n",
              "      <td>0.437059</td>\n",
              "      <td>29.0</td>\n",
              "    </tr>\n",
              "    <tr>\n",
              "      <th>1</th>\n",
              "      <td>5</td>\n",
              "      <td>92.729214</td>\n",
              "      <td>58.518416</td>\n",
              "      <td>73.132787</td>\n",
              "      <td>36.396602</td>\n",
              "      <td>1.449309</td>\n",
              "      <td>1.057755</td>\n",
              "      <td>122.90607</td>\n",
              "      <td>36.161939</td>\n",
              "      <td>47.094633</td>\n",
              "      <td>53.979870</td>\n",
              "      <td>766.440</td>\n",
              "      <td>1010.612857</td>\n",
              "      <td>720.605511</td>\n",
              "      <td>938.745413</td>\n",
              "      <td>1.544145</td>\n",
              "      <td>0.807078</td>\n",
              "      <td>810.6</td>\n",
              "      <td>743.164286</td>\n",
              "      <td>290.183029</td>\n",
              "      <td>354.963511</td>\n",
              "      <td>161.20</td>\n",
              "      <td>104.971429</td>\n",
              "      <td>141.465215</td>\n",
              "      <td>84.370167</td>\n",
              "      <td>1.508328</td>\n",
              "      <td>1.204115</td>\n",
              "      <td>205</td>\n",
              "      <td>50.571429</td>\n",
              "      <td>67.321319</td>\n",
              "      <td>68.008817</td>\n",
              "      <td>5821.48580</td>\n",
              "      <td>3021.016571</td>\n",
              "      <td>1237.095080</td>\n",
              "      <td>54.095718</td>\n",
              "      <td>1.314442</td>\n",
              "      <td>0.914802</td>\n",
              "      <td>10488.571</td>\n",
              "      <td>1667.383429</td>\n",
              "      <td>3767.403176</td>\n",
              "      <td>...</td>\n",
              "      <td>112.316429</td>\n",
              "      <td>69.833315</td>\n",
              "      <td>101.166398</td>\n",
              "      <td>1.427997</td>\n",
              "      <td>0.838666</td>\n",
              "      <td>127.05</td>\n",
              "      <td>81.207857</td>\n",
              "      <td>49.438167</td>\n",
              "      <td>41.667621</td>\n",
              "      <td>7.7844</td>\n",
              "      <td>3.796857</td>\n",
              "      <td>4.403790</td>\n",
              "      <td>1.035251</td>\n",
              "      <td>1.374977</td>\n",
              "      <td>1.073094</td>\n",
              "      <td>12.878</td>\n",
              "      <td>1.595714</td>\n",
              "      <td>4.473363</td>\n",
              "      <td>4.603000</td>\n",
              "      <td>172.205316</td>\n",
              "      <td>61.372331</td>\n",
              "      <td>16.064228</td>\n",
              "      <td>0.619735</td>\n",
              "      <td>0.847404</td>\n",
              "      <td>0.567706</td>\n",
              "      <td>429.97342</td>\n",
              "      <td>51.413383</td>\n",
              "      <td>198.554600</td>\n",
              "      <td>139.630922</td>\n",
              "      <td>2.00</td>\n",
              "      <td>2.257143</td>\n",
              "      <td>1.888175</td>\n",
              "      <td>2.210679</td>\n",
              "      <td>1.557113</td>\n",
              "      <td>1.047221</td>\n",
              "      <td>2</td>\n",
              "      <td>1.128571</td>\n",
              "      <td>0.632456</td>\n",
              "      <td>0.468606</td>\n",
              "      <td>26.0</td>\n",
              "    </tr>\n",
              "    <tr>\n",
              "      <th>2</th>\n",
              "      <td>4</td>\n",
              "      <td>88.944468</td>\n",
              "      <td>57.885242</td>\n",
              "      <td>66.361592</td>\n",
              "      <td>36.122509</td>\n",
              "      <td>1.181795</td>\n",
              "      <td>0.975980</td>\n",
              "      <td>122.90607</td>\n",
              "      <td>35.741099</td>\n",
              "      <td>51.968828</td>\n",
              "      <td>53.656268</td>\n",
              "      <td>775.425</td>\n",
              "      <td>1010.820000</td>\n",
              "      <td>718.152900</td>\n",
              "      <td>939.009036</td>\n",
              "      <td>1.305967</td>\n",
              "      <td>0.773620</td>\n",
              "      <td>810.6</td>\n",
              "      <td>743.164286</td>\n",
              "      <td>323.811808</td>\n",
              "      <td>354.804183</td>\n",
              "      <td>160.25</td>\n",
              "      <td>104.685714</td>\n",
              "      <td>136.126003</td>\n",
              "      <td>84.214573</td>\n",
              "      <td>1.259244</td>\n",
              "      <td>1.132547</td>\n",
              "      <td>205</td>\n",
              "      <td>49.314286</td>\n",
              "      <td>75.237540</td>\n",
              "      <td>67.797712</td>\n",
              "      <td>4654.35725</td>\n",
              "      <td>2999.159429</td>\n",
              "      <td>724.953211</td>\n",
              "      <td>53.974022</td>\n",
              "      <td>1.033129</td>\n",
              "      <td>0.760305</td>\n",
              "      <td>8958.571</td>\n",
              "      <td>1667.383429</td>\n",
              "      <td>3306.162897</td>\n",
              "      <td>...</td>\n",
              "      <td>112.213571</td>\n",
              "      <td>60.123179</td>\n",
              "      <td>101.082152</td>\n",
              "      <td>1.159687</td>\n",
              "      <td>0.786007</td>\n",
              "      <td>127.05</td>\n",
              "      <td>81.207857</td>\n",
              "      <td>51.433712</td>\n",
              "      <td>41.639878</td>\n",
              "      <td>6.9055</td>\n",
              "      <td>3.822571</td>\n",
              "      <td>3.479475</td>\n",
              "      <td>1.037439</td>\n",
              "      <td>1.088575</td>\n",
              "      <td>0.927479</td>\n",
              "      <td>12.878</td>\n",
              "      <td>1.757143</td>\n",
              "      <td>4.599064</td>\n",
              "      <td>4.649635</td>\n",
              "      <td>107.756645</td>\n",
              "      <td>60.943760</td>\n",
              "      <td>7.062488</td>\n",
              "      <td>0.619095</td>\n",
              "      <td>0.308148</td>\n",
              "      <td>0.250477</td>\n",
              "      <td>399.97342</td>\n",
              "      <td>57.127669</td>\n",
              "      <td>168.854244</td>\n",
              "      <td>138.540613</td>\n",
              "      <td>2.25</td>\n",
              "      <td>2.271429</td>\n",
              "      <td>2.213364</td>\n",
              "      <td>2.232679</td>\n",
              "      <td>1.368922</td>\n",
              "      <td>1.029175</td>\n",
              "      <td>1</td>\n",
              "      <td>1.114286</td>\n",
              "      <td>0.433013</td>\n",
              "      <td>0.444697</td>\n",
              "      <td>19.0</td>\n",
              "    </tr>\n",
              "    <tr>\n",
              "      <th>3</th>\n",
              "      <td>4</td>\n",
              "      <td>88.944468</td>\n",
              "      <td>57.873967</td>\n",
              "      <td>66.361592</td>\n",
              "      <td>36.119560</td>\n",
              "      <td>1.181795</td>\n",
              "      <td>1.022291</td>\n",
              "      <td>122.90607</td>\n",
              "      <td>33.768010</td>\n",
              "      <td>51.968828</td>\n",
              "      <td>53.639405</td>\n",
              "      <td>775.425</td>\n",
              "      <td>1010.544286</td>\n",
              "      <td>718.152900</td>\n",
              "      <td>938.512777</td>\n",
              "      <td>1.305967</td>\n",
              "      <td>0.783207</td>\n",
              "      <td>810.6</td>\n",
              "      <td>739.575000</td>\n",
              "      <td>323.811808</td>\n",
              "      <td>355.183884</td>\n",
              "      <td>160.25</td>\n",
              "      <td>105.100000</td>\n",
              "      <td>136.126003</td>\n",
              "      <td>84.371352</td>\n",
              "      <td>1.259244</td>\n",
              "      <td>1.173033</td>\n",
              "      <td>205</td>\n",
              "      <td>46.114286</td>\n",
              "      <td>75.237540</td>\n",
              "      <td>68.521665</td>\n",
              "      <td>4654.35725</td>\n",
              "      <td>2980.330857</td>\n",
              "      <td>724.953211</td>\n",
              "      <td>53.758486</td>\n",
              "      <td>1.033129</td>\n",
              "      <td>0.788889</td>\n",
              "      <td>8958.571</td>\n",
              "      <td>1623.483429</td>\n",
              "      <td>3306.162897</td>\n",
              "      <td>...</td>\n",
              "      <td>111.970357</td>\n",
              "      <td>60.123179</td>\n",
              "      <td>100.244950</td>\n",
              "      <td>1.159687</td>\n",
              "      <td>0.786900</td>\n",
              "      <td>127.05</td>\n",
              "      <td>81.097500</td>\n",
              "      <td>51.433712</td>\n",
              "      <td>42.102344</td>\n",
              "      <td>6.9055</td>\n",
              "      <td>3.834714</td>\n",
              "      <td>3.479475</td>\n",
              "      <td>1.039211</td>\n",
              "      <td>1.088575</td>\n",
              "      <td>0.964031</td>\n",
              "      <td>12.878</td>\n",
              "      <td>1.744571</td>\n",
              "      <td>4.599064</td>\n",
              "      <td>4.658301</td>\n",
              "      <td>107.756645</td>\n",
              "      <td>60.979474</td>\n",
              "      <td>7.062488</td>\n",
              "      <td>0.620535</td>\n",
              "      <td>0.308148</td>\n",
              "      <td>0.257045</td>\n",
              "      <td>399.97342</td>\n",
              "      <td>57.127669</td>\n",
              "      <td>168.854244</td>\n",
              "      <td>138.528893</td>\n",
              "      <td>2.25</td>\n",
              "      <td>2.264286</td>\n",
              "      <td>2.213364</td>\n",
              "      <td>2.226222</td>\n",
              "      <td>1.368922</td>\n",
              "      <td>1.048834</td>\n",
              "      <td>1</td>\n",
              "      <td>1.100000</td>\n",
              "      <td>0.433013</td>\n",
              "      <td>0.440952</td>\n",
              "      <td>22.0</td>\n",
              "    </tr>\n",
              "    <tr>\n",
              "      <th>4</th>\n",
              "      <td>4</td>\n",
              "      <td>88.944468</td>\n",
              "      <td>57.840143</td>\n",
              "      <td>66.361592</td>\n",
              "      <td>36.110716</td>\n",
              "      <td>1.181795</td>\n",
              "      <td>1.129224</td>\n",
              "      <td>122.90607</td>\n",
              "      <td>27.848743</td>\n",
              "      <td>51.968828</td>\n",
              "      <td>53.588771</td>\n",
              "      <td>775.425</td>\n",
              "      <td>1009.717143</td>\n",
              "      <td>718.152900</td>\n",
              "      <td>937.025573</td>\n",
              "      <td>1.305967</td>\n",
              "      <td>0.805230</td>\n",
              "      <td>810.6</td>\n",
              "      <td>728.807143</td>\n",
              "      <td>323.811808</td>\n",
              "      <td>356.319281</td>\n",
              "      <td>160.25</td>\n",
              "      <td>106.342857</td>\n",
              "      <td>136.126003</td>\n",
              "      <td>84.843442</td>\n",
              "      <td>1.259244</td>\n",
              "      <td>1.261194</td>\n",
              "      <td>205</td>\n",
              "      <td>36.514286</td>\n",
              "      <td>75.237540</td>\n",
              "      <td>70.634448</td>\n",
              "      <td>4654.35725</td>\n",
              "      <td>2923.845143</td>\n",
              "      <td>724.953211</td>\n",
              "      <td>53.117029</td>\n",
              "      <td>1.033129</td>\n",
              "      <td>0.859811</td>\n",
              "      <td>8958.571</td>\n",
              "      <td>1491.783429</td>\n",
              "      <td>3306.162897</td>\n",
              "      <td>...</td>\n",
              "      <td>111.240714</td>\n",
              "      <td>60.123179</td>\n",
              "      <td>97.774719</td>\n",
              "      <td>1.159687</td>\n",
              "      <td>0.787396</td>\n",
              "      <td>127.05</td>\n",
              "      <td>80.766429</td>\n",
              "      <td>51.433712</td>\n",
              "      <td>43.452059</td>\n",
              "      <td>6.9055</td>\n",
              "      <td>3.871143</td>\n",
              "      <td>3.479475</td>\n",
              "      <td>1.044545</td>\n",
              "      <td>1.088575</td>\n",
              "      <td>1.044970</td>\n",
              "      <td>12.878</td>\n",
              "      <td>1.744571</td>\n",
              "      <td>4.599064</td>\n",
              "      <td>4.684014</td>\n",
              "      <td>107.756645</td>\n",
              "      <td>61.086617</td>\n",
              "      <td>7.062488</td>\n",
              "      <td>0.624878</td>\n",
              "      <td>0.308148</td>\n",
              "      <td>0.272820</td>\n",
              "      <td>399.97342</td>\n",
              "      <td>57.127669</td>\n",
              "      <td>168.854244</td>\n",
              "      <td>138.493671</td>\n",
              "      <td>2.25</td>\n",
              "      <td>2.242857</td>\n",
              "      <td>2.213364</td>\n",
              "      <td>2.206963</td>\n",
              "      <td>1.368922</td>\n",
              "      <td>1.096052</td>\n",
              "      <td>1</td>\n",
              "      <td>1.057143</td>\n",
              "      <td>0.433013</td>\n",
              "      <td>0.428809</td>\n",
              "      <td>23.0</td>\n",
              "    </tr>\n",
              "  </tbody>\n",
              "</table>\n",
              "<p>5 rows × 82 columns</p>\n",
              "</div>\n",
              "      <button class=\"colab-df-convert\" onclick=\"convertToInteractive('df-a823dfd1-2897-4e75-a628-adc2cf2c1050')\"\n",
              "              title=\"Convert this dataframe to an interactive table.\"\n",
              "              style=\"display:none;\">\n",
              "        \n",
              "  <svg xmlns=\"http://www.w3.org/2000/svg\" height=\"24px\"viewBox=\"0 0 24 24\"\n",
              "       width=\"24px\">\n",
              "    <path d=\"M0 0h24v24H0V0z\" fill=\"none\"/>\n",
              "    <path d=\"M18.56 5.44l.94 2.06.94-2.06 2.06-.94-2.06-.94-.94-2.06-.94 2.06-2.06.94zm-11 1L8.5 8.5l.94-2.06 2.06-.94-2.06-.94L8.5 2.5l-.94 2.06-2.06.94zm10 10l.94 2.06.94-2.06 2.06-.94-2.06-.94-.94-2.06-.94 2.06-2.06.94z\"/><path d=\"M17.41 7.96l-1.37-1.37c-.4-.4-.92-.59-1.43-.59-.52 0-1.04.2-1.43.59L10.3 9.45l-7.72 7.72c-.78.78-.78 2.05 0 2.83L4 21.41c.39.39.9.59 1.41.59.51 0 1.02-.2 1.41-.59l7.78-7.78 2.81-2.81c.8-.78.8-2.07 0-2.86zM5.41 20L4 18.59l7.72-7.72 1.47 1.35L5.41 20z\"/>\n",
              "  </svg>\n",
              "      </button>\n",
              "      \n",
              "  <style>\n",
              "    .colab-df-container {\n",
              "      display:flex;\n",
              "      flex-wrap:wrap;\n",
              "      gap: 12px;\n",
              "    }\n",
              "\n",
              "    .colab-df-convert {\n",
              "      background-color: #E8F0FE;\n",
              "      border: none;\n",
              "      border-radius: 50%;\n",
              "      cursor: pointer;\n",
              "      display: none;\n",
              "      fill: #1967D2;\n",
              "      height: 32px;\n",
              "      padding: 0 0 0 0;\n",
              "      width: 32px;\n",
              "    }\n",
              "\n",
              "    .colab-df-convert:hover {\n",
              "      background-color: #E2EBFA;\n",
              "      box-shadow: 0px 1px 2px rgba(60, 64, 67, 0.3), 0px 1px 3px 1px rgba(60, 64, 67, 0.15);\n",
              "      fill: #174EA6;\n",
              "    }\n",
              "\n",
              "    [theme=dark] .colab-df-convert {\n",
              "      background-color: #3B4455;\n",
              "      fill: #D2E3FC;\n",
              "    }\n",
              "\n",
              "    [theme=dark] .colab-df-convert:hover {\n",
              "      background-color: #434B5C;\n",
              "      box-shadow: 0px 1px 3px 1px rgba(0, 0, 0, 0.15);\n",
              "      filter: drop-shadow(0px 1px 2px rgba(0, 0, 0, 0.3));\n",
              "      fill: #FFFFFF;\n",
              "    }\n",
              "  </style>\n",
              "\n",
              "      <script>\n",
              "        const buttonEl =\n",
              "          document.querySelector('#df-a823dfd1-2897-4e75-a628-adc2cf2c1050 button.colab-df-convert');\n",
              "        buttonEl.style.display =\n",
              "          google.colab.kernel.accessAllowed ? 'block' : 'none';\n",
              "\n",
              "        async function convertToInteractive(key) {\n",
              "          const element = document.querySelector('#df-a823dfd1-2897-4e75-a628-adc2cf2c1050');\n",
              "          const dataTable =\n",
              "            await google.colab.kernel.invokeFunction('convertToInteractive',\n",
              "                                                     [key], {});\n",
              "          if (!dataTable) return;\n",
              "\n",
              "          const docLinkHtml = 'Like what you see? Visit the ' +\n",
              "            '<a target=\"_blank\" href=https://colab.research.google.com/notebooks/data_table.ipynb>data table notebook</a>'\n",
              "            + ' to learn more about interactive tables.';\n",
              "          element.innerHTML = '';\n",
              "          dataTable['output_type'] = 'display_data';\n",
              "          await google.colab.output.renderOutput(dataTable, element);\n",
              "          const docLink = document.createElement('div');\n",
              "          docLink.innerHTML = docLinkHtml;\n",
              "          element.appendChild(docLink);\n",
              "        }\n",
              "      </script>\n",
              "    </div>\n",
              "  </div>\n",
              "  "
            ],
            "text/plain": [
              "   number_of_elements  mean_atomic_mass  ...  wtd_std_Valence  critical_temp\n",
              "0                   4         88.944468  ...         0.437059           29.0\n",
              "1                   5         92.729214  ...         0.468606           26.0\n",
              "2                   4         88.944468  ...         0.444697           19.0\n",
              "3                   4         88.944468  ...         0.440952           22.0\n",
              "4                   4         88.944468  ...         0.428809           23.0\n",
              "\n",
              "[5 rows x 82 columns]"
            ]
          },
          "metadata": {},
          "execution_count": 83
        }
      ]
    },
    {
      "cell_type": "code",
      "source": [
        "df_super.info()"
      ],
      "metadata": {
        "colab": {
          "base_uri": "https://localhost:8080/"
        },
        "id": "Jsf_SndI8Qb3",
        "outputId": "5962382c-a63c-4888-d319-1f115d381081"
      },
      "execution_count": 84,
      "outputs": [
        {
          "output_type": "stream",
          "name": "stdout",
          "text": [
            "<class 'pandas.core.frame.DataFrame'>\n",
            "RangeIndex: 21263 entries, 0 to 21262\n",
            "Data columns (total 82 columns):\n",
            " #   Column                           Non-Null Count  Dtype  \n",
            "---  ------                           --------------  -----  \n",
            " 0   number_of_elements               21263 non-null  int64  \n",
            " 1   mean_atomic_mass                 21263 non-null  float64\n",
            " 2   wtd_mean_atomic_mass             21263 non-null  float64\n",
            " 3   gmean_atomic_mass                21263 non-null  float64\n",
            " 4   wtd_gmean_atomic_mass            21263 non-null  float64\n",
            " 5   entropy_atomic_mass              21263 non-null  float64\n",
            " 6   wtd_entropy_atomic_mass          21263 non-null  float64\n",
            " 7   range_atomic_mass                21263 non-null  float64\n",
            " 8   wtd_range_atomic_mass            21263 non-null  float64\n",
            " 9   std_atomic_mass                  21263 non-null  float64\n",
            " 10  wtd_std_atomic_mass              21263 non-null  float64\n",
            " 11  mean_fie                         21263 non-null  float64\n",
            " 12  wtd_mean_fie                     21263 non-null  float64\n",
            " 13  gmean_fie                        21263 non-null  float64\n",
            " 14  wtd_gmean_fie                    21263 non-null  float64\n",
            " 15  entropy_fie                      21263 non-null  float64\n",
            " 16  wtd_entropy_fie                  21263 non-null  float64\n",
            " 17  range_fie                        21263 non-null  float64\n",
            " 18  wtd_range_fie                    21263 non-null  float64\n",
            " 19  std_fie                          21263 non-null  float64\n",
            " 20  wtd_std_fie                      21263 non-null  float64\n",
            " 21  mean_atomic_radius               21263 non-null  float64\n",
            " 22  wtd_mean_atomic_radius           21263 non-null  float64\n",
            " 23  gmean_atomic_radius              21263 non-null  float64\n",
            " 24  wtd_gmean_atomic_radius          21263 non-null  float64\n",
            " 25  entropy_atomic_radius            21263 non-null  float64\n",
            " 26  wtd_entropy_atomic_radius        21263 non-null  float64\n",
            " 27  range_atomic_radius              21263 non-null  int64  \n",
            " 28  wtd_range_atomic_radius          21263 non-null  float64\n",
            " 29  std_atomic_radius                21263 non-null  float64\n",
            " 30  wtd_std_atomic_radius            21263 non-null  float64\n",
            " 31  mean_Density                     21263 non-null  float64\n",
            " 32  wtd_mean_Density                 21263 non-null  float64\n",
            " 33  gmean_Density                    21263 non-null  float64\n",
            " 34  wtd_gmean_Density                21263 non-null  float64\n",
            " 35  entropy_Density                  21263 non-null  float64\n",
            " 36  wtd_entropy_Density              21263 non-null  float64\n",
            " 37  range_Density                    21263 non-null  float64\n",
            " 38  wtd_range_Density                21263 non-null  float64\n",
            " 39  std_Density                      21263 non-null  float64\n",
            " 40  wtd_std_Density                  21263 non-null  float64\n",
            " 41  mean_ElectronAffinity            21263 non-null  float64\n",
            " 42  wtd_mean_ElectronAffinity        21263 non-null  float64\n",
            " 43  gmean_ElectronAffinity           21263 non-null  float64\n",
            " 44  wtd_gmean_ElectronAffinity       21263 non-null  float64\n",
            " 45  entropy_ElectronAffinity         21263 non-null  float64\n",
            " 46  wtd_entropy_ElectronAffinity     21263 non-null  float64\n",
            " 47  range_ElectronAffinity           21263 non-null  float64\n",
            " 48  wtd_range_ElectronAffinity       21263 non-null  float64\n",
            " 49  std_ElectronAffinity             21263 non-null  float64\n",
            " 50  wtd_std_ElectronAffinity         21263 non-null  float64\n",
            " 51  mean_FusionHeat                  21263 non-null  float64\n",
            " 52  wtd_mean_FusionHeat              21263 non-null  float64\n",
            " 53  gmean_FusionHeat                 21263 non-null  float64\n",
            " 54  wtd_gmean_FusionHeat             21263 non-null  float64\n",
            " 55  entropy_FusionHeat               21263 non-null  float64\n",
            " 56  wtd_entropy_FusionHeat           21263 non-null  float64\n",
            " 57  range_FusionHeat                 21263 non-null  float64\n",
            " 58  wtd_range_FusionHeat             21263 non-null  float64\n",
            " 59  std_FusionHeat                   21263 non-null  float64\n",
            " 60  wtd_std_FusionHeat               21263 non-null  float64\n",
            " 61  mean_ThermalConductivity         21263 non-null  float64\n",
            " 62  wtd_mean_ThermalConductivity     21263 non-null  float64\n",
            " 63  gmean_ThermalConductivity        21263 non-null  float64\n",
            " 64  wtd_gmean_ThermalConductivity    21263 non-null  float64\n",
            " 65  entropy_ThermalConductivity      21263 non-null  float64\n",
            " 66  wtd_entropy_ThermalConductivity  21263 non-null  float64\n",
            " 67  range_ThermalConductivity        21263 non-null  float64\n",
            " 68  wtd_range_ThermalConductivity    21263 non-null  float64\n",
            " 69  std_ThermalConductivity          21263 non-null  float64\n",
            " 70  wtd_std_ThermalConductivity      21263 non-null  float64\n",
            " 71  mean_Valence                     21263 non-null  float64\n",
            " 72  wtd_mean_Valence                 21263 non-null  float64\n",
            " 73  gmean_Valence                    21263 non-null  float64\n",
            " 74  wtd_gmean_Valence                21263 non-null  float64\n",
            " 75  entropy_Valence                  21263 non-null  float64\n",
            " 76  wtd_entropy_Valence              21263 non-null  float64\n",
            " 77  range_Valence                    21263 non-null  int64  \n",
            " 78  wtd_range_Valence                21263 non-null  float64\n",
            " 79  std_Valence                      21263 non-null  float64\n",
            " 80  wtd_std_Valence                  21263 non-null  float64\n",
            " 81  critical_temp                    21263 non-null  float64\n",
            "dtypes: float64(79), int64(3)\n",
            "memory usage: 13.3 MB\n"
          ]
        }
      ]
    },
    {
      "cell_type": "markdown",
      "source": [
        "1) Source of data \\\n",
        "https://archive.ics.uci.edu/ml/datasets/Superconductivty+Data\n",
        "\n",
        "2) Brief description of data\\\n",
        "The dataset contains the known properties of superconductor materials and the measured critical temperatures\n",
        "\n",
        "3) What is the target?\\\n",
        "The target is the critical temperature.\n",
        "\n",
        "4) Is this a classification or regression problem?\\\n",
        "Since the goal is to predict the critical temperature of superconductors making it another regression problem. It can also be extended to a classification problem since superconductors can be classified by their critical temperatures.\n",
        "\n",
        "5) How many features?\\\n",
        "The dataset has a total of 82 columns, 1 column for the targets and 81 columns for the features, all of which are numerical.\n",
        "\n",
        "6) How many rows of data.\\\n",
        "The dataset has 21,263 rows.\n",
        "\n",
        "7) What, if any, challenges do your foresee in cleaning, exploring, or modeling with this dataset?\\\n",
        "This may be challenging since the dataset is too large. Additionally, I may be interested in this topic, as a physics major, but this is very niche and only a few people will find this project interesting "
      ],
      "metadata": {
        "id": "K9hTFBSV6gXQ"
      }
    },
    {
      "cell_type": "markdown",
      "source": [
        "# Part 2\n",
        "Pre-Processing of Energy Efficiency dataset"
      ],
      "metadata": {
        "id": "57RamLQPfV8Z"
      }
    },
    {
      "cell_type": "markdown",
      "source": [
        "## Data Cleaning"
      ],
      "metadata": {
        "id": "ODZA_RotmPby"
      }
    },
    {
      "cell_type": "code",
      "source": [
        "# Copy the original dataset\n",
        "df = df_energy.copy()\n",
        "\n",
        "# rename columns according to the data dictionary\n",
        "data_dict = {'X1': 'Relative_Compactness',\n",
        "             'X2': 'Surface_Area',\n",
        "             'X3': 'Wall_Area',\n",
        "             'X4': 'Roof_Area',\n",
        "             'X5': 'Overall_Height',\n",
        "             'X6': 'Orientation' ,\n",
        "             'X7': 'Glazing_Area',\n",
        "             'X8': 'Glazing_Area_Distribution',\n",
        "             'Y1': 'Heating_Load' ,\n",
        "             'Y2': 'Cooling_Load'}\n",
        "df.rename(columns = data_dict, inplace = True)\n",
        "df.head()"
      ],
      "metadata": {
        "colab": {
          "base_uri": "https://localhost:8080/",
          "height": 0
        },
        "id": "NvPVDYTWhB78",
        "outputId": "59007b6e-24cf-42bc-93c6-6ae3a4003828"
      },
      "execution_count": 85,
      "outputs": [
        {
          "output_type": "execute_result",
          "data": {
            "text/html": [
              "\n",
              "  <div id=\"df-2c7060e2-bfb2-4a13-860c-19a70125c2fd\">\n",
              "    <div class=\"colab-df-container\">\n",
              "      <div>\n",
              "<style scoped>\n",
              "    .dataframe tbody tr th:only-of-type {\n",
              "        vertical-align: middle;\n",
              "    }\n",
              "\n",
              "    .dataframe tbody tr th {\n",
              "        vertical-align: top;\n",
              "    }\n",
              "\n",
              "    .dataframe thead th {\n",
              "        text-align: right;\n",
              "    }\n",
              "</style>\n",
              "<table border=\"1\" class=\"dataframe\">\n",
              "  <thead>\n",
              "    <tr style=\"text-align: right;\">\n",
              "      <th></th>\n",
              "      <th>Relative_Compactness</th>\n",
              "      <th>Surface_Area</th>\n",
              "      <th>Wall_Area</th>\n",
              "      <th>Roof_Area</th>\n",
              "      <th>Overall_Height</th>\n",
              "      <th>Orientation</th>\n",
              "      <th>Glazing_Area</th>\n",
              "      <th>Glazing_Area_Distribution</th>\n",
              "      <th>Heating_Load</th>\n",
              "      <th>Cooling_Load</th>\n",
              "    </tr>\n",
              "  </thead>\n",
              "  <tbody>\n",
              "    <tr>\n",
              "      <th>0</th>\n",
              "      <td>0.98</td>\n",
              "      <td>514.5</td>\n",
              "      <td>294.0</td>\n",
              "      <td>110.25</td>\n",
              "      <td>7.0</td>\n",
              "      <td>2</td>\n",
              "      <td>0.0</td>\n",
              "      <td>0</td>\n",
              "      <td>15.55</td>\n",
              "      <td>21.33</td>\n",
              "    </tr>\n",
              "    <tr>\n",
              "      <th>1</th>\n",
              "      <td>0.98</td>\n",
              "      <td>514.5</td>\n",
              "      <td>294.0</td>\n",
              "      <td>110.25</td>\n",
              "      <td>7.0</td>\n",
              "      <td>3</td>\n",
              "      <td>0.0</td>\n",
              "      <td>0</td>\n",
              "      <td>15.55</td>\n",
              "      <td>21.33</td>\n",
              "    </tr>\n",
              "    <tr>\n",
              "      <th>2</th>\n",
              "      <td>0.98</td>\n",
              "      <td>514.5</td>\n",
              "      <td>294.0</td>\n",
              "      <td>110.25</td>\n",
              "      <td>7.0</td>\n",
              "      <td>4</td>\n",
              "      <td>0.0</td>\n",
              "      <td>0</td>\n",
              "      <td>15.55</td>\n",
              "      <td>21.33</td>\n",
              "    </tr>\n",
              "    <tr>\n",
              "      <th>3</th>\n",
              "      <td>0.98</td>\n",
              "      <td>514.5</td>\n",
              "      <td>294.0</td>\n",
              "      <td>110.25</td>\n",
              "      <td>7.0</td>\n",
              "      <td>5</td>\n",
              "      <td>0.0</td>\n",
              "      <td>0</td>\n",
              "      <td>15.55</td>\n",
              "      <td>21.33</td>\n",
              "    </tr>\n",
              "    <tr>\n",
              "      <th>4</th>\n",
              "      <td>0.90</td>\n",
              "      <td>563.5</td>\n",
              "      <td>318.5</td>\n",
              "      <td>122.50</td>\n",
              "      <td>7.0</td>\n",
              "      <td>2</td>\n",
              "      <td>0.0</td>\n",
              "      <td>0</td>\n",
              "      <td>20.84</td>\n",
              "      <td>28.28</td>\n",
              "    </tr>\n",
              "  </tbody>\n",
              "</table>\n",
              "</div>\n",
              "      <button class=\"colab-df-convert\" onclick=\"convertToInteractive('df-2c7060e2-bfb2-4a13-860c-19a70125c2fd')\"\n",
              "              title=\"Convert this dataframe to an interactive table.\"\n",
              "              style=\"display:none;\">\n",
              "        \n",
              "  <svg xmlns=\"http://www.w3.org/2000/svg\" height=\"24px\"viewBox=\"0 0 24 24\"\n",
              "       width=\"24px\">\n",
              "    <path d=\"M0 0h24v24H0V0z\" fill=\"none\"/>\n",
              "    <path d=\"M18.56 5.44l.94 2.06.94-2.06 2.06-.94-2.06-.94-.94-2.06-.94 2.06-2.06.94zm-11 1L8.5 8.5l.94-2.06 2.06-.94-2.06-.94L8.5 2.5l-.94 2.06-2.06.94zm10 10l.94 2.06.94-2.06 2.06-.94-2.06-.94-.94-2.06-.94 2.06-2.06.94z\"/><path d=\"M17.41 7.96l-1.37-1.37c-.4-.4-.92-.59-1.43-.59-.52 0-1.04.2-1.43.59L10.3 9.45l-7.72 7.72c-.78.78-.78 2.05 0 2.83L4 21.41c.39.39.9.59 1.41.59.51 0 1.02-.2 1.41-.59l7.78-7.78 2.81-2.81c.8-.78.8-2.07 0-2.86zM5.41 20L4 18.59l7.72-7.72 1.47 1.35L5.41 20z\"/>\n",
              "  </svg>\n",
              "      </button>\n",
              "      \n",
              "  <style>\n",
              "    .colab-df-container {\n",
              "      display:flex;\n",
              "      flex-wrap:wrap;\n",
              "      gap: 12px;\n",
              "    }\n",
              "\n",
              "    .colab-df-convert {\n",
              "      background-color: #E8F0FE;\n",
              "      border: none;\n",
              "      border-radius: 50%;\n",
              "      cursor: pointer;\n",
              "      display: none;\n",
              "      fill: #1967D2;\n",
              "      height: 32px;\n",
              "      padding: 0 0 0 0;\n",
              "      width: 32px;\n",
              "    }\n",
              "\n",
              "    .colab-df-convert:hover {\n",
              "      background-color: #E2EBFA;\n",
              "      box-shadow: 0px 1px 2px rgba(60, 64, 67, 0.3), 0px 1px 3px 1px rgba(60, 64, 67, 0.15);\n",
              "      fill: #174EA6;\n",
              "    }\n",
              "\n",
              "    [theme=dark] .colab-df-convert {\n",
              "      background-color: #3B4455;\n",
              "      fill: #D2E3FC;\n",
              "    }\n",
              "\n",
              "    [theme=dark] .colab-df-convert:hover {\n",
              "      background-color: #434B5C;\n",
              "      box-shadow: 0px 1px 3px 1px rgba(0, 0, 0, 0.15);\n",
              "      filter: drop-shadow(0px 1px 2px rgba(0, 0, 0, 0.3));\n",
              "      fill: #FFFFFF;\n",
              "    }\n",
              "  </style>\n",
              "\n",
              "      <script>\n",
              "        const buttonEl =\n",
              "          document.querySelector('#df-2c7060e2-bfb2-4a13-860c-19a70125c2fd button.colab-df-convert');\n",
              "        buttonEl.style.display =\n",
              "          google.colab.kernel.accessAllowed ? 'block' : 'none';\n",
              "\n",
              "        async function convertToInteractive(key) {\n",
              "          const element = document.querySelector('#df-2c7060e2-bfb2-4a13-860c-19a70125c2fd');\n",
              "          const dataTable =\n",
              "            await google.colab.kernel.invokeFunction('convertToInteractive',\n",
              "                                                     [key], {});\n",
              "          if (!dataTable) return;\n",
              "\n",
              "          const docLinkHtml = 'Like what you see? Visit the ' +\n",
              "            '<a target=\"_blank\" href=https://colab.research.google.com/notebooks/data_table.ipynb>data table notebook</a>'\n",
              "            + ' to learn more about interactive tables.';\n",
              "          element.innerHTML = '';\n",
              "          dataTable['output_type'] = 'display_data';\n",
              "          await google.colab.output.renderOutput(dataTable, element);\n",
              "          const docLink = document.createElement('div');\n",
              "          docLink.innerHTML = docLinkHtml;\n",
              "          element.appendChild(docLink);\n",
              "        }\n",
              "      </script>\n",
              "    </div>\n",
              "  </div>\n",
              "  "
            ],
            "text/plain": [
              "   Relative_Compactness  Surface_Area  ...  Heating_Load  Cooling_Load\n",
              "0                  0.98         514.5  ...         15.55         21.33\n",
              "1                  0.98         514.5  ...         15.55         21.33\n",
              "2                  0.98         514.5  ...         15.55         21.33\n",
              "3                  0.98         514.5  ...         15.55         21.33\n",
              "4                  0.90         563.5  ...         20.84         28.28\n",
              "\n",
              "[5 rows x 10 columns]"
            ]
          },
          "metadata": {},
          "execution_count": 85
        }
      ]
    },
    {
      "cell_type": "code",
      "source": [
        "# Check the dataset\n",
        "df.info()"
      ],
      "metadata": {
        "colab": {
          "base_uri": "https://localhost:8080/"
        },
        "id": "dKPzlNv_fvmZ",
        "outputId": "a3441d3d-d41a-4f40-b969-b13927f1ec2e"
      },
      "execution_count": 86,
      "outputs": [
        {
          "output_type": "stream",
          "name": "stdout",
          "text": [
            "<class 'pandas.core.frame.DataFrame'>\n",
            "RangeIndex: 768 entries, 0 to 767\n",
            "Data columns (total 10 columns):\n",
            " #   Column                     Non-Null Count  Dtype  \n",
            "---  ------                     --------------  -----  \n",
            " 0   Relative_Compactness       768 non-null    float64\n",
            " 1   Surface_Area               768 non-null    float64\n",
            " 2   Wall_Area                  768 non-null    float64\n",
            " 3   Roof_Area                  768 non-null    float64\n",
            " 4   Overall_Height             768 non-null    float64\n",
            " 5   Orientation                768 non-null    int64  \n",
            " 6   Glazing_Area               768 non-null    float64\n",
            " 7   Glazing_Area_Distribution  768 non-null    int64  \n",
            " 8   Heating_Load               768 non-null    float64\n",
            " 9   Cooling_Load               768 non-null    float64\n",
            "dtypes: float64(8), int64(2)\n",
            "memory usage: 60.1 KB\n"
          ]
        }
      ]
    },
    {
      "cell_type": "markdown",
      "source": [
        "All the columns are numerical so there are no potential inconsistencies. Additionally, there are no missing values."
      ],
      "metadata": {
        "id": "JuzE2C-Ef1eC"
      }
    },
    {
      "cell_type": "code",
      "source": [
        "# Drop duplicated rows\n",
        "df.drop_duplicates(inplace = True)\n",
        "df.info()"
      ],
      "metadata": {
        "colab": {
          "base_uri": "https://localhost:8080/"
        },
        "id": "HwS4p7oskikY",
        "outputId": "67ee97cb-421b-42b5-eefc-7de3eb99eb86"
      },
      "execution_count": 87,
      "outputs": [
        {
          "output_type": "stream",
          "name": "stdout",
          "text": [
            "<class 'pandas.core.frame.DataFrame'>\n",
            "Int64Index: 768 entries, 0 to 767\n",
            "Data columns (total 10 columns):\n",
            " #   Column                     Non-Null Count  Dtype  \n",
            "---  ------                     --------------  -----  \n",
            " 0   Relative_Compactness       768 non-null    float64\n",
            " 1   Surface_Area               768 non-null    float64\n",
            " 2   Wall_Area                  768 non-null    float64\n",
            " 3   Roof_Area                  768 non-null    float64\n",
            " 4   Overall_Height             768 non-null    float64\n",
            " 5   Orientation                768 non-null    int64  \n",
            " 6   Glazing_Area               768 non-null    float64\n",
            " 7   Glazing_Area_Distribution  768 non-null    int64  \n",
            " 8   Heating_Load               768 non-null    float64\n",
            " 9   Cooling_Load               768 non-null    float64\n",
            "dtypes: float64(8), int64(2)\n",
            "memory usage: 66.0 KB\n"
          ]
        }
      ]
    },
    {
      "cell_type": "markdown",
      "source": [
        "## Exploratory Data Visualization"
      ],
      "metadata": {
        "id": "atmi9lB_gjOq"
      }
    },
    {
      "cell_type": "code",
      "source": [
        "# Import library\n",
        "import seaborn as sns\n",
        "\n",
        "# Calculate correlation\n",
        "corr = df.corr()\n",
        "# Create a heatmap\n",
        "sns.heatmap(corr, cmap = 'Blues', annot = True)"
      ],
      "metadata": {
        "colab": {
          "base_uri": "https://localhost:8080/",
          "height": 406
        },
        "id": "1WqENwvqgJEo",
        "outputId": "93c17fca-8945-4c75-a2c7-59a4ffc775f7"
      },
      "execution_count": 88,
      "outputs": [
        {
          "output_type": "execute_result",
          "data": {
            "text/plain": [
              "<matplotlib.axes._subplots.AxesSubplot at 0x7f41fea36590>"
            ]
          },
          "metadata": {},
          "execution_count": 88
        },
        {
          "output_type": "display_data",
          "data": {
            "image/png": "[encoded data removed]",
            "text/plain": [
              "<Figure size 432x288 with 2 Axes>"
            ]
          },
          "metadata": {
            "needs_background": "light"
          }
        }
      ]
    },
    {
      "cell_type": "markdown",
      "source": [
        "We can see that the two outputs/targets are highly correlated. Additionally, the two features that has the highest correlation with these two columns are the Overall Height and the Roof Area of the Building."
      ],
      "metadata": {
        "id": "75JR_f_4iOtD"
      }
    },
    {
      "cell_type": "code",
      "source": [
        "# Visualize and compare the distribution of the two targets\n",
        "plt.hist(df.Heating_Load, alpha = 0.5, edgecolor = 'k', label = 'Heating Load')\n",
        "plt.hist(df.Cooling_Load, alpha = 0.5, edgecolor = 'k', label = 'Cooling Load')\n",
        "plt.legend()\n",
        "plt.ylabel('Counts')\n",
        "plt.xlabel('Load')"
      ],
      "metadata": {
        "colab": {
          "base_uri": "https://localhost:8080/",
          "height": 297
        },
        "id": "y_LhLtpiiOG5",
        "outputId": "ba0539a6-e088-4085-8a64-d59e32e567d9"
      },
      "execution_count": 89,
      "outputs": [
        {
          "output_type": "execute_result",
          "data": {
            "text/plain": [
              "Text(0.5, 0, 'Load')"
            ]
          },
          "metadata": {},
          "execution_count": 89
        },
        {
          "output_type": "display_data",
          "data": {
            "image/png": "[encoded data removed]",
            "text/plain": [
              "<Figure size 432x288 with 1 Axes>"
            ]
          },
          "metadata": {
            "needs_background": "light"
          }
        }
      ]
    },
    {
      "cell_type": "markdown",
      "source": [
        "We can see that the two targets approximately have the same distribution composed of two unequal peaks. There is also no sign of outliers."
      ],
      "metadata": {
        "id": "k3WMHr-ZjT5y"
      }
    },
    {
      "cell_type": "code",
      "source": [
        "# display the unique value for each columns and their value counts\n",
        "for c_name in df.columns:\n",
        "  print(df[c_name].value_counts())"
      ],
      "metadata": {
        "colab": {
          "base_uri": "https://localhost:8080/"
        },
        "id": "c3O9kXhdmobT",
        "outputId": "9d9a892f-687e-4f62-dd2e-69b75f3c7f12"
      },
      "execution_count": 90,
      "outputs": [
        {
          "output_type": "stream",
          "name": "stdout",
          "text": [
            "0.90    64\n",
            "0.79    64\n",
            "0.71    64\n",
            "0.66    64\n",
            "0.98    64\n",
            "0.64    64\n",
            "0.86    64\n",
            "0.76    64\n",
            "0.74    64\n",
            "0.82    64\n",
            "0.62    64\n",
            "0.69    64\n",
            "Name: Relative_Compactness, dtype: int64\n",
            "563.5    64\n",
            "735.0    64\n",
            "686.0    64\n",
            "637.0    64\n",
            "808.5    64\n",
            "514.5    64\n",
            "759.5    64\n",
            "710.5    64\n",
            "661.5    64\n",
            "612.5    64\n",
            "784.0    64\n",
            "588.0    64\n",
            "Name: Surface_Area, dtype: int64\n",
            "318.5    192\n",
            "294.0    192\n",
            "343.0    128\n",
            "367.5     64\n",
            "245.0     64\n",
            "269.5     64\n",
            "416.5     64\n",
            "Name: Wall_Area, dtype: int64\n",
            "220.50    384\n",
            "147.00    192\n",
            "122.50    128\n",
            "110.25     64\n",
            "Name: Roof_Area, dtype: int64\n",
            "3.5    384\n",
            "7.0    384\n",
            "Name: Overall_Height, dtype: int64\n",
            "5    192\n",
            "4    192\n",
            "3    192\n",
            "2    192\n",
            "Name: Orientation, dtype: int64\n",
            "0.40    240\n",
            "0.10    240\n",
            "0.25    240\n",
            "0.00     48\n",
            "Name: Glazing_Area, dtype: int64\n",
            "5    144\n",
            "4    144\n",
            "3    144\n",
            "2    144\n",
            "1    144\n",
            "0     48\n",
            "Name: Glazing_Area_Distribution, dtype: int64\n",
            "15.16    6\n",
            "13.00    5\n",
            "12.93    4\n",
            "32.31    4\n",
            "14.60    4\n",
            "        ..\n",
            "16.94    1\n",
            "10.78    1\n",
            "14.21    1\n",
            "7.18     1\n",
            "19.50    1\n",
            "Name: Heating_Load, Length: 587, dtype: int64\n",
            "21.33    4\n",
            "17.20    4\n",
            "29.79    4\n",
            "14.28    4\n",
            "14.27    4\n",
            "        ..\n",
            "36.93    1\n",
            "36.12    1\n",
            "32.88    1\n",
            "20.82    1\n",
            "16.75    1\n",
            "Name: Cooling_Load, Length: 636, dtype: int64\n"
          ]
        }
      ]
    },
    {
      "cell_type": "markdown",
      "source": [
        "### Boxplots\n",
        "Visualize five-number summary (minimum, first quartile, second quartile(median), third quartile, maximum) of the columns using boxplots."
      ],
      "metadata": {
        "id": "73hVmFONoAfI"
      }
    },
    {
      "cell_type": "code",
      "source": [
        "df.columns"
      ],
      "metadata": {
        "colab": {
          "base_uri": "https://localhost:8080/"
        },
        "id": "rdHvRxhnoJTQ",
        "outputId": "2eb91238-3ec5-47a2-d62e-4a184d219997"
      },
      "execution_count": 91,
      "outputs": [
        {
          "output_type": "execute_result",
          "data": {
            "text/plain": [
              "Index(['Relative_Compactness', 'Surface_Area', 'Wall_Area', 'Roof_Area',\n",
              "       'Overall_Height', 'Orientation', 'Glazing_Area',\n",
              "       'Glazing_Area_Distribution', 'Heating_Load', 'Cooling_Load'],\n",
              "      dtype='object')"
            ]
          },
          "metadata": {},
          "execution_count": 91
        }
      ]
    },
    {
      "cell_type": "markdown",
      "source": [
        "Create separate boxplots for features with different units"
      ],
      "metadata": {
        "id": "9wwl1_1qoh3z"
      }
    },
    {
      "cell_type": "code",
      "source": [
        "plt.boxplot(df[['Overall_Height', ]].values, labels = ['Overall_Height'])"
      ],
      "metadata": {
        "colab": {
          "base_uri": "https://localhost:8080/",
          "height": 0
        },
        "id": "055foKFHrGE_",
        "outputId": "30805d51-72d0-40dd-be38-355cf1ccc841"
      },
      "execution_count": 92,
      "outputs": [
        {
          "output_type": "execute_result",
          "data": {
            "text/plain": [
              "{'boxes': [<matplotlib.lines.Line2D at 0x7f41e9e9a090>],\n",
              " 'caps': [<matplotlib.lines.Line2D at 0x7f41e9ea0150>,\n",
              "  <matplotlib.lines.Line2D at 0x7f41e9ea0690>],\n",
              " 'fliers': [<matplotlib.lines.Line2D at 0x7f41e9ea9190>],\n",
              " 'means': [],\n",
              " 'medians': [<matplotlib.lines.Line2D at 0x7f41e9ea0c10>],\n",
              " 'whiskers': [<matplotlib.lines.Line2D at 0x7f41e9e9a690>,\n",
              "  <matplotlib.lines.Line2D at 0x7f41e9e9abd0>]}"
            ]
          },
          "metadata": {},
          "execution_count": 92
        },
        {
          "output_type": "display_data",
          "data": {
            "image/png": "[encoded data removed]",
            "text/plain": [
              "<Figure size 432x288 with 1 Axes>"
            ]
          },
          "metadata": {
            "needs_background": "light"
          }
        }
      ]
    },
    {
      "cell_type": "code",
      "source": [
        "plt.boxplot(df[['Orientation', 'Glazing_Area_Distribution', ]].values, labels = ['Orientation', 'Glazing_Area_Distribution', ])"
      ],
      "metadata": {
        "colab": {
          "base_uri": "https://localhost:8080/",
          "height": 0
        },
        "id": "kXsxmH9mq-tR",
        "outputId": "b871d255-ebcc-452b-b99e-719dffa85134"
      },
      "execution_count": 93,
      "outputs": [
        {
          "output_type": "execute_result",
          "data": {
            "text/plain": [
              "{'boxes': [<matplotlib.lines.Line2D at 0x7f41e9e0ba10>,\n",
              "  <matplotlib.lines.Line2D at 0x7f41e9e18ed0>],\n",
              " 'caps': [<matplotlib.lines.Line2D at 0x7f41e9e0e990>,\n",
              "  <matplotlib.lines.Line2D at 0x7f41e9e0eed0>,\n",
              "  <matplotlib.lines.Line2D at 0x7f41e9e1fed0>,\n",
              "  <matplotlib.lines.Line2D at 0x7f41e9e26450>],\n",
              " 'fliers': [<matplotlib.lines.Line2D at 0x7f41e9e189d0>,\n",
              "  <matplotlib.lines.Line2D at 0x7f41e9e26d90>],\n",
              " 'means': [],\n",
              " 'medians': [<matplotlib.lines.Line2D at 0x7f41e9e18490>,\n",
              "  <matplotlib.lines.Line2D at 0x7f41e9e26990>],\n",
              " 'whiskers': [<matplotlib.lines.Line2D at 0x7f41e9e0bed0>,\n",
              "  <matplotlib.lines.Line2D at 0x7f41e9e0e450>,\n",
              "  <matplotlib.lines.Line2D at 0x7f41e9e1f490>,\n",
              "  <matplotlib.lines.Line2D at 0x7f41e9e1f990>]}"
            ]
          },
          "metadata": {},
          "execution_count": 93
        },
        {
          "output_type": "display_data",
          "data": {
            "image/png": "[encoded data removed]",
            "text/plain": [
              "<Figure size 432x288 with 1 Axes>"
            ]
          },
          "metadata": {
            "needs_background": "light"
          }
        }
      ]
    },
    {
      "cell_type": "code",
      "source": [
        "plt.boxplot(df[['Relative_Compactness', 'Glazing_Area', ]].values, labels = ['Relative_Compactness', 'Glazing_Area', ] )"
      ],
      "metadata": {
        "colab": {
          "base_uri": "https://localhost:8080/",
          "height": 0
        },
        "id": "IZxlqTqilnVu",
        "outputId": "c0d27b22-46ea-4126-a323-4e941dee45e5"
      },
      "execution_count": 94,
      "outputs": [
        {
          "output_type": "execute_result",
          "data": {
            "text/plain": [
              "{'boxes': [<matplotlib.lines.Line2D at 0x7f41e9d8c290>,\n",
              "  <matplotlib.lines.Line2D at 0x7f41e9d9c850>],\n",
              " 'caps': [<matplotlib.lines.Line2D at 0x7f41e9d94310>,\n",
              "  <matplotlib.lines.Line2D at 0x7f41e9d94850>,\n",
              "  <matplotlib.lines.Line2D at 0x7f41e9da3850>,\n",
              "  <matplotlib.lines.Line2D at 0x7f41e9da3d90>],\n",
              " 'fliers': [<matplotlib.lines.Line2D at 0x7f41e9d9c350>,\n",
              "  <matplotlib.lines.Line2D at 0x7f41e9daa850>],\n",
              " 'means': [],\n",
              " 'medians': [<matplotlib.lines.Line2D at 0x7f41e9d94dd0>,\n",
              "  <matplotlib.lines.Line2D at 0x7f41e9daa310>],\n",
              " 'whiskers': [<matplotlib.lines.Line2D at 0x7f41e9d8c850>,\n",
              "  <matplotlib.lines.Line2D at 0x7f41e9d8cd90>,\n",
              "  <matplotlib.lines.Line2D at 0x7f41e9d9cdd0>,\n",
              "  <matplotlib.lines.Line2D at 0x7f41e9da3310>]}"
            ]
          },
          "metadata": {},
          "execution_count": 94
        },
        {
          "output_type": "display_data",
          "data": {
            "image/png": "[encoded data removed]",
            "text/plain": [
              "<Figure size 432x288 with 1 Axes>"
            ]
          },
          "metadata": {
            "needs_background": "light"
          }
        }
      ]
    },
    {
      "cell_type": "code",
      "source": [
        "plt.boxplot(df[['Surface_Area', 'Wall_Area', 'Roof_Area',]].values, labels = ['Surface_Area', 'Wall_Area', 'Roof_Area'])"
      ],
      "metadata": {
        "colab": {
          "base_uri": "https://localhost:8080/",
          "height": 0
        },
        "id": "JK8u_P4opWpj",
        "outputId": "fa6f8ef9-6e06-4520-a44a-dc63988f143d"
      },
      "execution_count": 95,
      "outputs": [
        {
          "output_type": "execute_result",
          "data": {
            "text/plain": [
              "{'boxes': [<matplotlib.lines.Line2D at 0x7f41e9d10fd0>,\n",
              "  <matplotlib.lines.Line2D at 0x7f41e9d295d0>,\n",
              "  <matplotlib.lines.Line2D at 0x7f41e9d38ad0>],\n",
              " 'caps': [<matplotlib.lines.Line2D at 0x7f41e9d20090>,\n",
              "  <matplotlib.lines.Line2D at 0x7f41e9d205d0>,\n",
              "  <matplotlib.lines.Line2D at 0x7f41e9d305d0>,\n",
              "  <matplotlib.lines.Line2D at 0x7f41e9d30b10>,\n",
              "  <matplotlib.lines.Line2D at 0x7f41e9d41b50>,\n",
              "  <matplotlib.lines.Line2D at 0x7f41e9d49110>],\n",
              " 'fliers': [<matplotlib.lines.Line2D at 0x7f41e9d290d0>,\n",
              "  <matplotlib.lines.Line2D at 0x7f41e9d385d0>,\n",
              "  <matplotlib.lines.Line2D at 0x7f41e9d49b90>],\n",
              " 'means': [],\n",
              " 'medians': [<matplotlib.lines.Line2D at 0x7f41e9d20b50>,\n",
              "  <matplotlib.lines.Line2D at 0x7f41e9d38090>,\n",
              "  <matplotlib.lines.Line2D at 0x7f41e9d49650>],\n",
              " 'whiskers': [<matplotlib.lines.Line2D at 0x7f41e9d1a5d0>,\n",
              "  <matplotlib.lines.Line2D at 0x7f41e9d1ab10>,\n",
              "  <matplotlib.lines.Line2D at 0x7f41e9d29b50>,\n",
              "  <matplotlib.lines.Line2D at 0x7f41e9d30090>,\n",
              "  <matplotlib.lines.Line2D at 0x7f41e9d41090>,\n",
              "  <matplotlib.lines.Line2D at 0x7f41e9d41610>]}"
            ]
          },
          "metadata": {},
          "execution_count": 95
        },
        {
          "output_type": "display_data",
          "data": {
            "image/png": "[encoded data removed]",
            "text/plain": [
              "<Figure size 432x288 with 1 Axes>"
            ]
          },
          "metadata": {
            "needs_background": "light"
          }
        }
      ]
    },
    {
      "cell_type": "code",
      "source": [
        "plt.boxplot(df[['Heating_Load', 'Cooling_Load']].values, labels = ['Heating Load', 'Cooling Load'] )"
      ],
      "metadata": {
        "colab": {
          "base_uri": "https://localhost:8080/",
          "height": 0
        },
        "id": "pS2zFLHloa4e",
        "outputId": "10d6979e-4a02-4e95-de38-56454b2286b5"
      },
      "execution_count": 96,
      "outputs": [
        {
          "output_type": "execute_result",
          "data": {
            "text/plain": [
              "{'boxes': [<matplotlib.lines.Line2D at 0x7f41e9cb6890>,\n",
              "  <matplotlib.lines.Line2D at 0x7f41e9cc2e10>],\n",
              " 'caps': [<matplotlib.lines.Line2D at 0x7f41e9cba910>,\n",
              "  <matplotlib.lines.Line2D at 0x7f41e9cbae50>,\n",
              "  <matplotlib.lines.Line2D at 0x7f41e9c4cd50>,\n",
              "  <matplotlib.lines.Line2D at 0x7f41e9c52290>],\n",
              " 'fliers': [<matplotlib.lines.Line2D at 0x7f41e9cc2950>,\n",
              "  <matplotlib.lines.Line2D at 0x7f41e9c52c90>],\n",
              " 'means': [],\n",
              " 'medians': [<matplotlib.lines.Line2D at 0x7f41e9cc2410>,\n",
              "  <matplotlib.lines.Line2D at 0x7f41e9c52790>],\n",
              " 'whiskers': [<matplotlib.lines.Line2D at 0x7f41e9cb6e50>,\n",
              "  <matplotlib.lines.Line2D at 0x7f41e9cba3d0>,\n",
              "  <matplotlib.lines.Line2D at 0x7f41e9c4c390>,\n",
              "  <matplotlib.lines.Line2D at 0x7f41e9c4c850>]}"
            ]
          },
          "metadata": {},
          "execution_count": 96
        },
        {
          "output_type": "display_data",
          "data": {
            "image/png": "[encoded data removed]",
            "text/plain": [
              "<Figure size 432x288 with 1 Axes>"
            ]
          },
          "metadata": {
            "needs_background": "light"
          }
        }
      ]
    },
    {
      "cell_type": "markdown",
      "source": [
        "From these boxplots, we know that there are no potential outliers."
      ],
      "metadata": {
        "id": "1dVdsSkGrfU_"
      }
    },
    {
      "cell_type": "markdown",
      "source": [
        "## Scatterplots"
      ],
      "metadata": {
        "id": "D-1VkWckr27z"
      }
    },
    {
      "cell_type": "code",
      "source": [
        "import plotly.express as px\n",
        "\n",
        "# Create a 3d plot to show relationship between the heating load and the 3 columns with the highest correlation coefficient\n",
        "fig = px.scatter_3d(df[['Roof_Area', 'Surface_Area', 'Relative_Compactness', 'Heating_Load']], x='Roof_Area', y='Surface_Area', z='Relative_Compactness',\n",
        "              color='Heating_Load',)\n",
        "fig.show()"
      ],
      "metadata": {
        "colab": {
          "base_uri": "https://localhost:8080/",
          "height": 542
        },
        "id": "RKOP9bK5sq_-",
        "outputId": "c9dce68e-5c79-43c4-c7b8-3218edeed359"
      },
      "execution_count": 105,
      "outputs": [
        {
          "output_type": "display_data",
          "data": {
            "text/html": [
              "<html>\n",
              "<head><meta charset=\"utf-8\" /></head>\n",
              "<body>\n",
              "    <div>\n",
              "            <script src=\"https://cdnjs.cloudflare.com/ajax/libs/mathjax/2.7.5/MathJax.js?config=TeX-AMS-MML_SVG\"></script><script type=\"text/javascript\">if (window.MathJax) {MathJax.Hub.Config({SVG: {font: \"STIX-Web\"}});}</script>\n",
              "                <script type=\"text/javascript\">window.PlotlyConfig = {MathJaxConfig: 'local'};</script>\n",
              "        <script src=\"https://cdn.plot.ly/plotly-latest.min.js\"></script>    \n",
              "            <div id=\"c27ad205-8caf-4219-aac9-ecf209227991\" class=\"plotly-graph-div\" style=\"height:525px; width:100%;\"></div>\n",
              "            <script type=\"text/javascript\">\n",
              "                \n",
              "                    window.PLOTLYENV=window.PLOTLYENV || {};\n",
              "                    \n",
              "                if (document.getElementById(\"c27ad205-8caf-4219-aac9-ecf209227991\")) {\n",
              "                    Plotly.newPlot(\n",
              "                        'c27ad205-8caf-4219-aac9-ecf209227991',\n",
              "                        [{\"hoverlabel\": {\"namelength\": 0}, \"hovertemplate\": \"Roof_Area=%{x}<br>Surface_Area=%{y}<br>Relative_Compactness=%{z}<br>Heating_Load=%{marker.color}\", \"legendgroup\": \"\", \"marker\": {\"color\": [15.55, 15.55, 15.55, 15.55, 20.84, 21.46, 20.71, 19.68, 19.5, 19.95, 19.34, 18.31, 17.05, 17.41, 16.95, 15.98, 28.52, 29.9, 29.63, 28.75, 24.77, 23.93, 24.77, 23.93, 6.07, 6.05, 6.01, 6.04, 6.37, 6.4, 6.366, 6.4, 6.85, 6.79, 6.77, 6.81, 7.18, 7.1, 7.1, 7.1, 10.85, 10.54, 10.77, 10.56, 8.6, 8.49, 8.45, 8.5, 24.58, 24.63, 24.63, 24.59, 29.03, 29.87, 29.14, 28.09, 26.28, 26.91, 26.37, 25.27, 23.53, 24.03, 23.54, 22.58, 35.56, 37.12, 36.9, 35.94, 32.96, 32.12, 32.94, 32.21, 10.36, 10.43, 10.36, 10.39, 10.71, 10.8, 10.7, 10.75, 11.11, 11.13, 11.09, 11.16, 11.68, 11.69, 11.7, 11.69, 15.41, 15.2, 15.42, 15.21, 12.96, 12.97, 12.93, 13.02, 24.29, 24.31, 24.13, 24.25, 28.88, 29.68, 28.83, 27.9, 26.48, 27.02, 26.33, 25.36, 23.75, 24.23, 23.67, 22.79, 35.65, 37.26, 36.97, 36.03, 33.16, 32.4, 33.12, 32.41, 10.42, 10.46, 10.32, 10.45, 10.64, 10.72, 10.55, 10.68, 11.45, 11.46, 11.32, 11.49, 11.45, 11.42, 11.33, 11.43, 15.41, 15.18, 15.34, 15.19, 12.88, 13.0, 12.97, 13.04, 24.28, 24.4, 24.11, 24.35, 28.07, 29.01, 29.62, 29.05, 25.41, 26.47, 26.89, 26.46, 22.93, 23.84, 24.17, 23.87, 35.78, 35.48, 36.97, 36.7, 32.52, 33.28, 32.33, 33.24, 10.39, 10.34, 10.35, 10.38, 10.77, 10.68, 10.68, 10.7, 11.22, 11.16, 11.1, 11.14, 11.59, 11.6, 11.53, 11.61, 15.16, 15.36, 15.12, 15.36, 12.68, 12.63, 12.71, 12.73, 24.38, 24.23, 24.04, 24.32, 29.06, 28.05, 28.86, 29.79, 26.44, 25.37, 26.33, 27.03, 23.8, 22.8, 23.59, 24.24, 36.86, 35.89, 35.45, 37.1, 33.08, 32.38, 33.09, 32.31, 10.08, 10.15, 10.07, 10.14, 10.66, 10.68, 10.53, 10.72, 11.18, 11.22, 11.07, 11.2, 11.44, 11.42, 11.33, 11.43, 15.4, 15.19, 15.32, 15.16, 12.85, 13.04, 13.0, 13.0, 24.35, 24.33, 24.03, 24.26, 29.83, 29.08, 28.03, 29.02, 27.03, 26.45, 25.36, 26.45, 24.37, 23.89, 22.89, 23.86, 37.03, 36.71, 36.77, 35.48, 32.31, 33.21, 32.46, 33.27, 10.47, 10.37, 10.34, 10.39, 10.78, 10.7, 10.67, 13.69, 11.21, 11.14, 11.11, 11.16, 11.38, 11.34, 11.22, 11.34, 15.16, 15.37, 15.12, 15.36, 12.59, 12.74, 12.8, 12.62, 28.15, 28.15, 28.37, 28.41, 32.68, 33.48, 32.84, 32.0, 29.54, 30.05, 29.6, 28.66, 26.84, 27.27, 26.97, 26.19, 38.67, 40.03, 39.86, 39.04, 36.96, 36.13, 36.91, 36.43, 12.43, 12.5, 12.41, 12.45, 12.57, 12.65, 12.57, 12.63, 12.78, 12.93, 12.73, 12.72, 13.17, 13.18, 13.17, 13.18, 17.5, 17.35, 17.52, 17.37, 15.09, 15.12, 15.08, 15.16, 28.67, 28.57, 28.18, 28.6, 32.46, 33.27, 32.33, 31.66, 29.34, 29.87, 29.27, 28.4, 25.74, 25.98, 25.38, 24.94, 38.57, 40.19, 39.97, 38.98, 36.95, 36.28, 36.86, 36.45, 12.35, 12.45, 12.16, 12.3, 12.33, 12.29, 12.2, 12.49, 12.85, 12.87, 12.73, 12.95, 13.05, 12.93, 12.77, 13.0, 17.14, 16.84, 17.02, 17.11, 14.34, 14.66, 14.6, 14.6, 28.67, 28.56, 28.17, 28.63, 31.63, 32.4, 32.68, 32.29, 28.4, 29.4, 29.43, 29.07, 24.7, 25.48, 25.37, 25.17, 39.04, 38.35, 39.81, 39.83, 35.99, 36.59, 35.64, 36.52, 11.8, 12.03, 11.98, 11.69, 12.41, 12.28, 12.1, 12.19, 12.34, 12.46, 12.31, 12.12, 12.97, 13.01, 12.74, 12.84, 16.83, 16.93, 16.66, 16.86, 13.91, 14.34, 13.95, 13.99, 28.7, 28.55, 28.15, 28.62, 32.67, 31.69, 32.07, 33.28, 29.47, 28.42, 29.08, 29.88, 25.66, 24.96, 25.43, 26.0, 40.0, 38.84, 38.33, 40.12, 36.95, 36.45, 36.81, 36.26, 12.32, 12.3, 12.18, 12.43, 12.36, 12.49, 12.17, 12.28, 12.91, 12.95, 12.67, 12.86, 12.95, 13.0, 12.86, 12.92, 16.99, 16.69, 16.56, 16.62, 14.33, 14.61, 14.61, 14.65, 28.69, 28.58, 28.15, 28.61, 33.13, 32.31, 31.53, 32.46, 29.71, 29.09, 28.31, 29.39, 25.7, 25.17, 24.6, 25.49, 39.89, 39.83, 39.01, 38.65, 35.69, 36.64, 36.06, 36.7, 12.12, 11.67, 11.64, 12.02, 12.27, 12.19, 12.25, 12.27, 12.47, 12.12, 12.18, 12.47, 12.93, 12.82, 12.78, 13.02, 16.73, 16.86, 16.76, 16.92, 13.68, 13.99, 14.16, 13.86, 32.26, 32.26, 32.49, 32.53, 36.47, 37.24, 36.66, 35.96, 31.89, 32.39, 32.09, 31.29, 29.22, 29.91, 29.53, 28.65, 41.4, 42.62, 42.5, 41.67, 40.78, 39.97, 40.71, 40.43, 14.52, 14.61, 14.5, 14.55, 14.51, 14.6, 14.5, 14.58, 14.51, 14.7, 14.42, 14.42, 15.23, 15.23, 15.23, 15.23, 19.52, 19.36, 19.48, 19.42, 15.09, 17.17, 17.14, 17.14, 32.82, 32.71, 32.24, 32.72, 35.84, 36.57, 36.06, 35.69, 32.48, 32.74, 32.13, 31.64, 28.95, 29.49, 28.64, 28.01, 41.64, 43.1, 42.74, 41.92, 40.78, 40.15, 40.57, 40.42, 14.54, 14.45, 14.18, 14.5, 14.7, 14.66, 14.4, 14.71, 14.75, 14.71, 14.33, 14.62, 15.34, 15.29, 15.09, 15.3, 19.2, 18.88, 18.9, 19.12, 16.76, 17.23, 17.26, 17.15, 32.82, 32.69, 32.23, 32.75, 34.24, 34.95, 35.05, 34.29, 31.28, 32.12, 32.05, 31.84, 28.67, 29.67, 29.47, 28.91, 41.26, 41.3, 42.49, 42.08, 39.32, 39.84, 38.89, 39.68, 13.97, 14.22, 14.1, 13.78, 14.07, 14.03, 13.94, 13.86, 14.32, 14.56, 14.33, 14.08, 15.16, 15.18, 14.72, 14.9, 18.48, 18.71, 18.48, 18.46, 16.47, 16.35, 16.55, 16.74, 32.85, 32.67, 32.21, 32.74, 36.45, 35.73, 35.4, 36.57, 32.38, 31.66, 32.15, 32.75, 28.93, 28.05, 28.64, 29.52, 42.77, 41.73, 41.32, 42.96, 40.68, 40.4, 40.6, 40.11, 14.37, 14.48, 14.32, 14.44, 14.6, 14.7, 14.47, 14.66, 14.54, 14.62, 14.53, 14.71, 15.34, 15.29, 15.09, 15.3, 19.06, 19.13, 19.0, 18.84, 16.44, 16.9, 16.94, 16.77, 32.84, 32.72, 32.21, 32.73, 35.67, 35.01, 34.72, 35.24, 32.31, 31.81, 31.12, 32.06, 30.0, 29.5, 29.06, 29.92, 42.11, 41.96, 41.09, 40.79, 38.82, 39.72, 39.31, 39.86, 14.41, 14.19, 14.17, 14.39, 12.43, 12.63, 12.76, 12.42, 14.12, 14.28, 14.37, 14.21, 14.96, 14.92, 14.92, 15.16, 17.69, 18.19, 18.16, 17.88, 16.54, 16.44, 16.48, 16.64], \"coloraxis\": \"coloraxis\", \"symbol\": \"circle\"}, \"mode\": \"markers\", \"name\": \"\", \"scene\": \"scene\", \"showlegend\": false, \"type\": \"scatter3d\", \"x\": [110.25, 110.25, 110.25, 110.25, 122.5, 122.5, 122.5, 122.5, 147.0, 147.0, 147.0, 147.0, 147.0, 147.0, 147.0, 147.0, 147.0, 147.0, 147.0, 147.0, 122.5, 122.5, 122.5, 122.5, 220.5, 220.5, 220.5, 220.5, 220.5, 220.5, 220.5, 220.5, 220.5, 220.5, 220.5, 220.5, 220.5, 220.5, 220.5, 220.5, 220.5, 220.5, 220.5, 220.5, 220.5, 220.5, 220.5, 220.5, 110.25, 110.25, 110.25, 110.25, 122.5, 122.5, 122.5, 122.5, 147.0, 147.0, 147.0, 147.0, 147.0, 147.0, 147.0, 147.0, 147.0, 147.0, 147.0, 147.0, 122.5, 122.5, 122.5, 122.5, 220.5, 220.5, 220.5, 220.5, 220.5, 220.5, 220.5, 220.5, 220.5, 220.5, 220.5, 220.5, 220.5, 220.5, 220.5, 220.5, 220.5, 220.5, 220.5, 220.5, 220.5, 220.5, 220.5, 220.5, 110.25, 110.25, 110.25, 110.25, 122.5, 122.5, 122.5, 122.5, 147.0, 147.0, 147.0, 147.0, 147.0, 147.0, 147.0, 147.0, 147.0, 147.0, 147.0, 147.0, 122.5, 122.5, 122.5, 122.5, 220.5, 220.5, 220.5, 220.5, 220.5, 220.5, 220.5, 220.5, 220.5, 220.5, 220.5, 220.5, 220.5, 220.5, 220.5, 220.5, 220.5, 220.5, 220.5, 220.5, 220.5, 220.5, 220.5, 220.5, 110.25, 110.25, 110.25, 110.25, 122.5, 122.5, 122.5, 122.5, 147.0, 147.0, 147.0, 147.0, 147.0, 147.0, 147.0, 147.0, 147.0, 147.0, 147.0, 147.0, 122.5, 122.5, 122.5, 122.5, 220.5, 220.5, 220.5, 220.5, 220.5, 220.5, 220.5, 220.5, 220.5, 220.5, 220.5, 220.5, 220.5, 220.5, 220.5, 220.5, 220.5, 220.5, 220.5, 220.5, 220.5, 220.5, 220.5, 220.5, 110.25, 110.25, 110.25, 110.25, 122.5, 122.5, 122.5, 122.5, 147.0, 147.0, 147.0, 147.0, 147.0, 147.0, 147.0, 147.0, 147.0, 147.0, 147.0, 147.0, 122.5, 122.5, 122.5, 122.5, 220.5, 220.5, 220.5, 220.5, 220.5, 220.5, 220.5, 220.5, 220.5, 220.5, 220.5, 220.5, 220.5, 220.5, 220.5, 220.5, 220.5, 220.5, 220.5, 220.5, 220.5, 220.5, 220.5, 220.5, 110.25, 110.25, 110.25, 110.25, 122.5, 122.5, 122.5, 122.5, 147.0, 147.0, 147.0, 147.0, 147.0, 147.0, 147.0, 147.0, 147.0, 147.0, 147.0, 147.0, 122.5, 122.5, 122.5, 122.5, 220.5, 220.5, 220.5, 220.5, 220.5, 220.5, 220.5, 220.5, 220.5, 220.5, 220.5, 220.5, 220.5, 220.5, 220.5, 220.5, 220.5, 220.5, 220.5, 220.5, 220.5, 220.5, 220.5, 220.5, 110.25, 110.25, 110.25, 110.25, 122.5, 122.5, 122.5, 122.5, 147.0, 147.0, 147.0, 147.0, 147.0, 147.0, 147.0, 147.0, 147.0, 147.0, 147.0, 147.0, 122.5, 122.5, 122.5, 122.5, 220.5, 220.5, 220.5, 220.5, 220.5, 220.5, 220.5, 220.5, 220.5, 220.5, 220.5, 220.5, 220.5, 220.5, 220.5, 220.5, 220.5, 220.5, 220.5, 220.5, 220.5, 220.5, 220.5, 220.5, 110.25, 110.25, 110.25, 110.25, 122.5, 122.5, 122.5, 122.5, 147.0, 147.0, 147.0, 147.0, 147.0, 147.0, 147.0, 147.0, 147.0, 147.0, 147.0, 147.0, 122.5, 122.5, 122.5, 122.5, 220.5, 220.5, 220.5, 220.5, 220.5, 220.5, 220.5, 220.5, 220.5, 220.5, 220.5, 220.5, 220.5, 220.5, 220.5, 220.5, 220.5, 220.5, 220.5, 220.5, 220.5, 220.5, 220.5, 220.5, 110.25, 110.25, 110.25, 110.25, 122.5, 122.5, 122.5, 122.5, 147.0, 147.0, 147.0, 147.0, 147.0, 147.0, 147.0, 147.0, 147.0, 147.0, 147.0, 147.0, 122.5, 122.5, 122.5, 122.5, 220.5, 220.5, 220.5, 220.5, 220.5, 220.5, 220.5, 220.5, 220.5, 220.5, 220.5, 220.5, 220.5, 220.5, 220.5, 220.5, 220.5, 220.5, 220.5, 220.5, 220.5, 220.5, 220.5, 220.5, 110.25, 110.25, 110.25, 110.25, 122.5, 122.5, 122.5, 122.5, 147.0, 147.0, 147.0, 147.0, 147.0, 147.0, 147.0, 147.0, 147.0, 147.0, 147.0, 147.0, 122.5, 122.5, 122.5, 122.5, 220.5, 220.5, 220.5, 220.5, 220.5, 220.5, 220.5, 220.5, 220.5, 220.5, 220.5, 220.5, 220.5, 220.5, 220.5, 220.5, 220.5, 220.5, 220.5, 220.5, 220.5, 220.5, 220.5, 220.5, 110.25, 110.25, 110.25, 110.25, 122.5, 122.5, 122.5, 122.5, 147.0, 147.0, 147.0, 147.0, 147.0, 147.0, 147.0, 147.0, 147.0, 147.0, 147.0, 147.0, 122.5, 122.5, 122.5, 122.5, 220.5, 220.5, 220.5, 220.5, 220.5, 220.5, 220.5, 220.5, 220.5, 220.5, 220.5, 220.5, 220.5, 220.5, 220.5, 220.5, 220.5, 220.5, 220.5, 220.5, 220.5, 220.5, 220.5, 220.5, 110.25, 110.25, 110.25, 110.25, 122.5, 122.5, 122.5, 122.5, 147.0, 147.0, 147.0, 147.0, 147.0, 147.0, 147.0, 147.0, 147.0, 147.0, 147.0, 147.0, 122.5, 122.5, 122.5, 122.5, 220.5, 220.5, 220.5, 220.5, 220.5, 220.5, 220.5, 220.5, 220.5, 220.5, 220.5, 220.5, 220.5, 220.5, 220.5, 220.5, 220.5, 220.5, 220.5, 220.5, 220.5, 220.5, 220.5, 220.5, 110.25, 110.25, 110.25, 110.25, 122.5, 122.5, 122.5, 122.5, 147.0, 147.0, 147.0, 147.0, 147.0, 147.0, 147.0, 147.0, 147.0, 147.0, 147.0, 147.0, 122.5, 122.5, 122.5, 122.5, 220.5, 220.5, 220.5, 220.5, 220.5, 220.5, 220.5, 220.5, 220.5, 220.5, 220.5, 220.5, 220.5, 220.5, 220.5, 220.5, 220.5, 220.5, 220.5, 220.5, 220.5, 220.5, 220.5, 220.5, 110.25, 110.25, 110.25, 110.25, 122.5, 122.5, 122.5, 122.5, 147.0, 147.0, 147.0, 147.0, 147.0, 147.0, 147.0, 147.0, 147.0, 147.0, 147.0, 147.0, 122.5, 122.5, 122.5, 122.5, 220.5, 220.5, 220.5, 220.5, 220.5, 220.5, 220.5, 220.5, 220.5, 220.5, 220.5, 220.5, 220.5, 220.5, 220.5, 220.5, 220.5, 220.5, 220.5, 220.5, 220.5, 220.5, 220.5, 220.5, 110.25, 110.25, 110.25, 110.25, 122.5, 122.5, 122.5, 122.5, 147.0, 147.0, 147.0, 147.0, 147.0, 147.0, 147.0, 147.0, 147.0, 147.0, 147.0, 147.0, 122.5, 122.5, 122.5, 122.5, 220.5, 220.5, 220.5, 220.5, 220.5, 220.5, 220.5, 220.5, 220.5, 220.5, 220.5, 220.5, 220.5, 220.5, 220.5, 220.5, 220.5, 220.5, 220.5, 220.5, 220.5, 220.5, 220.5, 220.5, 110.25, 110.25, 110.25, 110.25, 122.5, 122.5, 122.5, 122.5, 147.0, 147.0, 147.0, 147.0, 147.0, 147.0, 147.0, 147.0, 147.0, 147.0, 147.0, 147.0, 122.5, 122.5, 122.5, 122.5, 220.5, 220.5, 220.5, 220.5, 220.5, 220.5, 220.5, 220.5, 220.5, 220.5, 220.5, 220.5, 220.5, 220.5, 220.5, 220.5, 220.5, 220.5, 220.5, 220.5, 220.5, 220.5, 220.5, 220.5], \"y\": [514.5, 514.5, 514.5, 514.5, 563.5, 563.5, 563.5, 563.5, 588.0, 588.0, 588.0, 588.0, 612.5, 612.5, 612.5, 612.5, 637.0, 637.0, 637.0, 637.0, 661.5, 661.5, 661.5, 661.5, 686.0, 686.0, 686.0, 686.0, 710.5, 710.5, 710.5, 710.5, 735.0, 735.0, 735.0, 735.0, 759.5, 759.5, 759.5, 759.5, 784.0, 784.0, 784.0, 784.0, 808.5, 808.5, 808.5, 808.5, 514.5, 514.5, 514.5, 514.5, 563.5, 563.5, 563.5, 563.5, 588.0, 588.0, 588.0, 588.0, 612.5, 612.5, 612.5, 612.5, 637.0, 637.0, 637.0, 637.0, 661.5, 661.5, 661.5, 661.5, 686.0, 686.0, 686.0, 686.0, 710.5, 710.5, 710.5, 710.5, 735.0, 735.0, 735.0, 735.0, 759.5, 759.5, 759.5, 759.5, 784.0, 784.0, 784.0, 784.0, 808.5, 808.5, 808.5, 808.5, 514.5, 514.5, 514.5, 514.5, 563.5, 563.5, 563.5, 563.5, 588.0, 588.0, 588.0, 588.0, 612.5, 612.5, 612.5, 612.5, 637.0, 637.0, 637.0, 637.0, 661.5, 661.5, 661.5, 661.5, 686.0, 686.0, 686.0, 686.0, 710.5, 710.5, 710.5, 710.5, 735.0, 735.0, 735.0, 735.0, 759.5, 759.5, 759.5, 759.5, 784.0, 784.0, 784.0, 784.0, 808.5, 808.5, 808.5, 808.5, 514.5, 514.5, 514.5, 514.5, 563.5, 563.5, 563.5, 563.5, 588.0, 588.0, 588.0, 588.0, 612.5, 612.5, 612.5, 612.5, 637.0, 637.0, 637.0, 637.0, 661.5, 661.5, 661.5, 661.5, 686.0, 686.0, 686.0, 686.0, 710.5, 710.5, 710.5, 710.5, 735.0, 735.0, 735.0, 735.0, 759.5, 759.5, 759.5, 759.5, 784.0, 784.0, 784.0, 784.0, 808.5, 808.5, 808.5, 808.5, 514.5, 514.5, 514.5, 514.5, 563.5, 563.5, 563.5, 563.5, 588.0, 588.0, 588.0, 588.0, 612.5, 612.5, 612.5, 612.5, 637.0, 637.0, 637.0, 637.0, 661.5, 661.5, 661.5, 661.5, 686.0, 686.0, 686.0, 686.0, 710.5, 710.5, 710.5, 710.5, 735.0, 735.0, 735.0, 735.0, 759.5, 759.5, 759.5, 759.5, 784.0, 784.0, 784.0, 784.0, 808.5, 808.5, 808.5, 808.5, 514.5, 514.5, 514.5, 514.5, 563.5, 563.5, 563.5, 563.5, 588.0, 588.0, 588.0, 588.0, 612.5, 612.5, 612.5, 612.5, 637.0, 637.0, 637.0, 637.0, 661.5, 661.5, 661.5, 661.5, 686.0, 686.0, 686.0, 686.0, 710.5, 710.5, 710.5, 710.5, 735.0, 735.0, 735.0, 735.0, 759.5, 759.5, 759.5, 759.5, 784.0, 784.0, 784.0, 784.0, 808.5, 808.5, 808.5, 808.5, 514.5, 514.5, 514.5, 514.5, 563.5, 563.5, 563.5, 563.5, 588.0, 588.0, 588.0, 588.0, 612.5, 612.5, 612.5, 612.5, 637.0, 637.0, 637.0, 637.0, 661.5, 661.5, 661.5, 661.5, 686.0, 686.0, 686.0, 686.0, 710.5, 710.5, 710.5, 710.5, 735.0, 735.0, 735.0, 735.0, 759.5, 759.5, 759.5, 759.5, 784.0, 784.0, 784.0, 784.0, 808.5, 808.5, 808.5, 808.5, 514.5, 514.5, 514.5, 514.5, 563.5, 563.5, 563.5, 563.5, 588.0, 588.0, 588.0, 588.0, 612.5, 612.5, 612.5, 612.5, 637.0, 637.0, 637.0, 637.0, 661.5, 661.5, 661.5, 661.5, 686.0, 686.0, 686.0, 686.0, 710.5, 710.5, 710.5, 710.5, 735.0, 735.0, 735.0, 735.0, 759.5, 759.5, 759.5, 759.5, 784.0, 784.0, 784.0, 784.0, 808.5, 808.5, 808.5, 808.5, 514.5, 514.5, 514.5, 514.5, 563.5, 563.5, 563.5, 563.5, 588.0, 588.0, 588.0, 588.0, 612.5, 612.5, 612.5, 612.5, 637.0, 637.0, 637.0, 637.0, 661.5, 661.5, 661.5, 661.5, 686.0, 686.0, 686.0, 686.0, 710.5, 710.5, 710.5, 710.5, 735.0, 735.0, 735.0, 735.0, 759.5, 759.5, 759.5, 759.5, 784.0, 784.0, 784.0, 784.0, 808.5, 808.5, 808.5, 808.5, 514.5, 514.5, 514.5, 514.5, 563.5, 563.5, 563.5, 563.5, 588.0, 588.0, 588.0, 588.0, 612.5, 612.5, 612.5, 612.5, 637.0, 637.0, 637.0, 637.0, 661.5, 661.5, 661.5, 661.5, 686.0, 686.0, 686.0, 686.0, 710.5, 710.5, 710.5, 710.5, 735.0, 735.0, 735.0, 735.0, 759.5, 759.5, 759.5, 759.5, 784.0, 784.0, 784.0, 784.0, 808.5, 808.5, 808.5, 808.5, 514.5, 514.5, 514.5, 514.5, 563.5, 563.5, 563.5, 563.5, 588.0, 588.0, 588.0, 588.0, 612.5, 612.5, 612.5, 612.5, 637.0, 637.0, 637.0, 637.0, 661.5, 661.5, 661.5, 661.5, 686.0, 686.0, 686.0, 686.0, 710.5, 710.5, 710.5, 710.5, 735.0, 735.0, 735.0, 735.0, 759.5, 759.5, 759.5, 759.5, 784.0, 784.0, 784.0, 784.0, 808.5, 808.5, 808.5, 808.5, 514.5, 514.5, 514.5, 514.5, 563.5, 563.5, 563.5, 563.5, 588.0, 588.0, 588.0, 588.0, 612.5, 612.5, 612.5, 612.5, 637.0, 637.0, 637.0, 637.0, 661.5, 661.5, 661.5, 661.5, 686.0, 686.0, 686.0, 686.0, 710.5, 710.5, 710.5, 710.5, 735.0, 735.0, 735.0, 735.0, 759.5, 759.5, 759.5, 759.5, 784.0, 784.0, 784.0, 784.0, 808.5, 808.5, 808.5, 808.5, 514.5, 514.5, 514.5, 514.5, 563.5, 563.5, 563.5, 563.5, 588.0, 588.0, 588.0, 588.0, 612.5, 612.5, 612.5, 612.5, 637.0, 637.0, 637.0, 637.0, 661.5, 661.5, 661.5, 661.5, 686.0, 686.0, 686.0, 686.0, 710.5, 710.5, 710.5, 710.5, 735.0, 735.0, 735.0, 735.0, 759.5, 759.5, 759.5, 759.5, 784.0, 784.0, 784.0, 784.0, 808.5, 808.5, 808.5, 808.5, 514.5, 514.5, 514.5, 514.5, 563.5, 563.5, 563.5, 563.5, 588.0, 588.0, 588.0, 588.0, 612.5, 612.5, 612.5, 612.5, 637.0, 637.0, 637.0, 637.0, 661.5, 661.5, 661.5, 661.5, 686.0, 686.0, 686.0, 686.0, 710.5, 710.5, 710.5, 710.5, 735.0, 735.0, 735.0, 735.0, 759.5, 759.5, 759.5, 759.5, 784.0, 784.0, 784.0, 784.0, 808.5, 808.5, 808.5, 808.5, 514.5, 514.5, 514.5, 514.5, 563.5, 563.5, 563.5, 563.5, 588.0, 588.0, 588.0, 588.0, 612.5, 612.5, 612.5, 612.5, 637.0, 637.0, 637.0, 637.0, 661.5, 661.5, 661.5, 661.5, 686.0, 686.0, 686.0, 686.0, 710.5, 710.5, 710.5, 710.5, 735.0, 735.0, 735.0, 735.0, 759.5, 759.5, 759.5, 759.5, 784.0, 784.0, 784.0, 784.0, 808.5, 808.5, 808.5, 808.5, 514.5, 514.5, 514.5, 514.5, 563.5, 563.5, 563.5, 563.5, 588.0, 588.0, 588.0, 588.0, 612.5, 612.5, 612.5, 612.5, 637.0, 637.0, 637.0, 637.0, 661.5, 661.5, 661.5, 661.5, 686.0, 686.0, 686.0, 686.0, 710.5, 710.5, 710.5, 710.5, 735.0, 735.0, 735.0, 735.0, 759.5, 759.5, 759.5, 759.5, 784.0, 784.0, 784.0, 784.0, 808.5, 808.5, 808.5, 808.5], \"z\": [0.98, 0.98, 0.98, 0.98, 0.9, 0.9, 0.9, 0.9, 0.86, 0.86, 0.86, 0.86, 0.82, 0.82, 0.82, 0.82, 0.79, 0.79, 0.79, 0.79, 0.76, 0.76, 0.76, 0.76, 0.74, 0.74, 0.74, 0.74, 0.71, 0.71, 0.71, 0.71, 0.69, 0.69, 0.69, 0.69, 0.66, 0.66, 0.66, 0.66, 0.64, 0.64, 0.64, 0.64, 0.62, 0.62, 0.62, 0.62, 0.98, 0.98, 0.98, 0.98, 0.9, 0.9, 0.9, 0.9, 0.86, 0.86, 0.86, 0.86, 0.82, 0.82, 0.82, 0.82, 0.79, 0.79, 0.79, 0.79, 0.76, 0.76, 0.76, 0.76, 0.74, 0.74, 0.74, 0.74, 0.71, 0.71, 0.71, 0.71, 0.69, 0.69, 0.69, 0.69, 0.66, 0.66, 0.66, 0.66, 0.64, 0.64, 0.64, 0.64, 0.62, 0.62, 0.62, 0.62, 0.98, 0.98, 0.98, 0.98, 0.9, 0.9, 0.9, 0.9, 0.86, 0.86, 0.86, 0.86, 0.82, 0.82, 0.82, 0.82, 0.79, 0.79, 0.79, 0.79, 0.76, 0.76, 0.76, 0.76, 0.74, 0.74, 0.74, 0.74, 0.71, 0.71, 0.71, 0.71, 0.69, 0.69, 0.69, 0.69, 0.66, 0.66, 0.66, 0.66, 0.64, 0.64, 0.64, 0.64, 0.62, 0.62, 0.62, 0.62, 0.98, 0.98, 0.98, 0.98, 0.9, 0.9, 0.9, 0.9, 0.86, 0.86, 0.86, 0.86, 0.82, 0.82, 0.82, 0.82, 0.79, 0.79, 0.79, 0.79, 0.76, 0.76, 0.76, 0.76, 0.74, 0.74, 0.74, 0.74, 0.71, 0.71, 0.71, 0.71, 0.69, 0.69, 0.69, 0.69, 0.66, 0.66, 0.66, 0.66, 0.64, 0.64, 0.64, 0.64, 0.62, 0.62, 0.62, 0.62, 0.98, 0.98, 0.98, 0.98, 0.9, 0.9, 0.9, 0.9, 0.86, 0.86, 0.86, 0.86, 0.82, 0.82, 0.82, 0.82, 0.79, 0.79, 0.79, 0.79, 0.76, 0.76, 0.76, 0.76, 0.74, 0.74, 0.74, 0.74, 0.71, 0.71, 0.71, 0.71, 0.69, 0.69, 0.69, 0.69, 0.66, 0.66, 0.66, 0.66, 0.64, 0.64, 0.64, 0.64, 0.62, 0.62, 0.62, 0.62, 0.98, 0.98, 0.98, 0.98, 0.9, 0.9, 0.9, 0.9, 0.86, 0.86, 0.86, 0.86, 0.82, 0.82, 0.82, 0.82, 0.79, 0.79, 0.79, 0.79, 0.76, 0.76, 0.76, 0.76, 0.74, 0.74, 0.74, 0.74, 0.71, 0.71, 0.71, 0.71, 0.69, 0.69, 0.69, 0.69, 0.66, 0.66, 0.66, 0.66, 0.64, 0.64, 0.64, 0.64, 0.62, 0.62, 0.62, 0.62, 0.98, 0.98, 0.98, 0.98, 0.9, 0.9, 0.9, 0.9, 0.86, 0.86, 0.86, 0.86, 0.82, 0.82, 0.82, 0.82, 0.79, 0.79, 0.79, 0.79, 0.76, 0.76, 0.76, 0.76, 0.74, 0.74, 0.74, 0.74, 0.71, 0.71, 0.71, 0.71, 0.69, 0.69, 0.69, 0.69, 0.66, 0.66, 0.66, 0.66, 0.64, 0.64, 0.64, 0.64, 0.62, 0.62, 0.62, 0.62, 0.98, 0.98, 0.98, 0.98, 0.9, 0.9, 0.9, 0.9, 0.86, 0.86, 0.86, 0.86, 0.82, 0.82, 0.82, 0.82, 0.79, 0.79, 0.79, 0.79, 0.76, 0.76, 0.76, 0.76, 0.74, 0.74, 0.74, 0.74, 0.71, 0.71, 0.71, 0.71, 0.69, 0.69, 0.69, 0.69, 0.66, 0.66, 0.66, 0.66, 0.64, 0.64, 0.64, 0.64, 0.62, 0.62, 0.62, 0.62, 0.98, 0.98, 0.98, 0.98, 0.9, 0.9, 0.9, 0.9, 0.86, 0.86, 0.86, 0.86, 0.82, 0.82, 0.82, 0.82, 0.79, 0.79, 0.79, 0.79, 0.76, 0.76, 0.76, 0.76, 0.74, 0.74, 0.74, 0.74, 0.71, 0.71, 0.71, 0.71, 0.69, 0.69, 0.69, 0.69, 0.66, 0.66, 0.66, 0.66, 0.64, 0.64, 0.64, 0.64, 0.62, 0.62, 0.62, 0.62, 0.98, 0.98, 0.98, 0.98, 0.9, 0.9, 0.9, 0.9, 0.86, 0.86, 0.86, 0.86, 0.82, 0.82, 0.82, 0.82, 0.79, 0.79, 0.79, 0.79, 0.76, 0.76, 0.76, 0.76, 0.74, 0.74, 0.74, 0.74, 0.71, 0.71, 0.71, 0.71, 0.69, 0.69, 0.69, 0.69, 0.66, 0.66, 0.66, 0.66, 0.64, 0.64, 0.64, 0.64, 0.62, 0.62, 0.62, 0.62, 0.98, 0.98, 0.98, 0.98, 0.9, 0.9, 0.9, 0.9, 0.86, 0.86, 0.86, 0.86, 0.82, 0.82, 0.82, 0.82, 0.79, 0.79, 0.79, 0.79, 0.76, 0.76, 0.76, 0.76, 0.74, 0.74, 0.74, 0.74, 0.71, 0.71, 0.71, 0.71, 0.69, 0.69, 0.69, 0.69, 0.66, 0.66, 0.66, 0.66, 0.64, 0.64, 0.64, 0.64, 0.62, 0.62, 0.62, 0.62, 0.98, 0.98, 0.98, 0.98, 0.9, 0.9, 0.9, 0.9, 0.86, 0.86, 0.86, 0.86, 0.82, 0.82, 0.82, 0.82, 0.79, 0.79, 0.79, 0.79, 0.76, 0.76, 0.76, 0.76, 0.74, 0.74, 0.74, 0.74, 0.71, 0.71, 0.71, 0.71, 0.69, 0.69, 0.69, 0.69, 0.66, 0.66, 0.66, 0.66, 0.64, 0.64, 0.64, 0.64, 0.62, 0.62, 0.62, 0.62, 0.98, 0.98, 0.98, 0.98, 0.9, 0.9, 0.9, 0.9, 0.86, 0.86, 0.86, 0.86, 0.82, 0.82, 0.82, 0.82, 0.79, 0.79, 0.79, 0.79, 0.76, 0.76, 0.76, 0.76, 0.74, 0.74, 0.74, 0.74, 0.71, 0.71, 0.71, 0.71, 0.69, 0.69, 0.69, 0.69, 0.66, 0.66, 0.66, 0.66, 0.64, 0.64, 0.64, 0.64, 0.62, 0.62, 0.62, 0.62, 0.98, 0.98, 0.98, 0.98, 0.9, 0.9, 0.9, 0.9, 0.86, 0.86, 0.86, 0.86, 0.82, 0.82, 0.82, 0.82, 0.79, 0.79, 0.79, 0.79, 0.76, 0.76, 0.76, 0.76, 0.74, 0.74, 0.74, 0.74, 0.71, 0.71, 0.71, 0.71, 0.69, 0.69, 0.69, 0.69, 0.66, 0.66, 0.66, 0.66, 0.64, 0.64, 0.64, 0.64, 0.62, 0.62, 0.62, 0.62, 0.98, 0.98, 0.98, 0.98, 0.9, 0.9, 0.9, 0.9, 0.86, 0.86, 0.86, 0.86, 0.82, 0.82, 0.82, 0.82, 0.79, 0.79, 0.79, 0.79, 0.76, 0.76, 0.76, 0.76, 0.74, 0.74, 0.74, 0.74, 0.71, 0.71, 0.71, 0.71, 0.69, 0.69, 0.69, 0.69, 0.66, 0.66, 0.66, 0.66, 0.64, 0.64, 0.64, 0.64, 0.62, 0.62, 0.62, 0.62, 0.98, 0.98, 0.98, 0.98, 0.9, 0.9, 0.9, 0.9, 0.86, 0.86, 0.86, 0.86, 0.82, 0.82, 0.82, 0.82, 0.79, 0.79, 0.79, 0.79, 0.76, 0.76, 0.76, 0.76, 0.74, 0.74, 0.74, 0.74, 0.71, 0.71, 0.71, 0.71, 0.69, 0.69, 0.69, 0.69, 0.66, 0.66, 0.66, 0.66, 0.64, 0.64, 0.64, 0.64, 0.62, 0.62, 0.62, 0.62]}],\n",
              "                        {\"coloraxis\": {\"colorbar\": {\"title\": {\"text\": \"Heating_Load\"}}, \"colorscale\": [[0.0, \"#0d0887\"], [0.1111111111111111, \"#46039f\"], [0.2222222222222222, \"#7201a8\"], [0.3333333333333333, \"#9c179e\"], [0.4444444444444444, \"#bd3786\"], [0.5555555555555556, \"#d8576b\"], [0.6666666666666666, \"#ed7953\"], [0.7777777777777778, \"#fb9f3a\"], [0.8888888888888888, \"#fdca26\"], [1.0, \"#f0f921\"]]}, \"legend\": {\"tracegroupgap\": 0}, \"margin\": {\"t\": 60}, \"scene\": {\"domain\": {\"x\": [0.0, 1.0], \"y\": [0.0, 1.0]}, \"xaxis\": {\"title\": {\"text\": \"Roof_Area\"}}, \"yaxis\": {\"title\": {\"text\": \"Surface_Area\"}}, \"zaxis\": {\"title\": {\"text\": \"Relative_Compactness\"}}}, \"template\": {\"data\": {\"bar\": [{\"error_x\": {\"color\": \"#2a3f5f\"}, \"error_y\": {\"color\": \"#2a3f5f\"}, \"marker\": {\"line\": {\"color\": \"#E5ECF6\", \"width\": 0.5}}, \"type\": \"bar\"}], \"barpolar\": [{\"marker\": {\"line\": {\"color\": \"#E5ECF6\", \"width\": 0.5}}, \"type\": \"barpolar\"}], \"carpet\": [{\"aaxis\": {\"endlinecolor\": \"#2a3f5f\", \"gridcolor\": \"white\", \"linecolor\": \"white\", \"minorgridcolor\": \"white\", \"startlinecolor\": \"#2a3f5f\"}, \"baxis\": {\"endlinecolor\": \"#2a3f5f\", \"gridcolor\": \"white\", \"linecolor\": \"white\", \"minorgridcolor\": \"white\", \"startlinecolor\": \"#2a3f5f\"}, \"type\": \"carpet\"}], \"choropleth\": [{\"colorbar\": {\"outlinewidth\": 0, \"ticks\": \"\"}, \"type\": \"choropleth\"}], \"contour\": [{\"colorbar\": {\"outlinewidth\": 0, \"ticks\": \"\"}, \"colorscale\": [[0.0, \"#0d0887\"], [0.1111111111111111, \"#46039f\"], [0.2222222222222222, \"#7201a8\"], [0.3333333333333333, \"#9c179e\"], [0.4444444444444444, \"#bd3786\"], [0.5555555555555556, \"#d8576b\"], [0.6666666666666666, \"#ed7953\"], [0.7777777777777778, \"#fb9f3a\"], [0.8888888888888888, \"#fdca26\"], [1.0, \"#f0f921\"]], \"type\": \"contour\"}], \"contourcarpet\": [{\"colorbar\": {\"outlinewidth\": 0, \"ticks\": \"\"}, \"type\": \"contourcarpet\"}], \"heatmap\": [{\"colorbar\": {\"outlinewidth\": 0, \"ticks\": \"\"}, \"colorscale\": [[0.0, \"#0d0887\"], [0.1111111111111111, \"#46039f\"], [0.2222222222222222, \"#7201a8\"], [0.3333333333333333, \"#9c179e\"], [0.4444444444444444, \"#bd3786\"], [0.5555555555555556, \"#d8576b\"], [0.6666666666666666, \"#ed7953\"], [0.7777777777777778, \"#fb9f3a\"], [0.8888888888888888, \"#fdca26\"], [1.0, \"#f0f921\"]], \"type\": \"heatmap\"}], \"heatmapgl\": [{\"colorbar\": {\"outlinewidth\": 0, \"ticks\": \"\"}, \"colorscale\": [[0.0, \"#0d0887\"], [0.1111111111111111, \"#46039f\"], [0.2222222222222222, \"#7201a8\"], [0.3333333333333333, \"#9c179e\"], [0.4444444444444444, \"#bd3786\"], [0.5555555555555556, \"#d8576b\"], [0.6666666666666666, \"#ed7953\"], [0.7777777777777778, \"#fb9f3a\"], [0.8888888888888888, \"#fdca26\"], [1.0, \"#f0f921\"]], \"type\": \"heatmapgl\"}], \"histogram\": [{\"marker\": {\"colorbar\": {\"outlinewidth\": 0, \"ticks\": \"\"}}, \"type\": \"histogram\"}], \"histogram2d\": [{\"colorbar\": {\"outlinewidth\": 0, \"ticks\": \"\"}, \"colorscale\": [[0.0, \"#0d0887\"], [0.1111111111111111, \"#46039f\"], [0.2222222222222222, \"#7201a8\"], [0.3333333333333333, \"#9c179e\"], [0.4444444444444444, \"#bd3786\"], [0.5555555555555556, \"#d8576b\"], [0.6666666666666666, \"#ed7953\"], [0.7777777777777778, \"#fb9f3a\"], [0.8888888888888888, \"#fdca26\"], [1.0, \"#f0f921\"]], \"type\": \"histogram2d\"}], \"histogram2dcontour\": [{\"colorbar\": {\"outlinewidth\": 0, \"ticks\": \"\"}, \"colorscale\": [[0.0, \"#0d0887\"], [0.1111111111111111, \"#46039f\"], [0.2222222222222222, \"#7201a8\"], [0.3333333333333333, \"#9c179e\"], [0.4444444444444444, \"#bd3786\"], [0.5555555555555556, \"#d8576b\"], [0.6666666666666666, \"#ed7953\"], [0.7777777777777778, \"#fb9f3a\"], [0.8888888888888888, \"#fdca26\"], [1.0, \"#f0f921\"]], \"type\": \"histogram2dcontour\"}], \"mesh3d\": [{\"colorbar\": {\"outlinewidth\": 0, \"ticks\": \"\"}, \"type\": \"mesh3d\"}], \"parcoords\": [{\"line\": {\"colorbar\": {\"outlinewidth\": 0, \"ticks\": \"\"}}, \"type\": \"parcoords\"}], \"pie\": [{\"automargin\": true, \"type\": \"pie\"}], \"scatter\": [{\"marker\": {\"colorbar\": {\"outlinewidth\": 0, \"ticks\": \"\"}}, \"type\": \"scatter\"}], \"scatter3d\": [{\"line\": {\"colorbar\": {\"outlinewidth\": 0, \"ticks\": \"\"}}, \"marker\": {\"colorbar\": {\"outlinewidth\": 0, \"ticks\": \"\"}}, \"type\": \"scatter3d\"}], \"scattercarpet\": [{\"marker\": {\"colorbar\": {\"outlinewidth\": 0, \"ticks\": \"\"}}, \"type\": \"scattercarpet\"}], \"scattergeo\": [{\"marker\": {\"colorbar\": {\"outlinewidth\": 0, \"ticks\": \"\"}}, \"type\": \"scattergeo\"}], \"scattergl\": [{\"marker\": {\"colorbar\": {\"outlinewidth\": 0, \"ticks\": \"\"}}, \"type\": \"scattergl\"}], \"scattermapbox\": [{\"marker\": {\"colorbar\": {\"outlinewidth\": 0, \"ticks\": \"\"}}, \"type\": \"scattermapbox\"}], \"scatterpolar\": [{\"marker\": {\"colorbar\": {\"outlinewidth\": 0, \"ticks\": \"\"}}, \"type\": \"scatterpolar\"}], \"scatterpolargl\": [{\"marker\": {\"colorbar\": {\"outlinewidth\": 0, \"ticks\": \"\"}}, \"type\": \"scatterpolargl\"}], \"scatterternary\": [{\"marker\": {\"colorbar\": {\"outlinewidth\": 0, \"ticks\": \"\"}}, \"type\": \"scatterternary\"}], \"surface\": [{\"colorbar\": {\"outlinewidth\": 0, \"ticks\": \"\"}, \"colorscale\": [[0.0, \"#0d0887\"], [0.1111111111111111, \"#46039f\"], [0.2222222222222222, \"#7201a8\"], [0.3333333333333333, \"#9c179e\"], [0.4444444444444444, \"#bd3786\"], [0.5555555555555556, \"#d8576b\"], [0.6666666666666666, \"#ed7953\"], [0.7777777777777778, \"#fb9f3a\"], [0.8888888888888888, \"#fdca26\"], [1.0, \"#f0f921\"]], \"type\": \"surface\"}], \"table\": [{\"cells\": {\"fill\": {\"color\": \"#EBF0F8\"}, \"line\": {\"color\": \"white\"}}, \"header\": {\"fill\": {\"color\": \"#C8D4E3\"}, \"line\": {\"color\": \"white\"}}, \"type\": \"table\"}]}, \"layout\": {\"annotationdefaults\": {\"arrowcolor\": \"#2a3f5f\", \"arrowhead\": 0, \"arrowwidth\": 1}, \"coloraxis\": {\"colorbar\": {\"outlinewidth\": 0, \"ticks\": \"\"}}, \"colorscale\": {\"diverging\": [[0, \"#8e0152\"], [0.1, \"#c51b7d\"], [0.2, \"#de77ae\"], [0.3, \"#f1b6da\"], [0.4, \"#fde0ef\"], [0.5, \"#f7f7f7\"], [0.6, \"#e6f5d0\"], [0.7, \"#b8e186\"], [0.8, \"#7fbc41\"], [0.9, \"#4d9221\"], [1, \"#276419\"]], \"sequential\": [[0.0, \"#0d0887\"], [0.1111111111111111, \"#46039f\"], [0.2222222222222222, \"#7201a8\"], [0.3333333333333333, \"#9c179e\"], [0.4444444444444444, \"#bd3786\"], [0.5555555555555556, \"#d8576b\"], [0.6666666666666666, \"#ed7953\"], [0.7777777777777778, \"#fb9f3a\"], [0.8888888888888888, \"#fdca26\"], [1.0, \"#f0f921\"]], \"sequentialminus\": [[0.0, \"#0d0887\"], [0.1111111111111111, \"#46039f\"], [0.2222222222222222, \"#7201a8\"], [0.3333333333333333, \"#9c179e\"], [0.4444444444444444, \"#bd3786\"], [0.5555555555555556, \"#d8576b\"], [0.6666666666666666, \"#ed7953\"], [0.7777777777777778, \"#fb9f3a\"], [0.8888888888888888, \"#fdca26\"], [1.0, \"#f0f921\"]]}, \"colorway\": [\"#636efa\", \"#EF553B\", \"#00cc96\", \"#ab63fa\", \"#FFA15A\", \"#19d3f3\", \"#FF6692\", \"#B6E880\", \"#FF97FF\", \"#FECB52\"], \"font\": {\"color\": \"#2a3f5f\"}, \"geo\": {\"bgcolor\": \"white\", \"lakecolor\": \"white\", \"landcolor\": \"#E5ECF6\", \"showlakes\": true, \"showland\": true, \"subunitcolor\": \"white\"}, \"hoverlabel\": {\"align\": \"left\"}, \"hovermode\": \"closest\", \"mapbox\": {\"style\": \"light\"}, \"paper_bgcolor\": \"white\", \"plot_bgcolor\": \"#E5ECF6\", \"polar\": {\"angularaxis\": {\"gridcolor\": \"white\", \"linecolor\": \"white\", \"ticks\": \"\"}, \"bgcolor\": \"#E5ECF6\", \"radialaxis\": {\"gridcolor\": \"white\", \"linecolor\": \"white\", \"ticks\": \"\"}}, \"scene\": {\"xaxis\": {\"backgroundcolor\": \"#E5ECF6\", \"gridcolor\": \"white\", \"gridwidth\": 2, \"linecolor\": \"white\", \"showbackground\": true, \"ticks\": \"\", \"zerolinecolor\": \"white\"}, \"yaxis\": {\"backgroundcolor\": \"#E5ECF6\", \"gridcolor\": \"white\", \"gridwidth\": 2, \"linecolor\": \"white\", \"showbackground\": true, \"ticks\": \"\", \"zerolinecolor\": \"white\"}, \"zaxis\": {\"backgroundcolor\": \"#E5ECF6\", \"gridcolor\": \"white\", \"gridwidth\": 2, \"linecolor\": \"white\", \"showbackground\": true, \"ticks\": \"\", \"zerolinecolor\": \"white\"}}, \"shapedefaults\": {\"line\": {\"color\": \"#2a3f5f\"}}, \"ternary\": {\"aaxis\": {\"gridcolor\": \"white\", \"linecolor\": \"white\", \"ticks\": \"\"}, \"baxis\": {\"gridcolor\": \"white\", \"linecolor\": \"white\", \"ticks\": \"\"}, \"bgcolor\": \"#E5ECF6\", \"caxis\": {\"gridcolor\": \"white\", \"linecolor\": \"white\", \"ticks\": \"\"}}, \"title\": {\"x\": 0.05}, \"xaxis\": {\"automargin\": true, \"gridcolor\": \"white\", \"linecolor\": \"white\", \"ticks\": \"\", \"title\": {\"standoff\": 15}, \"zerolinecolor\": \"white\", \"zerolinewidth\": 2}, \"yaxis\": {\"automargin\": true, \"gridcolor\": \"white\", \"linecolor\": \"white\", \"ticks\": \"\", \"title\": {\"standoff\": 15}, \"zerolinecolor\": \"white\", \"zerolinewidth\": 2}}}},\n",
              "                        {\"responsive\": true}\n",
              "                    ).then(function(){\n",
              "                            \n",
              "var gd = document.getElementById('c27ad205-8caf-4219-aac9-ecf209227991');\n",
              "var x = new MutationObserver(function (mutations, observer) {{\n",
              "        var display = window.getComputedStyle(gd).display;\n",
              "        if (!display || display === 'none') {{\n",
              "            console.log([gd, 'removed!']);\n",
              "            Plotly.purge(gd);\n",
              "            observer.disconnect();\n",
              "        }}\n",
              "}});\n",
              "\n",
              "// Listen for the removal of the full notebook cells\n",
              "var notebookContainer = gd.closest('#notebook-container');\n",
              "if (notebookContainer) {{\n",
              "    x.observe(notebookContainer, {childList: true});\n",
              "}}\n",
              "\n",
              "// Listen for the clearing of the current output cell\n",
              "var outputEl = gd.closest('.output');\n",
              "if (outputEl) {{\n",
              "    x.observe(outputEl, {childList: true});\n",
              "}}\n",
              "\n",
              "                        })\n",
              "                };\n",
              "                \n",
              "            </script>\n",
              "        </div>\n",
              "</body>\n",
              "</html>"
            ]
          },
          "metadata": {}
        }
      ]
    },
    {
      "cell_type": "code",
      "source": [
        "# Do the same but with Cooling_Load\n",
        "fig = px.scatter_3d(df[['Roof_Area', 'Surface_Area', 'Relative_Compactness', 'Cooling_Load']], x='Roof_Area', y='Surface_Area', z='Relative_Compactness',\n",
        "              color='Cooling_Load', )\n",
        "fig.show()"
      ],
      "metadata": {
        "colab": {
          "base_uri": "https://localhost:8080/",
          "height": 542
        },
        "id": "j9OCQxggun1E",
        "outputId": "cf019908-f734-47d6-f25a-d6c3738faf0e"
      },
      "execution_count": 102,
      "outputs": [
        {
          "output_type": "display_data",
          "data": {
            "text/html": [
              "<html>\n",
              "<head><meta charset=\"utf-8\" /></head>\n",
              "<body>\n",
              "    <div>\n",
              "            <script src=\"https://cdnjs.cloudflare.com/ajax/libs/mathjax/2.7.5/MathJax.js?config=TeX-AMS-MML_SVG\"></script><script type=\"text/javascript\">if (window.MathJax) {MathJax.Hub.Config({SVG: {font: \"STIX-Web\"}});}</script>\n",
              "                <script type=\"text/javascript\">window.PlotlyConfig = {MathJaxConfig: 'local'};</script>\n",
              "        <script src=\"https://cdn.plot.ly/plotly-latest.min.js\"></script>    \n",
              "            <div id=\"6aa05a76-60a7-435a-88f1-0dd12616908c\" class=\"plotly-graph-div\" style=\"height:525px; width:100%;\"></div>\n",
              "            <script type=\"text/javascript\">\n",
              "                \n",
              "                    window.PLOTLYENV=window.PLOTLYENV || {};\n",
              "                    \n",
              "                if (document.getElementById(\"6aa05a76-60a7-435a-88f1-0dd12616908c\")) {\n",
              "                    Plotly.newPlot(\n",
              "                        '6aa05a76-60a7-435a-88f1-0dd12616908c',\n",
              "                        [{\"hoverlabel\": {\"namelength\": 0}, \"hovertemplate\": \"Roof_Area=%{x}<br>Surface_Area=%{y}<br>Relative_Compactness=%{z}<br>Cooling_Load=%{marker.color}\", \"legendgroup\": \"\", \"marker\": {\"color\": [21.33, 21.33, 21.33, 21.33, 28.28, 25.38, 25.16, 29.6, 27.3, 21.97, 23.49, 27.87, 23.77, 21.46, 21.16, 24.93, 37.73, 31.27, 30.93, 39.44, 29.79, 29.68, 29.79, 29.4, 10.9, 11.19, 10.94, 11.17, 11.27, 11.72, 11.29, 11.67, 11.74, 12.05, 11.73, 11.93, 12.4, 12.23, 12.4, 12.14, 16.78, 16.8, 16.75, 16.67, 12.07, 12.22, 12.08, 12.04, 26.47, 26.37, 26.44, 26.29, 32.92, 29.87, 29.58, 34.33, 30.89, 25.6, 27.03, 31.73, 27.31, 24.91, 24.61, 28.51, 41.68, 35.28, 34.43, 43.33, 33.87, 34.07, 34.14, 33.67, 13.43, 13.71, 13.48, 13.7, 13.8, 14.28, 13.87, 14.27, 14.28, 14.61, 14.3, 14.45, 13.9, 13.72, 13.88, 13.65, 19.37, 19.43, 19.34, 19.32, 14.34, 14.5, 14.33, 14.27, 25.95, 25.63, 26.13, 25.89, 32.54, 29.44, 29.36, 34.2, 30.91, 25.63, 27.36, 31.9, 27.38, 25.02, 24.8, 28.79, 41.07, 34.62, 33.87, 42.86, 33.91, 34.07, 34.17, 33.78, 13.39, 13.72, 13.57, 13.79, 13.67, 14.11, 13.8, 14.21, 13.2, 13.54, 13.32, 13.51, 14.86, 14.75, 15.0, 14.74, 19.23, 19.34, 19.32, 19.3, 14.37, 14.57, 14.27, 14.24, 25.68, 26.02, 25.84, 26.14, 34.14, 32.85, 30.08, 29.67, 31.73, 31.01, 25.9, 27.4, 28.68, 27.54, 25.35, 24.93, 43.12, 41.22, 35.1, 34.29, 33.85, 34.11, 34.48, 34.5, 13.6, 13.36, 13.65, 13.49, 14.14, 13.77, 14.3, 13.87, 14.44, 14.27, 14.67, 14.4, 13.46, 13.7, 13.59, 13.83, 19.14, 19.18, 19.37, 19.29, 14.09, 14.23, 14.14, 13.89, 25.91, 25.72, 26.18, 25.87, 29.34, 33.91, 32.83, 29.92, 27.17, 31.76, 31.06, 25.81, 24.61, 28.61, 27.57, 25.16, 34.25, 43.3, 41.86, 35.29, 34.11, 33.62, 33.89, 34.05, 13.2, 13.36, 13.21, 13.53, 13.67, 14.12, 13.79, 14.2, 14.29, 14.49, 14.42, 14.73, 14.86, 14.67, 15.0, 14.83, 19.24, 19.25, 19.42, 19.48, 14.37, 14.34, 14.28, 14.47, 25.64, 25.98, 25.88, 26.18, 29.82, 29.52, 34.45, 33.01, 25.82, 27.33, 32.04, 31.28, 25.11, 24.77, 28.88, 27.69, 34.99, 34.18, 43.14, 41.26, 34.25, 34.35, 33.64, 33.88, 13.65, 13.44, 13.72, 13.5, 14.18, 13.75, 14.26, 13.89, 14.55, 14.28, 14.46, 14.39, 14.54, 14.81, 14.65, 14.87, 19.24, 19.18, 19.26, 19.29, 14.24, 13.97, 13.99, 14.15, 29.79, 29.79, 29.28, 29.49, 36.12, 33.17, 32.71, 37.58, 33.98, 28.61, 30.12, 34.73, 30.17, 27.84, 27.25, 31.39, 43.8, 37.81, 36.85, 45.52, 36.85, 37.58, 37.45, 36.62, 15.19, 15.5, 15.28, 15.5, 15.42, 15.85, 15.44, 15.81, 15.21, 15.63, 15.48, 15.78, 16.39, 16.27, 16.39, 16.19, 21.13, 21.19, 21.09, 21.08, 15.77, 15.95, 15.77, 15.76, 29.62, 29.69, 30.18, 30.02, 35.56, 32.64, 32.77, 37.72, 33.37, 27.89, 29.9, 34.52, 28.27, 26.96, 26.72, 29.88, 43.86, 37.41, 36.77, 45.97, 36.87, 37.35, 37.28, 36.81, 14.73, 15.1, 15.18, 15.44, 14.91, 15.4, 14.94, 15.32, 15.52, 15.85, 15.66, 15.99, 15.89, 15.85, 16.22, 15.87, 20.47, 20.56, 20.48, 20.43, 15.32, 15.64, 15.14, 15.3, 29.43, 29.78, 30.1, 30.19, 36.35, 35.1, 32.83, 32.46, 33.52, 32.93, 28.38, 29.82, 28.77, 27.76, 26.95, 26.41, 45.13, 43.66, 37.76, 36.87, 36.07, 36.44, 37.28, 37.29, 14.49, 13.79, 14.72, 14.76, 14.92, 14.74, 15.57, 14.94, 14.92, 14.38, 15.44, 15.17, 15.53, 15.8, 16.14, 16.26, 19.87, 20.03, 20.46, 20.28, 14.89, 14.96, 14.89, 14.35, 29.61, 29.59, 30.19, 30.12, 32.12, 37.12, 36.16, 33.16, 29.45, 34.19, 33.93, 28.31, 26.3, 29.43, 28.76, 27.34, 36.26, 45.48, 44.16, 37.26, 37.2, 36.76, 37.05, 37.51, 14.92, 15.24, 15.03, 15.35, 14.67, 15.09, 15.2, 15.64, 15.37, 15.73, 15.83, 16.13, 15.95, 15.59, 16.17, 16.14, 19.65, 19.76, 20.37, 19.9, 15.41, 15.56, 15.07, 15.38, 29.53, 29.77, 30.0, 30.2, 32.25, 32.0, 37.19, 35.62, 28.02, 29.43, 34.15, 33.47, 26.53, 26.08, 29.31, 28.14, 37.54, 36.66, 45.28, 43.73, 36.93, 37.01, 35.73, 36.15, 14.48, 14.58, 14.81, 14.03, 15.27, 14.71, 15.23, 14.97, 15.14, 14.97, 15.22, 14.6, 15.83, 16.03, 15.8, 16.06, 20.13, 20.01, 20.19, 20.29, 15.19, 14.61, 14.61, 14.75, 33.37, 33.34, 32.83, 33.04, 39.28, 36.38, 35.92, 40.99, 35.99, 30.66, 31.7, 36.73, 31.71, 29.13, 28.99, 33.54, 45.29, 39.07, 38.35, 46.94, 39.55, 40.85, 40.63, 39.48, 16.94, 17.25, 17.03, 17.25, 17.1, 17.51, 17.12, 17.47, 16.5, 17.0, 16.87, 17.2, 18.14, 18.03, 18.14, 17.95, 22.72, 22.73, 22.72, 22.53, 17.2, 17.21, 17.15, 17.2, 32.96, 33.13, 33.94, 33.78, 38.35, 35.39, 34.94, 40.66, 35.48, 30.53, 32.28, 36.86, 30.34, 27.93, 28.95, 32.92, 45.59, 39.41, 38.84, 48.03, 39.48, 40.4, 40.47, 39.7, 16.43, 16.93, 16.99, 17.03, 16.77, 17.37, 17.27, 17.51, 16.44, 17.01, 17.23, 17.22, 17.85, 17.89, 18.36, 18.15, 21.72, 22.07, 22.09, 21.93, 17.36, 17.38, 16.86, 16.99, 32.78, 33.24, 33.86, 34.0, 37.26, 35.04, 33.82, 33.31, 35.22, 34.7, 30.11, 31.6, 32.43, 30.65, 29.77, 29.64, 46.44, 44.18, 38.81, 38.23, 38.17, 38.48, 39.66, 40.1, 16.08, 15.39, 16.57, 16.6, 16.11, 15.47, 16.7, 16.1, 16.35, 15.84, 16.99, 17.02, 17.04, 17.63, 18.1, 18.22, 20.78, 20.72, 21.54, 21.53, 16.9, 17.14, 16.56, 16.0, 32.95, 33.06, 33.95, 33.88, 33.98, 39.92, 39.22, 36.1, 31.53, 36.2, 36.21, 31.0, 28.2, 32.35, 31.14, 28.43, 38.33, 47.59, 46.23, 39.56, 40.36, 39.67, 39.85, 40.77, 16.61, 16.74, 16.9, 17.32, 16.85, 17.2, 17.23, 17.74, 16.81, 16.88, 16.9, 17.39, 17.86, 17.82, 18.36, 18.24, 21.68, 21.54, 22.25, 22.49, 17.1, 16.79, 16.58, 16.79, 32.88, 33.23, 33.76, 34.01, 33.94, 33.14, 38.79, 37.27, 29.69, 31.2, 36.26, 35.71, 29.93, 29.56, 33.84, 32.54, 38.56, 37.7, 47.01, 44.87, 39.37, 39.8, 37.79, 38.18, 16.69, 16.62, 16.94, 16.7, 15.59, 14.58, 15.33, 15.31, 16.63, 15.87, 16.54, 16.74, 17.64, 17.79, 17.55, 18.06, 20.82, 20.21, 20.71, 21.4, 16.88, 17.11, 16.61, 16.03], \"coloraxis\": \"coloraxis\", \"symbol\": \"circle\"}, \"mode\": \"markers\", \"name\": \"\", \"scene\": \"scene\", \"showlegend\": false, \"type\": \"scatter3d\", \"x\": [110.25, 110.25, 110.25, 110.25, 122.5, 122.5, 122.5, 122.5, 147.0, 147.0, 147.0, 147.0, 147.0, 147.0, 147.0, 147.0, 147.0, 147.0, 147.0, 147.0, 122.5, 122.5, 122.5, 122.5, 220.5, 220.5, 220.5, 220.5, 220.5, 220.5, 220.5, 220.5, 220.5, 220.5, 220.5, 220.5, 220.5, 220.5, 220.5, 220.5, 220.5, 220.5, 220.5, 220.5, 220.5, 220.5, 220.5, 220.5, 110.25, 110.25, 110.25, 110.25, 122.5, 122.5, 122.5, 122.5, 147.0, 147.0, 147.0, 147.0, 147.0, 147.0, 147.0, 147.0, 147.0, 147.0, 147.0, 147.0, 122.5, 122.5, 122.5, 122.5, 220.5, 220.5, 220.5, 220.5, 220.5, 220.5, 220.5, 220.5, 220.5, 220.5, 220.5, 220.5, 220.5, 220.5, 220.5, 220.5, 220.5, 220.5, 220.5, 220.5, 220.5, 220.5, 220.5, 220.5, 110.25, 110.25, 110.25, 110.25, 122.5, 122.5, 122.5, 122.5, 147.0, 147.0, 147.0, 147.0, 147.0, 147.0, 147.0, 147.0, 147.0, 147.0, 147.0, 147.0, 122.5, 122.5, 122.5, 122.5, 220.5, 220.5, 220.5, 220.5, 220.5, 220.5, 220.5, 220.5, 220.5, 220.5, 220.5, 220.5, 220.5, 220.5, 220.5, 220.5, 220.5, 220.5, 220.5, 220.5, 220.5, 220.5, 220.5, 220.5, 110.25, 110.25, 110.25, 110.25, 122.5, 122.5, 122.5, 122.5, 147.0, 147.0, 147.0, 147.0, 147.0, 147.0, 147.0, 147.0, 147.0, 147.0, 147.0, 147.0, 122.5, 122.5, 122.5, 122.5, 220.5, 220.5, 220.5, 220.5, 220.5, 220.5, 220.5, 220.5, 220.5, 220.5, 220.5, 220.5, 220.5, 220.5, 220.5, 220.5, 220.5, 220.5, 220.5, 220.5, 220.5, 220.5, 220.5, 220.5, 110.25, 110.25, 110.25, 110.25, 122.5, 122.5, 122.5, 122.5, 147.0, 147.0, 147.0, 147.0, 147.0, 147.0, 147.0, 147.0, 147.0, 147.0, 147.0, 147.0, 122.5, 122.5, 122.5, 122.5, 220.5, 220.5, 220.5, 220.5, 220.5, 220.5, 220.5, 220.5, 220.5, 220.5, 220.5, 220.5, 220.5, 220.5, 220.5, 220.5, 220.5, 220.5, 220.5, 220.5, 220.5, 220.5, 220.5, 220.5, 110.25, 110.25, 110.25, 110.25, 122.5, 122.5, 122.5, 122.5, 147.0, 147.0, 147.0, 147.0, 147.0, 147.0, 147.0, 147.0, 147.0, 147.0, 147.0, 147.0, 122.5, 122.5, 122.5, 122.5, 220.5, 220.5, 220.5, 220.5, 220.5, 220.5, 220.5, 220.5, 220.5, 220.5, 220.5, 220.5, 220.5, 220.5, 220.5, 220.5, 220.5, 220.5, 220.5, 220.5, 220.5, 220.5, 220.5, 220.5, 110.25, 110.25, 110.25, 110.25, 122.5, 122.5, 122.5, 122.5, 147.0, 147.0, 147.0, 147.0, 147.0, 147.0, 147.0, 147.0, 147.0, 147.0, 147.0, 147.0, 122.5, 122.5, 122.5, 122.5, 220.5, 220.5, 220.5, 220.5, 220.5, 220.5, 220.5, 220.5, 220.5, 220.5, 220.5, 220.5, 220.5, 220.5, 220.5, 220.5, 220.5, 220.5, 220.5, 220.5, 220.5, 220.5, 220.5, 220.5, 110.25, 110.25, 110.25, 110.25, 122.5, 122.5, 122.5, 122.5, 147.0, 147.0, 147.0, 147.0, 147.0, 147.0, 147.0, 147.0, 147.0, 147.0, 147.0, 147.0, 122.5, 122.5, 122.5, 122.5, 220.5, 220.5, 220.5, 220.5, 220.5, 220.5, 220.5, 220.5, 220.5, 220.5, 220.5, 220.5, 220.5, 220.5, 220.5, 220.5, 220.5, 220.5, 220.5, 220.5, 220.5, 220.5, 220.5, 220.5, 110.25, 110.25, 110.25, 110.25, 122.5, 122.5, 122.5, 122.5, 147.0, 147.0, 147.0, 147.0, 147.0, 147.0, 147.0, 147.0, 147.0, 147.0, 147.0, 147.0, 122.5, 122.5, 122.5, 122.5, 220.5, 220.5, 220.5, 220.5, 220.5, 220.5, 220.5, 220.5, 220.5, 220.5, 220.5, 220.5, 220.5, 220.5, 220.5, 220.5, 220.5, 220.5, 220.5, 220.5, 220.5, 220.5, 220.5, 220.5, 110.25, 110.25, 110.25, 110.25, 122.5, 122.5, 122.5, 122.5, 147.0, 147.0, 147.0, 147.0, 147.0, 147.0, 147.0, 147.0, 147.0, 147.0, 147.0, 147.0, 122.5, 122.5, 122.5, 122.5, 220.5, 220.5, 220.5, 220.5, 220.5, 220.5, 220.5, 220.5, 220.5, 220.5, 220.5, 220.5, 220.5, 220.5, 220.5, 220.5, 220.5, 220.5, 220.5, 220.5, 220.5, 220.5, 220.5, 220.5, 110.25, 110.25, 110.25, 110.25, 122.5, 122.5, 122.5, 122.5, 147.0, 147.0, 147.0, 147.0, 147.0, 147.0, 147.0, 147.0, 147.0, 147.0, 147.0, 147.0, 122.5, 122.5, 122.5, 122.5, 220.5, 220.5, 220.5, 220.5, 220.5, 220.5, 220.5, 220.5, 220.5, 220.5, 220.5, 220.5, 220.5, 220.5, 220.5, 220.5, 220.5, 220.5, 220.5, 220.5, 220.5, 220.5, 220.5, 220.5, 110.25, 110.25, 110.25, 110.25, 122.5, 122.5, 122.5, 122.5, 147.0, 147.0, 147.0, 147.0, 147.0, 147.0, 147.0, 147.0, 147.0, 147.0, 147.0, 147.0, 122.5, 122.5, 122.5, 122.5, 220.5, 220.5, 220.5, 220.5, 220.5, 220.5, 220.5, 220.5, 220.5, 220.5, 220.5, 220.5, 220.5, 220.5, 220.5, 220.5, 220.5, 220.5, 220.5, 220.5, 220.5, 220.5, 220.5, 220.5, 110.25, 110.25, 110.25, 110.25, 122.5, 122.5, 122.5, 122.5, 147.0, 147.0, 147.0, 147.0, 147.0, 147.0, 147.0, 147.0, 147.0, 147.0, 147.0, 147.0, 122.5, 122.5, 122.5, 122.5, 220.5, 220.5, 220.5, 220.5, 220.5, 220.5, 220.5, 220.5, 220.5, 220.5, 220.5, 220.5, 220.5, 220.5, 220.5, 220.5, 220.5, 220.5, 220.5, 220.5, 220.5, 220.5, 220.5, 220.5, 110.25, 110.25, 110.25, 110.25, 122.5, 122.5, 122.5, 122.5, 147.0, 147.0, 147.0, 147.0, 147.0, 147.0, 147.0, 147.0, 147.0, 147.0, 147.0, 147.0, 122.5, 122.5, 122.5, 122.5, 220.5, 220.5, 220.5, 220.5, 220.5, 220.5, 220.5, 220.5, 220.5, 220.5, 220.5, 220.5, 220.5, 220.5, 220.5, 220.5, 220.5, 220.5, 220.5, 220.5, 220.5, 220.5, 220.5, 220.5, 110.25, 110.25, 110.25, 110.25, 122.5, 122.5, 122.5, 122.5, 147.0, 147.0, 147.0, 147.0, 147.0, 147.0, 147.0, 147.0, 147.0, 147.0, 147.0, 147.0, 122.5, 122.5, 122.5, 122.5, 220.5, 220.5, 220.5, 220.5, 220.5, 220.5, 220.5, 220.5, 220.5, 220.5, 220.5, 220.5, 220.5, 220.5, 220.5, 220.5, 220.5, 220.5, 220.5, 220.5, 220.5, 220.5, 220.5, 220.5, 110.25, 110.25, 110.25, 110.25, 122.5, 122.5, 122.5, 122.5, 147.0, 147.0, 147.0, 147.0, 147.0, 147.0, 147.0, 147.0, 147.0, 147.0, 147.0, 147.0, 122.5, 122.5, 122.5, 122.5, 220.5, 220.5, 220.5, 220.5, 220.5, 220.5, 220.5, 220.5, 220.5, 220.5, 220.5, 220.5, 220.5, 220.5, 220.5, 220.5, 220.5, 220.5, 220.5, 220.5, 220.5, 220.5, 220.5, 220.5], \"y\": [514.5, 514.5, 514.5, 514.5, 563.5, 563.5, 563.5, 563.5, 588.0, 588.0, 588.0, 588.0, 612.5, 612.5, 612.5, 612.5, 637.0, 637.0, 637.0, 637.0, 661.5, 661.5, 661.5, 661.5, 686.0, 686.0, 686.0, 686.0, 710.5, 710.5, 710.5, 710.5, 735.0, 735.0, 735.0, 735.0, 759.5, 759.5, 759.5, 759.5, 784.0, 784.0, 784.0, 784.0, 808.5, 808.5, 808.5, 808.5, 514.5, 514.5, 514.5, 514.5, 563.5, 563.5, 563.5, 563.5, 588.0, 588.0, 588.0, 588.0, 612.5, 612.5, 612.5, 612.5, 637.0, 637.0, 637.0, 637.0, 661.5, 661.5, 661.5, 661.5, 686.0, 686.0, 686.0, 686.0, 710.5, 710.5, 710.5, 710.5, 735.0, 735.0, 735.0, 735.0, 759.5, 759.5, 759.5, 759.5, 784.0, 784.0, 784.0, 784.0, 808.5, 808.5, 808.5, 808.5, 514.5, 514.5, 514.5, 514.5, 563.5, 563.5, 563.5, 563.5, 588.0, 588.0, 588.0, 588.0, 612.5, 612.5, 612.5, 612.5, 637.0, 637.0, 637.0, 637.0, 661.5, 661.5, 661.5, 661.5, 686.0, 686.0, 686.0, 686.0, 710.5, 710.5, 710.5, 710.5, 735.0, 735.0, 735.0, 735.0, 759.5, 759.5, 759.5, 759.5, 784.0, 784.0, 784.0, 784.0, 808.5, 808.5, 808.5, 808.5, 514.5, 514.5, 514.5, 514.5, 563.5, 563.5, 563.5, 563.5, 588.0, 588.0, 588.0, 588.0, 612.5, 612.5, 612.5, 612.5, 637.0, 637.0, 637.0, 637.0, 661.5, 661.5, 661.5, 661.5, 686.0, 686.0, 686.0, 686.0, 710.5, 710.5, 710.5, 710.5, 735.0, 735.0, 735.0, 735.0, 759.5, 759.5, 759.5, 759.5, 784.0, 784.0, 784.0, 784.0, 808.5, 808.5, 808.5, 808.5, 514.5, 514.5, 514.5, 514.5, 563.5, 563.5, 563.5, 563.5, 588.0, 588.0, 588.0, 588.0, 612.5, 612.5, 612.5, 612.5, 637.0, 637.0, 637.0, 637.0, 661.5, 661.5, 661.5, 661.5, 686.0, 686.0, 686.0, 686.0, 710.5, 710.5, 710.5, 710.5, 735.0, 735.0, 735.0, 735.0, 759.5, 759.5, 759.5, 759.5, 784.0, 784.0, 784.0, 784.0, 808.5, 808.5, 808.5, 808.5, 514.5, 514.5, 514.5, 514.5, 563.5, 563.5, 563.5, 563.5, 588.0, 588.0, 588.0, 588.0, 612.5, 612.5, 612.5, 612.5, 637.0, 637.0, 637.0, 637.0, 661.5, 661.5, 661.5, 661.5, 686.0, 686.0, 686.0, 686.0, 710.5, 710.5, 710.5, 710.5, 735.0, 735.0, 735.0, 735.0, 759.5, 759.5, 759.5, 759.5, 784.0, 784.0, 784.0, 784.0, 808.5, 808.5, 808.5, 808.5, 514.5, 514.5, 514.5, 514.5, 563.5, 563.5, 563.5, 563.5, 588.0, 588.0, 588.0, 588.0, 612.5, 612.5, 612.5, 612.5, 637.0, 637.0, 637.0, 637.0, 661.5, 661.5, 661.5, 661.5, 686.0, 686.0, 686.0, 686.0, 710.5, 710.5, 710.5, 710.5, 735.0, 735.0, 735.0, 735.0, 759.5, 759.5, 759.5, 759.5, 784.0, 784.0, 784.0, 784.0, 808.5, 808.5, 808.5, 808.5, 514.5, 514.5, 514.5, 514.5, 563.5, 563.5, 563.5, 563.5, 588.0, 588.0, 588.0, 588.0, 612.5, 612.5, 612.5, 612.5, 637.0, 637.0, 637.0, 637.0, 661.5, 661.5, 661.5, 661.5, 686.0, 686.0, 686.0, 686.0, 710.5, 710.5, 710.5, 710.5, 735.0, 735.0, 735.0, 735.0, 759.5, 759.5, 759.5, 759.5, 784.0, 784.0, 784.0, 784.0, 808.5, 808.5, 808.5, 808.5, 514.5, 514.5, 514.5, 514.5, 563.5, 563.5, 563.5, 563.5, 588.0, 588.0, 588.0, 588.0, 612.5, 612.5, 612.5, 612.5, 637.0, 637.0, 637.0, 637.0, 661.5, 661.5, 661.5, 661.5, 686.0, 686.0, 686.0, 686.0, 710.5, 710.5, 710.5, 710.5, 735.0, 735.0, 735.0, 735.0, 759.5, 759.5, 759.5, 759.5, 784.0, 784.0, 784.0, 784.0, 808.5, 808.5, 808.5, 808.5, 514.5, 514.5, 514.5, 514.5, 563.5, 563.5, 563.5, 563.5, 588.0, 588.0, 588.0, 588.0, 612.5, 612.5, 612.5, 612.5, 637.0, 637.0, 637.0, 637.0, 661.5, 661.5, 661.5, 661.5, 686.0, 686.0, 686.0, 686.0, 710.5, 710.5, 710.5, 710.5, 735.0, 735.0, 735.0, 735.0, 759.5, 759.5, 759.5, 759.5, 784.0, 784.0, 784.0, 784.0, 808.5, 808.5, 808.5, 808.5, 514.5, 514.5, 514.5, 514.5, 563.5, 563.5, 563.5, 563.5, 588.0, 588.0, 588.0, 588.0, 612.5, 612.5, 612.5, 612.5, 637.0, 637.0, 637.0, 637.0, 661.5, 661.5, 661.5, 661.5, 686.0, 686.0, 686.0, 686.0, 710.5, 710.5, 710.5, 710.5, 735.0, 735.0, 735.0, 735.0, 759.5, 759.5, 759.5, 759.5, 784.0, 784.0, 784.0, 784.0, 808.5, 808.5, 808.5, 808.5, 514.5, 514.5, 514.5, 514.5, 563.5, 563.5, 563.5, 563.5, 588.0, 588.0, 588.0, 588.0, 612.5, 612.5, 612.5, 612.5, 637.0, 637.0, 637.0, 637.0, 661.5, 661.5, 661.5, 661.5, 686.0, 686.0, 686.0, 686.0, 710.5, 710.5, 710.5, 710.5, 735.0, 735.0, 735.0, 735.0, 759.5, 759.5, 759.5, 759.5, 784.0, 784.0, 784.0, 784.0, 808.5, 808.5, 808.5, 808.5, 514.5, 514.5, 514.5, 514.5, 563.5, 563.5, 563.5, 563.5, 588.0, 588.0, 588.0, 588.0, 612.5, 612.5, 612.5, 612.5, 637.0, 637.0, 637.0, 637.0, 661.5, 661.5, 661.5, 661.5, 686.0, 686.0, 686.0, 686.0, 710.5, 710.5, 710.5, 710.5, 735.0, 735.0, 735.0, 735.0, 759.5, 759.5, 759.5, 759.5, 784.0, 784.0, 784.0, 784.0, 808.5, 808.5, 808.5, 808.5, 514.5, 514.5, 514.5, 514.5, 563.5, 563.5, 563.5, 563.5, 588.0, 588.0, 588.0, 588.0, 612.5, 612.5, 612.5, 612.5, 637.0, 637.0, 637.0, 637.0, 661.5, 661.5, 661.5, 661.5, 686.0, 686.0, 686.0, 686.0, 710.5, 710.5, 710.5, 710.5, 735.0, 735.0, 735.0, 735.0, 759.5, 759.5, 759.5, 759.5, 784.0, 784.0, 784.0, 784.0, 808.5, 808.5, 808.5, 808.5, 514.5, 514.5, 514.5, 514.5, 563.5, 563.5, 563.5, 563.5, 588.0, 588.0, 588.0, 588.0, 612.5, 612.5, 612.5, 612.5, 637.0, 637.0, 637.0, 637.0, 661.5, 661.5, 661.5, 661.5, 686.0, 686.0, 686.0, 686.0, 710.5, 710.5, 710.5, 710.5, 735.0, 735.0, 735.0, 735.0, 759.5, 759.5, 759.5, 759.5, 784.0, 784.0, 784.0, 784.0, 808.5, 808.5, 808.5, 808.5, 514.5, 514.5, 514.5, 514.5, 563.5, 563.5, 563.5, 563.5, 588.0, 588.0, 588.0, 588.0, 612.5, 612.5, 612.5, 612.5, 637.0, 637.0, 637.0, 637.0, 661.5, 661.5, 661.5, 661.5, 686.0, 686.0, 686.0, 686.0, 710.5, 710.5, 710.5, 710.5, 735.0, 735.0, 735.0, 735.0, 759.5, 759.5, 759.5, 759.5, 784.0, 784.0, 784.0, 784.0, 808.5, 808.5, 808.5, 808.5], \"z\": [0.98, 0.98, 0.98, 0.98, 0.9, 0.9, 0.9, 0.9, 0.86, 0.86, 0.86, 0.86, 0.82, 0.82, 0.82, 0.82, 0.79, 0.79, 0.79, 0.79, 0.76, 0.76, 0.76, 0.76, 0.74, 0.74, 0.74, 0.74, 0.71, 0.71, 0.71, 0.71, 0.69, 0.69, 0.69, 0.69, 0.66, 0.66, 0.66, 0.66, 0.64, 0.64, 0.64, 0.64, 0.62, 0.62, 0.62, 0.62, 0.98, 0.98, 0.98, 0.98, 0.9, 0.9, 0.9, 0.9, 0.86, 0.86, 0.86, 0.86, 0.82, 0.82, 0.82, 0.82, 0.79, 0.79, 0.79, 0.79, 0.76, 0.76, 0.76, 0.76, 0.74, 0.74, 0.74, 0.74, 0.71, 0.71, 0.71, 0.71, 0.69, 0.69, 0.69, 0.69, 0.66, 0.66, 0.66, 0.66, 0.64, 0.64, 0.64, 0.64, 0.62, 0.62, 0.62, 0.62, 0.98, 0.98, 0.98, 0.98, 0.9, 0.9, 0.9, 0.9, 0.86, 0.86, 0.86, 0.86, 0.82, 0.82, 0.82, 0.82, 0.79, 0.79, 0.79, 0.79, 0.76, 0.76, 0.76, 0.76, 0.74, 0.74, 0.74, 0.74, 0.71, 0.71, 0.71, 0.71, 0.69, 0.69, 0.69, 0.69, 0.66, 0.66, 0.66, 0.66, 0.64, 0.64, 0.64, 0.64, 0.62, 0.62, 0.62, 0.62, 0.98, 0.98, 0.98, 0.98, 0.9, 0.9, 0.9, 0.9, 0.86, 0.86, 0.86, 0.86, 0.82, 0.82, 0.82, 0.82, 0.79, 0.79, 0.79, 0.79, 0.76, 0.76, 0.76, 0.76, 0.74, 0.74, 0.74, 0.74, 0.71, 0.71, 0.71, 0.71, 0.69, 0.69, 0.69, 0.69, 0.66, 0.66, 0.66, 0.66, 0.64, 0.64, 0.64, 0.64, 0.62, 0.62, 0.62, 0.62, 0.98, 0.98, 0.98, 0.98, 0.9, 0.9, 0.9, 0.9, 0.86, 0.86, 0.86, 0.86, 0.82, 0.82, 0.82, 0.82, 0.79, 0.79, 0.79, 0.79, 0.76, 0.76, 0.76, 0.76, 0.74, 0.74, 0.74, 0.74, 0.71, 0.71, 0.71, 0.71, 0.69, 0.69, 0.69, 0.69, 0.66, 0.66, 0.66, 0.66, 0.64, 0.64, 0.64, 0.64, 0.62, 0.62, 0.62, 0.62, 0.98, 0.98, 0.98, 0.98, 0.9, 0.9, 0.9, 0.9, 0.86, 0.86, 0.86, 0.86, 0.82, 0.82, 0.82, 0.82, 0.79, 0.79, 0.79, 0.79, 0.76, 0.76, 0.76, 0.76, 0.74, 0.74, 0.74, 0.74, 0.71, 0.71, 0.71, 0.71, 0.69, 0.69, 0.69, 0.69, 0.66, 0.66, 0.66, 0.66, 0.64, 0.64, 0.64, 0.64, 0.62, 0.62, 0.62, 0.62, 0.98, 0.98, 0.98, 0.98, 0.9, 0.9, 0.9, 0.9, 0.86, 0.86, 0.86, 0.86, 0.82, 0.82, 0.82, 0.82, 0.79, 0.79, 0.79, 0.79, 0.76, 0.76, 0.76, 0.76, 0.74, 0.74, 0.74, 0.74, 0.71, 0.71, 0.71, 0.71, 0.69, 0.69, 0.69, 0.69, 0.66, 0.66, 0.66, 0.66, 0.64, 0.64, 0.64, 0.64, 0.62, 0.62, 0.62, 0.62, 0.98, 0.98, 0.98, 0.98, 0.9, 0.9, 0.9, 0.9, 0.86, 0.86, 0.86, 0.86, 0.82, 0.82, 0.82, 0.82, 0.79, 0.79, 0.79, 0.79, 0.76, 0.76, 0.76, 0.76, 0.74, 0.74, 0.74, 0.74, 0.71, 0.71, 0.71, 0.71, 0.69, 0.69, 0.69, 0.69, 0.66, 0.66, 0.66, 0.66, 0.64, 0.64, 0.64, 0.64, 0.62, 0.62, 0.62, 0.62, 0.98, 0.98, 0.98, 0.98, 0.9, 0.9, 0.9, 0.9, 0.86, 0.86, 0.86, 0.86, 0.82, 0.82, 0.82, 0.82, 0.79, 0.79, 0.79, 0.79, 0.76, 0.76, 0.76, 0.76, 0.74, 0.74, 0.74, 0.74, 0.71, 0.71, 0.71, 0.71, 0.69, 0.69, 0.69, 0.69, 0.66, 0.66, 0.66, 0.66, 0.64, 0.64, 0.64, 0.64, 0.62, 0.62, 0.62, 0.62, 0.98, 0.98, 0.98, 0.98, 0.9, 0.9, 0.9, 0.9, 0.86, 0.86, 0.86, 0.86, 0.82, 0.82, 0.82, 0.82, 0.79, 0.79, 0.79, 0.79, 0.76, 0.76, 0.76, 0.76, 0.74, 0.74, 0.74, 0.74, 0.71, 0.71, 0.71, 0.71, 0.69, 0.69, 0.69, 0.69, 0.66, 0.66, 0.66, 0.66, 0.64, 0.64, 0.64, 0.64, 0.62, 0.62, 0.62, 0.62, 0.98, 0.98, 0.98, 0.98, 0.9, 0.9, 0.9, 0.9, 0.86, 0.86, 0.86, 0.86, 0.82, 0.82, 0.82, 0.82, 0.79, 0.79, 0.79, 0.79, 0.76, 0.76, 0.76, 0.76, 0.74, 0.74, 0.74, 0.74, 0.71, 0.71, 0.71, 0.71, 0.69, 0.69, 0.69, 0.69, 0.66, 0.66, 0.66, 0.66, 0.64, 0.64, 0.64, 0.64, 0.62, 0.62, 0.62, 0.62, 0.98, 0.98, 0.98, 0.98, 0.9, 0.9, 0.9, 0.9, 0.86, 0.86, 0.86, 0.86, 0.82, 0.82, 0.82, 0.82, 0.79, 0.79, 0.79, 0.79, 0.76, 0.76, 0.76, 0.76, 0.74, 0.74, 0.74, 0.74, 0.71, 0.71, 0.71, 0.71, 0.69, 0.69, 0.69, 0.69, 0.66, 0.66, 0.66, 0.66, 0.64, 0.64, 0.64, 0.64, 0.62, 0.62, 0.62, 0.62, 0.98, 0.98, 0.98, 0.98, 0.9, 0.9, 0.9, 0.9, 0.86, 0.86, 0.86, 0.86, 0.82, 0.82, 0.82, 0.82, 0.79, 0.79, 0.79, 0.79, 0.76, 0.76, 0.76, 0.76, 0.74, 0.74, 0.74, 0.74, 0.71, 0.71, 0.71, 0.71, 0.69, 0.69, 0.69, 0.69, 0.66, 0.66, 0.66, 0.66, 0.64, 0.64, 0.64, 0.64, 0.62, 0.62, 0.62, 0.62, 0.98, 0.98, 0.98, 0.98, 0.9, 0.9, 0.9, 0.9, 0.86, 0.86, 0.86, 0.86, 0.82, 0.82, 0.82, 0.82, 0.79, 0.79, 0.79, 0.79, 0.76, 0.76, 0.76, 0.76, 0.74, 0.74, 0.74, 0.74, 0.71, 0.71, 0.71, 0.71, 0.69, 0.69, 0.69, 0.69, 0.66, 0.66, 0.66, 0.66, 0.64, 0.64, 0.64, 0.64, 0.62, 0.62, 0.62, 0.62, 0.98, 0.98, 0.98, 0.98, 0.9, 0.9, 0.9, 0.9, 0.86, 0.86, 0.86, 0.86, 0.82, 0.82, 0.82, 0.82, 0.79, 0.79, 0.79, 0.79, 0.76, 0.76, 0.76, 0.76, 0.74, 0.74, 0.74, 0.74, 0.71, 0.71, 0.71, 0.71, 0.69, 0.69, 0.69, 0.69, 0.66, 0.66, 0.66, 0.66, 0.64, 0.64, 0.64, 0.64, 0.62, 0.62, 0.62, 0.62, 0.98, 0.98, 0.98, 0.98, 0.9, 0.9, 0.9, 0.9, 0.86, 0.86, 0.86, 0.86, 0.82, 0.82, 0.82, 0.82, 0.79, 0.79, 0.79, 0.79, 0.76, 0.76, 0.76, 0.76, 0.74, 0.74, 0.74, 0.74, 0.71, 0.71, 0.71, 0.71, 0.69, 0.69, 0.69, 0.69, 0.66, 0.66, 0.66, 0.66, 0.64, 0.64, 0.64, 0.64, 0.62, 0.62, 0.62, 0.62]}],\n",
              "                        {\"coloraxis\": {\"colorbar\": {\"title\": {\"text\": \"Cooling_Load\"}}, \"colorscale\": [[0.0, \"#0d0887\"], [0.1111111111111111, \"#46039f\"], [0.2222222222222222, \"#7201a8\"], [0.3333333333333333, \"#9c179e\"], [0.4444444444444444, \"#bd3786\"], [0.5555555555555556, \"#d8576b\"], [0.6666666666666666, \"#ed7953\"], [0.7777777777777778, \"#fb9f3a\"], [0.8888888888888888, \"#fdca26\"], [1.0, \"#f0f921\"]]}, \"legend\": {\"tracegroupgap\": 0}, \"margin\": {\"t\": 60}, \"scene\": {\"domain\": {\"x\": [0.0, 1.0], \"y\": [0.0, 1.0]}, \"xaxis\": {\"title\": {\"text\": \"Roof_Area\"}}, \"yaxis\": {\"title\": {\"text\": \"Surface_Area\"}}, \"zaxis\": {\"title\": {\"text\": \"Relative_Compactness\"}}}, \"template\": {\"data\": {\"bar\": [{\"error_x\": {\"color\": \"#2a3f5f\"}, \"error_y\": {\"color\": \"#2a3f5f\"}, \"marker\": {\"line\": {\"color\": \"#E5ECF6\", \"width\": 0.5}}, \"type\": \"bar\"}], \"barpolar\": [{\"marker\": {\"line\": {\"color\": \"#E5ECF6\", \"width\": 0.5}}, \"type\": \"barpolar\"}], \"carpet\": [{\"aaxis\": {\"endlinecolor\": \"#2a3f5f\", \"gridcolor\": \"white\", \"linecolor\": \"white\", \"minorgridcolor\": \"white\", \"startlinecolor\": \"#2a3f5f\"}, \"baxis\": {\"endlinecolor\": \"#2a3f5f\", \"gridcolor\": \"white\", \"linecolor\": \"white\", \"minorgridcolor\": \"white\", \"startlinecolor\": \"#2a3f5f\"}, \"type\": \"carpet\"}], \"choropleth\": [{\"colorbar\": {\"outlinewidth\": 0, \"ticks\": \"\"}, \"type\": \"choropleth\"}], \"contour\": [{\"colorbar\": {\"outlinewidth\": 0, \"ticks\": \"\"}, \"colorscale\": [[0.0, \"#0d0887\"], [0.1111111111111111, \"#46039f\"], [0.2222222222222222, \"#7201a8\"], [0.3333333333333333, \"#9c179e\"], [0.4444444444444444, \"#bd3786\"], [0.5555555555555556, \"#d8576b\"], [0.6666666666666666, \"#ed7953\"], [0.7777777777777778, \"#fb9f3a\"], [0.8888888888888888, \"#fdca26\"], [1.0, \"#f0f921\"]], \"type\": \"contour\"}], \"contourcarpet\": [{\"colorbar\": {\"outlinewidth\": 0, \"ticks\": \"\"}, \"type\": \"contourcarpet\"}], \"heatmap\": [{\"colorbar\": {\"outlinewidth\": 0, \"ticks\": \"\"}, \"colorscale\": [[0.0, \"#0d0887\"], [0.1111111111111111, \"#46039f\"], [0.2222222222222222, \"#7201a8\"], [0.3333333333333333, \"#9c179e\"], [0.4444444444444444, \"#bd3786\"], [0.5555555555555556, \"#d8576b\"], [0.6666666666666666, \"#ed7953\"], [0.7777777777777778, \"#fb9f3a\"], [0.8888888888888888, \"#fdca26\"], [1.0, \"#f0f921\"]], \"type\": \"heatmap\"}], \"heatmapgl\": [{\"colorbar\": {\"outlinewidth\": 0, \"ticks\": \"\"}, \"colorscale\": [[0.0, \"#0d0887\"], [0.1111111111111111, \"#46039f\"], [0.2222222222222222, \"#7201a8\"], [0.3333333333333333, \"#9c179e\"], [0.4444444444444444, \"#bd3786\"], [0.5555555555555556, \"#d8576b\"], [0.6666666666666666, \"#ed7953\"], [0.7777777777777778, \"#fb9f3a\"], [0.8888888888888888, \"#fdca26\"], [1.0, \"#f0f921\"]], \"type\": \"heatmapgl\"}], \"histogram\": [{\"marker\": {\"colorbar\": {\"outlinewidth\": 0, \"ticks\": \"\"}}, \"type\": \"histogram\"}], \"histogram2d\": [{\"colorbar\": {\"outlinewidth\": 0, \"ticks\": \"\"}, \"colorscale\": [[0.0, \"#0d0887\"], [0.1111111111111111, \"#46039f\"], [0.2222222222222222, \"#7201a8\"], [0.3333333333333333, \"#9c179e\"], [0.4444444444444444, \"#bd3786\"], [0.5555555555555556, \"#d8576b\"], [0.6666666666666666, \"#ed7953\"], [0.7777777777777778, \"#fb9f3a\"], [0.8888888888888888, \"#fdca26\"], [1.0, \"#f0f921\"]], \"type\": \"histogram2d\"}], \"histogram2dcontour\": [{\"colorbar\": {\"outlinewidth\": 0, \"ticks\": \"\"}, \"colorscale\": [[0.0, \"#0d0887\"], [0.1111111111111111, \"#46039f\"], [0.2222222222222222, \"#7201a8\"], [0.3333333333333333, \"#9c179e\"], [0.4444444444444444, \"#bd3786\"], [0.5555555555555556, \"#d8576b\"], [0.6666666666666666, \"#ed7953\"], [0.7777777777777778, \"#fb9f3a\"], [0.8888888888888888, \"#fdca26\"], [1.0, \"#f0f921\"]], \"type\": \"histogram2dcontour\"}], \"mesh3d\": [{\"colorbar\": {\"outlinewidth\": 0, \"ticks\": \"\"}, \"type\": \"mesh3d\"}], \"parcoords\": [{\"line\": {\"colorbar\": {\"outlinewidth\": 0, \"ticks\": \"\"}}, \"type\": \"parcoords\"}], \"pie\": [{\"automargin\": true, \"type\": \"pie\"}], \"scatter\": [{\"marker\": {\"colorbar\": {\"outlinewidth\": 0, \"ticks\": \"\"}}, \"type\": \"scatter\"}], \"scatter3d\": [{\"line\": {\"colorbar\": {\"outlinewidth\": 0, \"ticks\": \"\"}}, \"marker\": {\"colorbar\": {\"outlinewidth\": 0, \"ticks\": \"\"}}, \"type\": \"scatter3d\"}], \"scattercarpet\": [{\"marker\": {\"colorbar\": {\"outlinewidth\": 0, \"ticks\": \"\"}}, \"type\": \"scattercarpet\"}], \"scattergeo\": [{\"marker\": {\"colorbar\": {\"outlinewidth\": 0, \"ticks\": \"\"}}, \"type\": \"scattergeo\"}], \"scattergl\": [{\"marker\": {\"colorbar\": {\"outlinewidth\": 0, \"ticks\": \"\"}}, \"type\": \"scattergl\"}], \"scattermapbox\": [{\"marker\": {\"colorbar\": {\"outlinewidth\": 0, \"ticks\": \"\"}}, \"type\": \"scattermapbox\"}], \"scatterpolar\": [{\"marker\": {\"colorbar\": {\"outlinewidth\": 0, \"ticks\": \"\"}}, \"type\": \"scatterpolar\"}], \"scatterpolargl\": [{\"marker\": {\"colorbar\": {\"outlinewidth\": 0, \"ticks\": \"\"}}, \"type\": \"scatterpolargl\"}], \"scatterternary\": [{\"marker\": {\"colorbar\": {\"outlinewidth\": 0, \"ticks\": \"\"}}, \"type\": \"scatterternary\"}], \"surface\": [{\"colorbar\": {\"outlinewidth\": 0, \"ticks\": \"\"}, \"colorscale\": [[0.0, \"#0d0887\"], [0.1111111111111111, \"#46039f\"], [0.2222222222222222, \"#7201a8\"], [0.3333333333333333, \"#9c179e\"], [0.4444444444444444, \"#bd3786\"], [0.5555555555555556, \"#d8576b\"], [0.6666666666666666, \"#ed7953\"], [0.7777777777777778, \"#fb9f3a\"], [0.8888888888888888, \"#fdca26\"], [1.0, \"#f0f921\"]], \"type\": \"surface\"}], \"table\": [{\"cells\": {\"fill\": {\"color\": \"#EBF0F8\"}, \"line\": {\"color\": \"white\"}}, \"header\": {\"fill\": {\"color\": \"#C8D4E3\"}, \"line\": {\"color\": \"white\"}}, \"type\": \"table\"}]}, \"layout\": {\"annotationdefaults\": {\"arrowcolor\": \"#2a3f5f\", \"arrowhead\": 0, \"arrowwidth\": 1}, \"coloraxis\": {\"colorbar\": {\"outlinewidth\": 0, \"ticks\": \"\"}}, \"colorscale\": {\"diverging\": [[0, \"#8e0152\"], [0.1, \"#c51b7d\"], [0.2, \"#de77ae\"], [0.3, \"#f1b6da\"], [0.4, \"#fde0ef\"], [0.5, \"#f7f7f7\"], [0.6, \"#e6f5d0\"], [0.7, \"#b8e186\"], [0.8, \"#7fbc41\"], [0.9, \"#4d9221\"], [1, \"#276419\"]], \"sequential\": [[0.0, \"#0d0887\"], [0.1111111111111111, \"#46039f\"], [0.2222222222222222, \"#7201a8\"], [0.3333333333333333, \"#9c179e\"], [0.4444444444444444, \"#bd3786\"], [0.5555555555555556, \"#d8576b\"], [0.6666666666666666, \"#ed7953\"], [0.7777777777777778, \"#fb9f3a\"], [0.8888888888888888, \"#fdca26\"], [1.0, \"#f0f921\"]], \"sequentialminus\": [[0.0, \"#0d0887\"], [0.1111111111111111, \"#46039f\"], [0.2222222222222222, \"#7201a8\"], [0.3333333333333333, \"#9c179e\"], [0.4444444444444444, \"#bd3786\"], [0.5555555555555556, \"#d8576b\"], [0.6666666666666666, \"#ed7953\"], [0.7777777777777778, \"#fb9f3a\"], [0.8888888888888888, \"#fdca26\"], [1.0, \"#f0f921\"]]}, \"colorway\": [\"#636efa\", \"#EF553B\", \"#00cc96\", \"#ab63fa\", \"#FFA15A\", \"#19d3f3\", \"#FF6692\", \"#B6E880\", \"#FF97FF\", \"#FECB52\"], \"font\": {\"color\": \"#2a3f5f\"}, \"geo\": {\"bgcolor\": \"white\", \"lakecolor\": \"white\", \"landcolor\": \"#E5ECF6\", \"showlakes\": true, \"showland\": true, \"subunitcolor\": \"white\"}, \"hoverlabel\": {\"align\": \"left\"}, \"hovermode\": \"closest\", \"mapbox\": {\"style\": \"light\"}, \"paper_bgcolor\": \"white\", \"plot_bgcolor\": \"#E5ECF6\", \"polar\": {\"angularaxis\": {\"gridcolor\": \"white\", \"linecolor\": \"white\", \"ticks\": \"\"}, \"bgcolor\": \"#E5ECF6\", \"radialaxis\": {\"gridcolor\": \"white\", \"linecolor\": \"white\", \"ticks\": \"\"}}, \"scene\": {\"xaxis\": {\"backgroundcolor\": \"#E5ECF6\", \"gridcolor\": \"white\", \"gridwidth\": 2, \"linecolor\": \"white\", \"showbackground\": true, \"ticks\": \"\", \"zerolinecolor\": \"white\"}, \"yaxis\": {\"backgroundcolor\": \"#E5ECF6\", \"gridcolor\": \"white\", \"gridwidth\": 2, \"linecolor\": \"white\", \"showbackground\": true, \"ticks\": \"\", \"zerolinecolor\": \"white\"}, \"zaxis\": {\"backgroundcolor\": \"#E5ECF6\", \"gridcolor\": \"white\", \"gridwidth\": 2, \"linecolor\": \"white\", \"showbackground\": true, \"ticks\": \"\", \"zerolinecolor\": \"white\"}}, \"shapedefaults\": {\"line\": {\"color\": \"#2a3f5f\"}}, \"ternary\": {\"aaxis\": {\"gridcolor\": \"white\", \"linecolor\": \"white\", \"ticks\": \"\"}, \"baxis\": {\"gridcolor\": \"white\", \"linecolor\": \"white\", \"ticks\": \"\"}, \"bgcolor\": \"#E5ECF6\", \"caxis\": {\"gridcolor\": \"white\", \"linecolor\": \"white\", \"ticks\": \"\"}}, \"title\": {\"x\": 0.05}, \"xaxis\": {\"automargin\": true, \"gridcolor\": \"white\", \"linecolor\": \"white\", \"ticks\": \"\", \"title\": {\"standoff\": 15}, \"zerolinecolor\": \"white\", \"zerolinewidth\": 2}, \"yaxis\": {\"automargin\": true, \"gridcolor\": \"white\", \"linecolor\": \"white\", \"ticks\": \"\", \"title\": {\"standoff\": 15}, \"zerolinecolor\": \"white\", \"zerolinewidth\": 2}}}},\n",
              "                        {\"responsive\": true}\n",
              "                    ).then(function(){\n",
              "                            \n",
              "var gd = document.getElementById('6aa05a76-60a7-435a-88f1-0dd12616908c');\n",
              "var x = new MutationObserver(function (mutations, observer) {{\n",
              "        var display = window.getComputedStyle(gd).display;\n",
              "        if (!display || display === 'none') {{\n",
              "            console.log([gd, 'removed!']);\n",
              "            Plotly.purge(gd);\n",
              "            observer.disconnect();\n",
              "        }}\n",
              "}});\n",
              "\n",
              "// Listen for the removal of the full notebook cells\n",
              "var notebookContainer = gd.closest('#notebook-container');\n",
              "if (notebookContainer) {{\n",
              "    x.observe(notebookContainer, {childList: true});\n",
              "}}\n",
              "\n",
              "// Listen for the clearing of the current output cell\n",
              "var outputEl = gd.closest('.output');\n",
              "if (outputEl) {{\n",
              "    x.observe(outputEl, {childList: true});\n",
              "}}\n",
              "\n",
              "                        })\n",
              "                };\n",
              "                \n",
              "            </script>\n",
              "        </div>\n",
              "</body>\n",
              "</html>"
            ]
          },
          "metadata": {}
        }
      ]
    },
    {
      "cell_type": "markdown",
      "source": [
        "For both scatter plots, we can see that both the heating and cooling loads create a distinct clusters in this space. Even though these two features have continuous values, we can still see that high values are clustered in one region and low values are clustered in the opposite region. This information can be used in determing the best model to use for machine learning to improve the metrics. (Note that the plots may seem to only have few data points because some points overlap)\n",
        "\n",
        "When viewed from certain angles, the values of the features may appear to have good linear correlation but this might be due to the fact that this dataset is generated by performing computer simulations and those values for features are selected intentionally."
      ],
      "metadata": {
        "id": "ygnJHzf5u1X0"
      }
    },
    {
      "cell_type": "code",
      "source": [
        "# Scatter plot\n",
        "sns.scatterplot(df.Heating_Load, df.Cooling_Load, hue = df.Overall_Height)"
      ],
      "metadata": {
        "colab": {
          "base_uri": "https://localhost:8080/",
          "height": 372
        },
        "id": "Z0IJyZKnwrRC",
        "outputId": "15f916ec-4247-4e60-bda3-0fd14f8f120f"
      },
      "execution_count": 108,
      "outputs": [
        {
          "output_type": "stream",
          "name": "stderr",
          "text": [
            "/usr/local/lib/python3.7/dist-packages/seaborn/_decorators.py:43: FutureWarning:\n",
            "\n",
            "Pass the following variables as keyword args: x, y. From version 0.12, the only valid positional argument will be `data`, and passing other arguments without an explicit keyword will result in an error or misinterpretation.\n",
            "\n"
          ]
        },
        {
          "output_type": "execute_result",
          "data": {
            "text/plain": [
              "<matplotlib.axes._subplots.AxesSubplot at 0x7f41e837a090>"
            ]
          },
          "metadata": {},
          "execution_count": 108
        },
        {
          "output_type": "display_data",
          "data": {
            "image/png": "[encoded data removed]",
            "text/plain": [
              "<Figure size 432x288 with 1 Axes>"
            ]
          },
          "metadata": {
            "needs_background": "light"
          }
        }
      ]
    },
    {
      "cell_type": "markdown",
      "source": [
        "When the two targets are set as the axes of the scatterplot and using the Overall_Height, which is the column with the highest correlation with those two columns, we can see that lower heights are greatly correlated with lower Cooling and Heating loads. "
      ],
      "metadata": {
        "id": "vZxaDCLQxtwY"
      }
    },
    {
      "cell_type": "markdown",
      "source": [
        "# Notes on the Dataset\n",
        "Despite the problem being a regression problem, from the exploratory data visualizations, the dataset seems to also be good for classification problems by setting a threshold to classify a good and bad heating/cooling loads. This can also be used to improve the overall model. (something like classifying the features and based on the classification, apply the appropriate regression model)"
      ],
      "metadata": {
        "id": "pCCXwEVwyo1N"
      }
    }
  ]
}